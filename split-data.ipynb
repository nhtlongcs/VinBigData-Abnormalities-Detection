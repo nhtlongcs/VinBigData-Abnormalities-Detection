{
 "metadata": {
  "language_info": {
   "codemirror_mode": {
    "name": "ipython",
    "version": 3
   },
   "file_extension": ".py",
   "mimetype": "text/x-python",
   "name": "python",
   "nbconvert_exporter": "python",
   "pygments_lexer": "ipython3",
   "version": "3.8.5-final"
  },
  "orig_nbformat": 2,
  "kernelspec": {
   "name": "python3",
   "display_name": "Python 3.8.5 64-bit ('pytorch': conda)",
   "metadata": {
    "interpreter": {
     "hash": "1725e4b86ff19338a53d4ef169514e253a1b0f8de876b4a2efd8908323f84c9f"
    }
   }
  }
 },
 "nbformat": 4,
 "nbformat_minor": 2,
 "cells": [
  {
   "cell_type": "code",
   "execution_count": 52,
   "metadata": {},
   "outputs": [],
   "source": [
    "import pandas as pd\n",
    "import numpy as np\n",
    "import os\n",
    "from sklearn.model_selection import GroupKFold"
   ]
  },
  {
   "cell_type": "code",
   "execution_count": 66,
   "metadata": {},
   "outputs": [],
   "source": [
    "SAVE_DIR        = '.cache/'\n",
    "TRAIN_CSV       = './train.csv'\n",
    "IGNORE_CLASSES  = [14]"
   ]
  },
  {
   "cell_type": "code",
   "execution_count": 42,
   "metadata": {},
   "outputs": [
    {
     "output_type": "execute_result",
     "data": {
      "text/plain": [
       "                           image_id          class_name  class_id rad_id  \\\n",
       "0  50a418190bc3fb1ef1633bf9678929b3          No finding        14    R11   \n",
       "1  21a10246a5ec7af151081d0cd6d65dc9          No finding        14     R7   \n",
       "2  9a5094b2563a1ef3ff50dc5c7ff71345        Cardiomegaly         3    R10   \n",
       "3  051132a778e61a86eb147c7c6f564dfe  Aortic enlargement         0    R10   \n",
       "4  063319de25ce7edb9b1c6b8881290140          No finding        14    R10   \n",
       "\n",
       "    x_min   y_min   x_max   y_max  width  height  \n",
       "0     NaN     NaN     NaN     NaN   2332    2580  \n",
       "1     NaN     NaN     NaN     NaN   2954    3159  \n",
       "2   691.0  1375.0  1653.0  1831.0   2080    2336  \n",
       "3  1264.0   743.0  1611.0  1019.0   2304    2880  \n",
       "4     NaN     NaN     NaN     NaN   2540    3072  "
      ],
      "text/html": "<div>\n<style scoped>\n    .dataframe tbody tr th:only-of-type {\n        vertical-align: middle;\n    }\n\n    .dataframe tbody tr th {\n        vertical-align: top;\n    }\n\n    .dataframe thead th {\n        text-align: right;\n    }\n</style>\n<table border=\"1\" class=\"dataframe\">\n  <thead>\n    <tr style=\"text-align: right;\">\n      <th></th>\n      <th>image_id</th>\n      <th>class_name</th>\n      <th>class_id</th>\n      <th>rad_id</th>\n      <th>x_min</th>\n      <th>y_min</th>\n      <th>x_max</th>\n      <th>y_max</th>\n      <th>width</th>\n      <th>height</th>\n    </tr>\n  </thead>\n  <tbody>\n    <tr>\n      <th>0</th>\n      <td>50a418190bc3fb1ef1633bf9678929b3</td>\n      <td>No finding</td>\n      <td>14</td>\n      <td>R11</td>\n      <td>NaN</td>\n      <td>NaN</td>\n      <td>NaN</td>\n      <td>NaN</td>\n      <td>2332</td>\n      <td>2580</td>\n    </tr>\n    <tr>\n      <th>1</th>\n      <td>21a10246a5ec7af151081d0cd6d65dc9</td>\n      <td>No finding</td>\n      <td>14</td>\n      <td>R7</td>\n      <td>NaN</td>\n      <td>NaN</td>\n      <td>NaN</td>\n      <td>NaN</td>\n      <td>2954</td>\n      <td>3159</td>\n    </tr>\n    <tr>\n      <th>2</th>\n      <td>9a5094b2563a1ef3ff50dc5c7ff71345</td>\n      <td>Cardiomegaly</td>\n      <td>3</td>\n      <td>R10</td>\n      <td>691.0</td>\n      <td>1375.0</td>\n      <td>1653.0</td>\n      <td>1831.0</td>\n      <td>2080</td>\n      <td>2336</td>\n    </tr>\n    <tr>\n      <th>3</th>\n      <td>051132a778e61a86eb147c7c6f564dfe</td>\n      <td>Aortic enlargement</td>\n      <td>0</td>\n      <td>R10</td>\n      <td>1264.0</td>\n      <td>743.0</td>\n      <td>1611.0</td>\n      <td>1019.0</td>\n      <td>2304</td>\n      <td>2880</td>\n    </tr>\n    <tr>\n      <th>4</th>\n      <td>063319de25ce7edb9b1c6b8881290140</td>\n      <td>No finding</td>\n      <td>14</td>\n      <td>R10</td>\n      <td>NaN</td>\n      <td>NaN</td>\n      <td>NaN</td>\n      <td>NaN</td>\n      <td>2540</td>\n      <td>3072</td>\n    </tr>\n  </tbody>\n</table>\n</div>"
     },
     "metadata": {},
     "execution_count": 42
    }
   ],
   "source": [
    "train_df = pd.read_csv(TRAIN_CSV)\n",
    "train_df.head()"
   ]
  },
  {
   "cell_type": "code",
   "execution_count": 41,
   "metadata": {},
   "outputs": [],
   "source": [
    "def split_df_Kfold(df: pd.DataFrame, ignore_classes: list = IGNORE_CLASSES) -> pd.DataFrame:\n",
    "    '''\n",
    "    \n",
    "    '''\n",
    "    df = df.copy()\n",
    "\n",
    "    for ignore_c in ignore_classes:\n",
    "        df = df.loc[df.class_id != ignore_c]\n",
    "\n",
    "    df = df.reset_index()\n",
    "\n",
    "    gkf = GroupKFold(n_splits=5)\n",
    "    df[\"fold\"] = -1\n",
    "    for fold, (train_idx, val_idx) in enumerate(\n",
    "        gkf.split(df, groups=df.image_id.tolist())\n",
    "    ):\n",
    "        df.loc[val_idx, \"fold\"] = fold\n",
    "\n",
    "    return df\n"
   ]
  },
  {
   "cell_type": "code",
   "execution_count": 60,
   "metadata": {},
   "outputs": [],
   "source": [
    "def get_train_val(df: pd.DataFrame, fold: int = 0) -> tuple:\n",
    "    '''\n",
    "    '''\n",
    "    assert fold in list(df.fold.unique()), \"fold index not available\"\n",
    "    train_files = []\n",
    "    val_files   = []\n",
    "    val_files += list(df[df.fold==fold].image_id.unique())\n",
    "    train_files += list(df[df.fold!=fold].image_id.unique())\n",
    "\n",
    "    return train_files, val_files\n",
    "\n",
    "def save_split_df(df : pd.DataFrame, save_dir = '.cache') -> None:\n",
    "    try:\n",
    "        os.makedirs(os.path.join(save_dir, 'train'))\n",
    "        os.makedirs(os.path.join(save_dir, 'val'))\n",
    "    except:\n",
    "        pass\n",
    "    for fold in list(df.fold.unique()):\n",
    "        train, val = get_train_val(df = df, fold = fold)\n",
    "        train_df = df.loc[df.image_id.isin(train)]\n",
    "        val_df = df.loc[df.image_id.isin(val)]\n",
    "        train_df.to_csv(os.path.join(save_dir,'train', f'{fold}.csv'), index=False)\n",
    "        val_df.to_csv(os.path.join(save_dir,'val', f'{fold}.csv'), index=False)"
   ]
  },
  {
   "cell_type": "code",
   "execution_count": 61,
   "metadata": {},
   "outputs": [
    {
     "output_type": "execute_result",
     "data": {
      "text/plain": [
       "   index                          image_id          class_name  class_id  \\\n",
       "0      2  9a5094b2563a1ef3ff50dc5c7ff71345        Cardiomegaly         3   \n",
       "1      3  051132a778e61a86eb147c7c6f564dfe  Aortic enlargement         0   \n",
       "2      5  1c32170b4af4ce1a3030eb8167753b06  Pleural thickening        11   \n",
       "3      6  0c7a38f293d5f5e4846aa4ca6db4daf1                 ILD         5   \n",
       "4      7  47ed17dcb2cbeec15182ed335a8b5a9e         Nodule/Mass         8   \n",
       "\n",
       "  rad_id   x_min   y_min   x_max   y_max  width  height  fold  \n",
       "0    R10   691.0  1375.0  1653.0  1831.0   2080    2336     3  \n",
       "1    R10  1264.0   743.0  1611.0  1019.0   2304    2880     2  \n",
       "2     R9   627.0   357.0   947.0   433.0   2540    3072     4  \n",
       "3    R17  1347.0   245.0  2188.0  2169.0   2285    2555     2  \n",
       "4     R9   557.0  2352.0   675.0  2484.0   2568    3353     4  "
      ],
      "text/html": "<div>\n<style scoped>\n    .dataframe tbody tr th:only-of-type {\n        vertical-align: middle;\n    }\n\n    .dataframe tbody tr th {\n        vertical-align: top;\n    }\n\n    .dataframe thead th {\n        text-align: right;\n    }\n</style>\n<table border=\"1\" class=\"dataframe\">\n  <thead>\n    <tr style=\"text-align: right;\">\n      <th></th>\n      <th>index</th>\n      <th>image_id</th>\n      <th>class_name</th>\n      <th>class_id</th>\n      <th>rad_id</th>\n      <th>x_min</th>\n      <th>y_min</th>\n      <th>x_max</th>\n      <th>y_max</th>\n      <th>width</th>\n      <th>height</th>\n      <th>fold</th>\n    </tr>\n  </thead>\n  <tbody>\n    <tr>\n      <th>0</th>\n      <td>2</td>\n      <td>9a5094b2563a1ef3ff50dc5c7ff71345</td>\n      <td>Cardiomegaly</td>\n      <td>3</td>\n      <td>R10</td>\n      <td>691.0</td>\n      <td>1375.0</td>\n      <td>1653.0</td>\n      <td>1831.0</td>\n      <td>2080</td>\n      <td>2336</td>\n      <td>3</td>\n    </tr>\n    <tr>\n      <th>1</th>\n      <td>3</td>\n      <td>051132a778e61a86eb147c7c6f564dfe</td>\n      <td>Aortic enlargement</td>\n      <td>0</td>\n      <td>R10</td>\n      <td>1264.0</td>\n      <td>743.0</td>\n      <td>1611.0</td>\n      <td>1019.0</td>\n      <td>2304</td>\n      <td>2880</td>\n      <td>2</td>\n    </tr>\n    <tr>\n      <th>2</th>\n      <td>5</td>\n      <td>1c32170b4af4ce1a3030eb8167753b06</td>\n      <td>Pleural thickening</td>\n      <td>11</td>\n      <td>R9</td>\n      <td>627.0</td>\n      <td>357.0</td>\n      <td>947.0</td>\n      <td>433.0</td>\n      <td>2540</td>\n      <td>3072</td>\n      <td>4</td>\n    </tr>\n    <tr>\n      <th>3</th>\n      <td>6</td>\n      <td>0c7a38f293d5f5e4846aa4ca6db4daf1</td>\n      <td>ILD</td>\n      <td>5</td>\n      <td>R17</td>\n      <td>1347.0</td>\n      <td>245.0</td>\n      <td>2188.0</td>\n      <td>2169.0</td>\n      <td>2285</td>\n      <td>2555</td>\n      <td>2</td>\n    </tr>\n    <tr>\n      <th>4</th>\n      <td>7</td>\n      <td>47ed17dcb2cbeec15182ed335a8b5a9e</td>\n      <td>Nodule/Mass</td>\n      <td>8</td>\n      <td>R9</td>\n      <td>557.0</td>\n      <td>2352.0</td>\n      <td>675.0</td>\n      <td>2484.0</td>\n      <td>2568</td>\n      <td>3353</td>\n      <td>4</td>\n    </tr>\n  </tbody>\n</table>\n</div>"
     },
     "metadata": {},
     "execution_count": 61
    }
   ],
   "source": [
    "splited_df = split_df_Kfold(train_df)\n",
    "splited_df.head()"
   ]
  },
  {
   "cell_type": "code",
   "execution_count": 67,
   "metadata": {},
   "outputs": [
    {
     "output_type": "execute_result",
     "data": {
      "text/plain": [
       "(   index                          image_id          class_name  class_id  \\\n",
       " 0      2  9a5094b2563a1ef3ff50dc5c7ff71345        Cardiomegaly         3   \n",
       " 1      3  051132a778e61a86eb147c7c6f564dfe  Aortic enlargement         0   \n",
       " 2      5  1c32170b4af4ce1a3030eb8167753b06  Pleural thickening        11   \n",
       " 3      6  0c7a38f293d5f5e4846aa4ca6db4daf1                 ILD         5   \n",
       " 4      7  47ed17dcb2cbeec15182ed335a8b5a9e         Nodule/Mass         8   \n",
       " \n",
       "   rad_id   x_min   y_min   x_max   y_max  width  height  fold  \n",
       " 0    R10   691.0  1375.0  1653.0  1831.0   2080    2336     3  \n",
       " 1    R10  1264.0   743.0  1611.0  1019.0   2304    2880     2  \n",
       " 2     R9   627.0   357.0   947.0   433.0   2540    3072     4  \n",
       " 3    R17  1347.0   245.0  2188.0  2169.0   2285    2555     2  \n",
       " 4     R9   557.0  2352.0   675.0  2484.0   2568    3353     4  ,\n",
       "    index                          image_id          class_name  class_id  \\\n",
       " 0     10  7c1add6833d5f0102b0d3619a1682a64        Lung Opacity         7   \n",
       " 1     18  5da264775732004f1b724b660138854a  Aortic enlargement         0   \n",
       " 2     37  d7aea6f37597df566725da73655edcc2        Infiltration         6   \n",
       " 3     41  04bb8bd7ee6f88a16623fe5c6dd4da91    Pleural effusion        10   \n",
       " 4     53  222b7757f55bee221e7aba69fc9928d0  Aortic enlargement         0   \n",
       " \n",
       "   rad_id   x_min   y_min   x_max   y_max  width  height  fold  \n",
       " 0    R10   600.0  1332.0   903.0  1523.0   2944    3014     1  \n",
       " 1     R9  1635.0   673.0  1978.0  1151.0   3072    3072     1  \n",
       " 2     R8  1768.0  1137.0  2346.0  2020.0   2594    3395     1  \n",
       " 3    R10   655.0  1188.0  1354.0  2049.0   3320    2623     1  \n",
       " 4    R10  1433.0   792.0  1699.0  1164.0   2540    3072     1  )"
      ]
     },
     "metadata": {},
     "execution_count": 67
    }
   ],
   "source": [
    "save_split_df(df = splited_df, save_dir = SAVE_DIR)\n",
    "pd.read_csv(f'{SAVE_DIR}train/1.csv').head(), pd.read_csv(f'{SAVE_DIR}val/1.csv').head()"
   ]
  }
 ]
}