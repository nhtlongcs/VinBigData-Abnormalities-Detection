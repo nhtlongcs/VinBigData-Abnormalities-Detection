{
 "cells": [
  {
   "cell_type": "markdown",
   "metadata": {},
   "source": [
    "## Weighted Box Fusion\n",
    "\n",
    "- Use this to remove overlapping bounding boxes\n",
    "- https://www.kaggle.com/c/vinbigdata-chest-xray-abnormalities-detection/discussion/208468\n",
    "- Input: .csv file needed to be processed\n",
    "- Output: .csv file with non-overlapping boxes"
   ]
  },
  {
   "cell_type": "code",
   "execution_count": null,
   "metadata": {},
   "outputs": [],
   "source": [
    "import numpy as np\n",
    "import pandas as pd\n",
    "\n",
    "from tqdm import tqdm\n",
    "from ensemble_boxes import weighted_boxes_fusion\n",
    "\n",
    "%matplotlib inline\n",
    "from matplotlib import pyplot as plt"
   ]
  },
  {
   "cell_type": "code",
   "execution_count": null,
   "metadata": {},
   "outputs": [],
   "source": [
    "IOU_THRESH      = 0.5\n",
    "SKIP_THRESH     = 0.0001\n",
    "\n",
    "CSV_TRAIN           = './train.csv'\n",
    "CSV_TRAIN_OUTNAME   = './train_512_wbf.csv'"
   ]
  },
  {
   "cell_type": "code",
   "execution_count": null,
   "metadata": {
    "scrolled": true
   },
   "outputs": [],
   "source": [
    "df = pd.read_csv(CSV_TRAIN)\n",
    "df.head(5)"
   ]
  },
  {
   "cell_type": "code",
   "execution_count": null,
   "metadata": {},
   "outputs": [],
   "source": [
    "obj_list = [\n",
    "    'Aortic enlargement', \n",
    "    'Atelectasis', \n",
    "    'Calcification',\n",
    "    'Cardiomegaly',\n",
    "    'Consolidation',\n",
    "    'ILD',\n",
    "    'Infiltration',\n",
    "    'Lung Opacity',\n",
    "    'Nodule/Mass',\n",
    "    'Other lesion',\n",
    "    'Pleural effusion',\n",
    "    'Pleural thickening',\n",
    "    'Pneumothorax',\n",
    "    'Pulmonary fibrosis',\n",
    "  ]"
   ]
  },
  {
   "cell_type": "code",
   "execution_count": null,
   "metadata": {},
   "outputs": [],
   "source": [
    "df = df[df[\"class_id\"] != 14]\n",
    "\n",
    "results = []\n",
    "image_ids = df[\"image_id\"].unique()\n",
    "\n",
    "for image_id in tqdm(image_ids, total=len(image_ids)):\n",
    "\n",
    "    # All annotations for the current image.\n",
    "    data = df[df[\"image_id\"] == image_id]\n",
    "    data = data.reset_index(drop=True)\n",
    "\n",
    "    width = data['width'][0]\n",
    "    height = data['height'][0]\n",
    "    \n",
    "\n",
    "    annotations = {}\n",
    "    weights = []\n",
    "\n",
    "    # WBF expects the coordinates in 0-1 range.\n",
    "    max_value = data.iloc[:, 4:].values.max()\n",
    "    data.loc[:, [\"x_min\", \"y_min\", \"x_max\", \"y_max\"]] = data.iloc[:, 4:] / max_value\n",
    "\n",
    "    # Loop through all of the annotations\n",
    "    for idx, row in data.iterrows():\n",
    "\n",
    "        rad_id = row[\"rad_id\"]\n",
    "\n",
    "        if rad_id not in annotations:\n",
    "            annotations[rad_id] = {\n",
    "                \"boxes_list\": [],\n",
    "                \"scores_list\": [],\n",
    "                \"labels_list\": [],\n",
    "            }\n",
    "\n",
    "            # We consider all of the radiologists as equal.\n",
    "            weights.append(1.0) \n",
    "\n",
    "        annotations[rad_id][\"boxes_list\"].append(\n",
    "            [row[\"x_min\"], row[\"y_min\"], row[\"x_max\"], row[\"y_max\"]]\n",
    "        )\n",
    "        annotations[rad_id][\"scores_list\"].append(1.0)\n",
    "        annotations[rad_id][\"labels_list\"].append(row[\"class_id\"])\n",
    "\n",
    "    boxes_list = []\n",
    "    scores_list = []\n",
    "    labels_list = []\n",
    "\n",
    "    for annotator in annotations.keys():\n",
    "        boxes_list.append(annotations[annotator][\"boxes_list\"])\n",
    "        scores_list.append(annotations[annotator][\"scores_list\"])\n",
    "        labels_list.append(annotations[annotator][\"labels_list\"])\n",
    "\n",
    "    # Calculate WBF\n",
    "    boxes, scores, labels = weighted_boxes_fusion(\n",
    "        boxes_list,\n",
    "        scores_list,\n",
    "        labels_list,\n",
    "        weights=weights,\n",
    "        iou_thr=IOU_THRESH,\n",
    "        skip_box_thr=SKIP_THRESH,\n",
    "    )\n",
    "\n",
    "    for idx, box in enumerate(boxes):\n",
    "        results.append(\n",
    "            {\n",
    "                \"image_id\": image_id,\n",
    "                \"class_name\": obj_list[int(labels[idx])],\n",
    "                \"class_id\": int(labels[idx]),\n",
    "                \"rad_id\": 'wbf',\n",
    "                \"x_min\": int(box[0]*max_value),\n",
    "                \"y_min\": int(box[1]*max_value),\n",
    "                \"x_max\": int(box[2]*max_value),\n",
    "                \"y_max\": int(box[3]*max_value),\n",
    "                \"width\": width,\n",
    "                \"height\": height,\n",
    "            }\n",
    "        )\n",
    "\n",
    "results = pd.DataFrame(results)\n",
    "results.to_csv(CSV_TRAIN_OUTNAME, index = False)"
   ]
  },
  {
   "cell_type": "code",
   "execution_count": null,
   "metadata": {},
   "outputs": [],
   "source": [
    "print(f\"Number of original boxes : {len(df)}\")\n",
    "print(f\"Number of boxes (after removing overlappings): {len(results)}\")"
   ]
  },
  {
   "cell_type": "code",
   "execution_count": null,
   "metadata": {},
   "outputs": [],
   "source": [
    "df = pd.read_csv(CSV_TRAIN_OUTNAME)\n",
    "df.head(5)"
   ]
  }
 ],
 "metadata": {
  "kernelspec": {
   "display_name": "Python 3",
   "language": "python",
   "name": "python3"
  },
  "language_info": {
   "codemirror_mode": {
    "name": "ipython",
    "version": 3
   },
   "file_extension": ".py",
   "mimetype": "text/x-python",
   "name": "python",
   "nbconvert_exporter": "python",
   "pygments_lexer": "ipython3",
   "version": "3.8.5"
  }
 },
 "nbformat": 4,
 "nbformat_minor": 4
}
