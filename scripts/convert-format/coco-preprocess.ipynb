{
 "cells": [
  {
   "cell_type": "code",
   "execution_count": 1,
   "metadata": {},
   "outputs": [],
   "source": [
    "import numpy as np\n",
    "import pandas as pd\n",
    "\n",
    "from tqdm import tqdm\n",
    "from commons import *\n",
    "\n",
    "%matplotlib inline\n",
    "from matplotlib import pyplot as plt"
   ]
  },
  {
   "cell_type": "code",
   "execution_count": 3,
   "metadata": {},
   "outputs": [],
   "source": [
    "CSV_TRAIN       = './train.csv'\n",
    "DATA_DIR        = '../inputs/512/train/'\n",
    "RESIZE          = 512\n",
    "IGNORE_CLASSES  = [14]"
   ]
  },
  {
   "cell_type": "code",
   "execution_count": 34,
   "metadata": {
    "scrolled": true
   },
   "outputs": [
    {
     "data": {
      "text/html": [
       "<div>\n",
       "<style scoped>\n",
       "    .dataframe tbody tr th:only-of-type {\n",
       "        vertical-align: middle;\n",
       "    }\n",
       "\n",
       "    .dataframe tbody tr th {\n",
       "        vertical-align: top;\n",
       "    }\n",
       "\n",
       "    .dataframe thead th {\n",
       "        text-align: right;\n",
       "    }\n",
       "</style>\n",
       "<table border=\"1\" class=\"dataframe\">\n",
       "  <thead>\n",
       "    <tr style=\"text-align: right;\">\n",
       "      <th></th>\n",
       "      <th>image_id</th>\n",
       "      <th>class_name</th>\n",
       "      <th>class_id</th>\n",
       "      <th>rad_id</th>\n",
       "      <th>x_min</th>\n",
       "      <th>y_min</th>\n",
       "      <th>x_max</th>\n",
       "      <th>y_max</th>\n",
       "      <th>width</th>\n",
       "      <th>height</th>\n",
       "    </tr>\n",
       "  </thead>\n",
       "  <tbody>\n",
       "    <tr>\n",
       "      <th>0</th>\n",
       "      <td>50a418190bc3fb1ef1633bf9678929b3</td>\n",
       "      <td>No finding</td>\n",
       "      <td>14</td>\n",
       "      <td>R16</td>\n",
       "      <td>0.0</td>\n",
       "      <td>0.0</td>\n",
       "      <td>1.0</td>\n",
       "      <td>1.0</td>\n",
       "      <td>2332</td>\n",
       "      <td>2580</td>\n",
       "    </tr>\n",
       "    <tr>\n",
       "      <th>1</th>\n",
       "      <td>21a10246a5ec7af151081d0cd6d65dc9</td>\n",
       "      <td>No finding</td>\n",
       "      <td>14</td>\n",
       "      <td>R2</td>\n",
       "      <td>0.0</td>\n",
       "      <td>0.0</td>\n",
       "      <td>1.0</td>\n",
       "      <td>1.0</td>\n",
       "      <td>2954</td>\n",
       "      <td>3159</td>\n",
       "    </tr>\n",
       "    <tr>\n",
       "      <th>2</th>\n",
       "      <td>9a5094b2563a1ef3ff50dc5c7ff71345</td>\n",
       "      <td>Aortic enlargement</td>\n",
       "      <td>0</td>\n",
       "      <td>R9</td>\n",
       "      <td>1052.0</td>\n",
       "      <td>715.0</td>\n",
       "      <td>1299.0</td>\n",
       "      <td>966.0</td>\n",
       "      <td>2080</td>\n",
       "      <td>2336</td>\n",
       "    </tr>\n",
       "    <tr>\n",
       "      <th>3</th>\n",
       "      <td>9a5094b2563a1ef3ff50dc5c7ff71345</td>\n",
       "      <td>Cardiomegaly</td>\n",
       "      <td>3</td>\n",
       "      <td>R8</td>\n",
       "      <td>689.0</td>\n",
       "      <td>1313.0</td>\n",
       "      <td>1666.0</td>\n",
       "      <td>1763.0</td>\n",
       "      <td>2080</td>\n",
       "      <td>2336</td>\n",
       "    </tr>\n",
       "    <tr>\n",
       "      <th>4</th>\n",
       "      <td>9a5094b2563a1ef3ff50dc5c7ff71345</td>\n",
       "      <td>Pleural thickening</td>\n",
       "      <td>11</td>\n",
       "      <td>R9</td>\n",
       "      <td>1789.0</td>\n",
       "      <td>1729.0</td>\n",
       "      <td>1875.0</td>\n",
       "      <td>1992.0</td>\n",
       "      <td>2080</td>\n",
       "      <td>2336</td>\n",
       "    </tr>\n",
       "    <tr>\n",
       "      <th>...</th>\n",
       "      <td>...</td>\n",
       "      <td>...</td>\n",
       "      <td>...</td>\n",
       "      <td>...</td>\n",
       "      <td>...</td>\n",
       "      <td>...</td>\n",
       "      <td>...</td>\n",
       "      <td>...</td>\n",
       "      <td>...</td>\n",
       "      <td>...</td>\n",
       "    </tr>\n",
       "    <tr>\n",
       "      <th>30028</th>\n",
       "      <td>7c0ddf911bdb68fca14d7172486827cb</td>\n",
       "      <td>No finding</td>\n",
       "      <td>14</td>\n",
       "      <td>R5</td>\n",
       "      <td>0.0</td>\n",
       "      <td>0.0</td>\n",
       "      <td>1.0</td>\n",
       "      <td>1.0</td>\n",
       "      <td>1994</td>\n",
       "      <td>2430</td>\n",
       "    </tr>\n",
       "    <tr>\n",
       "      <th>30029</th>\n",
       "      <td>209e3a5c73c1195d805dd25d086b3c6d</td>\n",
       "      <td>No finding</td>\n",
       "      <td>14</td>\n",
       "      <td>R1</td>\n",
       "      <td>0.0</td>\n",
       "      <td>0.0</td>\n",
       "      <td>1.0</td>\n",
       "      <td>1.0</td>\n",
       "      <td>2336</td>\n",
       "      <td>2836</td>\n",
       "    </tr>\n",
       "    <tr>\n",
       "      <th>30030</th>\n",
       "      <td>1bea772246421c37929f8cbc43dba729</td>\n",
       "      <td>No finding</td>\n",
       "      <td>14</td>\n",
       "      <td>R2</td>\n",
       "      <td>0.0</td>\n",
       "      <td>0.0</td>\n",
       "      <td>1.0</td>\n",
       "      <td>1.0</td>\n",
       "      <td>2336</td>\n",
       "      <td>2836</td>\n",
       "    </tr>\n",
       "    <tr>\n",
       "      <th>30031</th>\n",
       "      <td>ae86eabab95525b41b8e79883ff1cef9</td>\n",
       "      <td>No finding</td>\n",
       "      <td>14</td>\n",
       "      <td>R7</td>\n",
       "      <td>0.0</td>\n",
       "      <td>0.0</td>\n",
       "      <td>1.0</td>\n",
       "      <td>1.0</td>\n",
       "      <td>2864</td>\n",
       "      <td>3055</td>\n",
       "    </tr>\n",
       "    <tr>\n",
       "      <th>30032</th>\n",
       "      <td>839b2311ffad9bdd9aa98c74aad6e251</td>\n",
       "      <td>No finding</td>\n",
       "      <td>14</td>\n",
       "      <td>R12</td>\n",
       "      <td>0.0</td>\n",
       "      <td>0.0</td>\n",
       "      <td>1.0</td>\n",
       "      <td>1.0</td>\n",
       "      <td>2801</td>\n",
       "      <td>3000</td>\n",
       "    </tr>\n",
       "  </tbody>\n",
       "</table>\n",
       "<p>30033 rows × 10 columns</p>\n",
       "</div>"
      ],
      "text/plain": [
       "                               image_id          class_name  class_id rad_id  \\\n",
       "0      50a418190bc3fb1ef1633bf9678929b3          No finding        14    R16   \n",
       "1      21a10246a5ec7af151081d0cd6d65dc9          No finding        14     R2   \n",
       "2      9a5094b2563a1ef3ff50dc5c7ff71345  Aortic enlargement         0     R9   \n",
       "3      9a5094b2563a1ef3ff50dc5c7ff71345        Cardiomegaly         3     R8   \n",
       "4      9a5094b2563a1ef3ff50dc5c7ff71345  Pleural thickening        11     R9   \n",
       "...                                 ...                 ...       ...    ...   \n",
       "30028  7c0ddf911bdb68fca14d7172486827cb          No finding        14     R5   \n",
       "30029  209e3a5c73c1195d805dd25d086b3c6d          No finding        14     R1   \n",
       "30030  1bea772246421c37929f8cbc43dba729          No finding        14     R2   \n",
       "30031  ae86eabab95525b41b8e79883ff1cef9          No finding        14     R7   \n",
       "30032  839b2311ffad9bdd9aa98c74aad6e251          No finding        14    R12   \n",
       "\n",
       "        x_min   y_min   x_max   y_max  width  height  \n",
       "0         0.0     0.0     1.0     1.0   2332    2580  \n",
       "1         0.0     0.0     1.0     1.0   2954    3159  \n",
       "2      1052.0   715.0  1299.0   966.0   2080    2336  \n",
       "3       689.0  1313.0  1666.0  1763.0   2080    2336  \n",
       "4      1789.0  1729.0  1875.0  1992.0   2080    2336  \n",
       "...       ...     ...     ...     ...    ...     ...  \n",
       "30028     0.0     0.0     1.0     1.0   1994    2430  \n",
       "30029     0.0     0.0     1.0     1.0   2336    2836  \n",
       "30030     0.0     0.0     1.0     1.0   2336    2836  \n",
       "30031     0.0     0.0     1.0     1.0   2864    3055  \n",
       "30032     0.0     0.0     1.0     1.0   2801    3000  \n",
       "\n",
       "[30033 rows x 10 columns]"
      ]
     },
     "execution_count": 34,
     "metadata": {},
     "output_type": "execute_result"
    }
   ],
   "source": [
    "df_train = pd.read_csv(CSV_TRAIN)\n",
    "df_train"
   ]
  },
  {
   "cell_type": "markdown",
   "metadata": {},
   "source": [
    "# Convert to Coco Dataset"
   ]
  },
  {
   "cell_type": "code",
   "execution_count": 35,
   "metadata": {},
   "outputs": [],
   "source": [
    "dataset = CocoDataset(df_train.copy(), img_size=512, keep_ratio=False)"
   ]
  },
  {
   "cell_type": "code",
   "execution_count": 36,
   "metadata": {
    "scrolled": true
   },
   "outputs": [
    {
     "name": "stderr",
     "output_type": "stream",
     "text": [
      "100%|██████████| 30033/30033 [00:00<00:00, 498046.96it/s]\n"
     ]
    }
   ],
   "source": [
    "dataset.write_all_annotations(save_filename='coco512_nms.json')"
   ]
  },
  {
   "cell_type": "markdown",
   "metadata": {},
   "source": [
    "## Split .json (COCO Format) into train/val"
   ]
  },
  {
   "cell_type": "code",
   "execution_count": 37,
   "metadata": {},
   "outputs": [
    {
     "name": "stdout",
     "output_type": "stream",
     "text": [
      "Split completed!\n"
     ]
    }
   ],
   "source": [
    "dataset.train_test_split(in_filename='coco512_nms.json')"
   ]
  },
  {
   "cell_type": "markdown",
   "metadata": {},
   "source": [
    "FROM SPLITED CSV"
   ]
  },
  {
   "cell_type": "code",
   "execution_count": null,
   "metadata": {},
   "outputs": [],
   "source": [
    "FOLDS_DIR       = '.cache/'\n",
    "FOLDS           = [0, 1, 2, 3, 4]\n",
    "TRAIN_FOLDS_DIR = os.path.join(FOLDS_DIR, 'train/')\n",
    "VAL_FOLDS_DIR   = os.path.join(FOLDS_DIR, 'val/')\n",
    "EXT             = '.csv'\n"
   ]
  },
  {
   "cell_type": "code",
   "execution_count": null,
   "metadata": {},
   "outputs": [],
   "source": [
    "for fold in FOLDS:\n",
    "    train_path  = f'{TRAIN_FOLDS_DIR}{fold}{EXT}'\n",
    "    val_path    = f'{VAL_FOLDS_DIR}{fold}{EXT}'\n",
    "    train_df    = pd.read_csv(train_path)\n",
    "    val_df      = pd.read_csv(val_path)\n",
    "\n",
    "    dataset = CocoDataset(train_df.copy())\n",
    "    dataset.write_all_annotations(\n",
    "            save_filename=f'./coco/{fold}/train.json',\n",
    "        )\n",
    "    \n",
    "    dataset = CocoDataset(val_df.copy())\n",
    "    dataset.write_all_annotations(\n",
    "            save_filename=f'./coco/{fold}/val.json',\n",
    "        )"
   ]
  }
 ],
 "metadata": {
  "kernelspec": {
   "display_name": "Python 3",
   "language": "python",
   "name": "python3"
  },
  "language_info": {
   "codemirror_mode": {
    "name": "ipython",
    "version": 3
   },
   "file_extension": ".py",
   "mimetype": "text/x-python",
   "name": "python",
   "nbconvert_exporter": "python",
   "pygments_lexer": "ipython3",
   "version": "3.8.5"
  }
 },
 "nbformat": 4,
 "nbformat_minor": 5
}
