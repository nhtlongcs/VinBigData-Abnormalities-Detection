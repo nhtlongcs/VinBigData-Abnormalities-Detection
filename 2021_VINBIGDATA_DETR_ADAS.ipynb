{
  "nbformat": 4,
  "nbformat_minor": 0,
  "metadata": {
    "accelerator": "GPU",
    "colab": {
      "name": "2021_VINBIGDATA_DETR_ADAS",
      "provenance": [],
      "collapsed_sections": [],
      "machine_shape": "hm",
      "authorship_tag": "ABX9TyOxIySserH7plBfxAsaTATg",
      "include_colab_link": true
    },
    "kernelspec": {
      "display_name": "Python 3",
      "name": "python3"
    }
  },
  "cells": [
    {
      "cell_type": "markdown",
      "metadata": {
        "id": "view-in-github",
        "colab_type": "text"
      },
      "source": [
        "<a href=\"https://colab.research.google.com/github/nhtlongcs/VinBigData-Abnormalities-Detection/blob/ffyytt-detr/2021_VINBIGDATA_DETR_ADAS.ipynb\" target=\"_parent\"><img src=\"https://colab.research.google.com/assets/colab-badge.svg\" alt=\"Open In Colab\"/></a>"
      ]
    },
    {
      "cell_type": "code",
      "metadata": {
        "colab": {
          "base_uri": "https://localhost:8080/"
        },
        "id": "rHG6zu88QeO_",
        "outputId": "5c0688ba-89db-437c-8c17-92817267648d"
      },
      "source": [
        "!nvidia-smi"
      ],
      "execution_count": null,
      "outputs": [
        {
          "output_type": "stream",
          "text": [
            "Sat Mar  6 09:01:43 2021       \n",
            "+-----------------------------------------------------------------------------+\n",
            "| NVIDIA-SMI 460.39       Driver Version: 460.32.03    CUDA Version: 11.2     |\n",
            "|-------------------------------+----------------------+----------------------+\n",
            "| GPU  Name        Persistence-M| Bus-Id        Disp.A | Volatile Uncorr. ECC |\n",
            "| Fan  Temp  Perf  Pwr:Usage/Cap|         Memory-Usage | GPU-Util  Compute M. |\n",
            "|                               |                      |               MIG M. |\n",
            "|===============================+======================+======================|\n",
            "|   0  Tesla P100-PCIE...  Off  | 00000000:00:04.0 Off |                    0 |\n",
            "| N/A   64C    P0    47W / 250W |      0MiB / 16280MiB |      0%      Default |\n",
            "|                               |                      |                  N/A |\n",
            "+-------------------------------+----------------------+----------------------+\n",
            "                                                                               \n",
            "+-----------------------------------------------------------------------------+\n",
            "| Processes:                                                                  |\n",
            "|  GPU   GI   CI        PID   Type   Process name                  GPU Memory |\n",
            "|        ID   ID                                                   Usage      |\n",
            "|=============================================================================|\n",
            "|  No running processes found                                                 |\n",
            "+-----------------------------------------------------------------------------+\n"
          ],
          "name": "stdout"
        }
      ]
    },
    {
      "cell_type": "code",
      "metadata": {
        "colab": {
          "base_uri": "https://localhost:8080/"
        },
        "id": "Fbmg_l42QpFi",
        "outputId": "378faba2-1f18-4f22-a858-7603b77829d6"
      },
      "source": [
        " from google.colab import drive\r\n",
        "drive.mount('/content/gdrive')"
      ],
      "execution_count": null,
      "outputs": [
        {
          "output_type": "stream",
          "text": [
            "Drive already mounted at /content/gdrive; to attempt to forcibly remount, call drive.mount(\"/content/gdrive\", force_remount=True).\n"
          ],
          "name": "stdout"
        }
      ]
    },
    {
      "cell_type": "code",
      "metadata": {
        "id": "NZVIuukgQqVn"
      },
      "source": [
        "import json\r\n",
        "token = {\"username\":\"duonganhkiet\",\"key\":\"c7b0eb66e2722030c850b9ea619a3fb0\"}\r\n",
        "!mkdir -p '/root/.kaggle/'\r\n",
        "with open('/root/.kaggle/kaggle.json', 'w') as file:\r\n",
        "    json.dump(token, file)\r\n",
        "!chmod 600 ~/.kaggle/kaggle.json"
      ],
      "execution_count": null,
      "outputs": []
    },
    {
      "cell_type": "code",
      "metadata": {
        "colab": {
          "base_uri": "https://localhost:8080/"
        },
        "id": "D2gaAiwrQtPb",
        "outputId": "c1ae73d9-2360-4335-b6ab-36d0e7ea4810"
      },
      "source": [
        "!pip install -qq map-boxes\r\n",
        "!pip install -qq ensemble_boxes\r\n",
        "!pip install -qq git+https://github.com/albumentations-team/albumentations\r\n",
        "!git clone https://github.com/facebookresearch/detr.git"
      ],
      "execution_count": null,
      "outputs": [
        {
          "output_type": "stream",
          "text": [
            "  Building wheel for albumentations (setup.py) ... \u001b[?25l\u001b[?25hdone\n",
            "fatal: destination path 'detr' already exists and is not an empty directory.\n"
          ],
          "name": "stdout"
        }
      ]
    },
    {
      "cell_type": "code",
      "metadata": {
        "id": "VFpwx9iNQunB"
      },
      "source": [
        "import sys\r\n",
        "sys.path.append('./detr/')\r\n",
        "\r\n",
        "import os\r\n",
        "import cv2\r\n",
        "import json\r\n",
        "import copy\r\n",
        "import time\r\n",
        "import random\r\n",
        "import zipfile\r\n",
        "import numpy as np\r\n",
        "import pandas as pd\r\n",
        "import multiprocessing\r\n",
        "\r\n",
        "from tqdm import *\r\n",
        "from matplotlib import pyplot as plt\r\n",
        "from collections import Counter\r\n",
        "\r\n",
        "import albumentations as A\r\n",
        "from albumentations.pytorch.transforms import ToTensorV2\r\n",
        "\r\n",
        "import torch\r\n",
        "import torch.nn as nn\r\n",
        "from torch.utils.data import DataLoader, Dataset\r\n",
        "from torch.utils.data.sampler import SequentialSampler, RandomSampler\r\n",
        "\r\n",
        "from detr.models.matcher import HungarianMatcher\r\n",
        "from detr.models.detr import SetCriterion\r\n",
        "\r\n",
        "from ensemble_boxes import *\r\n",
        "from pycocotools.coco import COCO\r\n",
        "from pycocotools.cocoeval import COCOeval\r\n",
        "from map_boxes import mean_average_precision_for_boxes\r\n",
        "\r\n",
        "import warnings\r\n",
        "warnings.filterwarnings(\"ignore\")"
      ],
      "execution_count": null,
      "outputs": []
    },
    {
      "cell_type": "code",
      "metadata": {
        "id": "hiLPH4UtQ1XG"
      },
      "source": [
        "if not os.path.exists('data/vinbigdata/'):\r\n",
        "    os.makedirs('data/vinbigdata/')\r\n",
        "    !kaggle datasets download -d duonganhkiet/2021-vin-mydataset\r\n",
        "    !unzip -q 2021-vin-mydataset.zip -d data/vinbigdata"
      ],
      "execution_count": null,
      "outputs": []
    },
    {
      "cell_type": "code",
      "metadata": {
        "id": "2bsf9IUzRKZ1"
      },
      "source": [
        "FOLD = 0\r\n",
        "config = {\r\n",
        "    'fold': FOLD,\r\n",
        "    'image_paths':'data/vinbigdata/train/',\r\n",
        "    'imgSize': 1024,\r\n",
        "    'seed': 42,\r\n",
        "    'no_finding_sample': 1000,\r\n",
        "    'device': torch.device('cuda') if torch.cuda.is_available() else torch.device('cpu'),\r\n",
        "    'iou_thr':0.5,\r\n",
        "    'infer_iou_thr': 0.5,\r\n",
        "    'skip_box_thr':0.05,\r\n",
        "    'lr' : 4e-5,\r\n",
        "    'batch_size': 4,\r\n",
        "    'save_dir': 'gdrive/MyDrive/2021_VINBIGDATA/NEW_FOLD/DETR101/FOLD'+str(FOLD),\r\n",
        "    'n_epochs': 400,\r\n",
        "    'scheduler': False,\r\n",
        "    'valid_scheduler': True,\r\n",
        "    'debug': False,\r\n",
        "    'gt': 'nms512_fold'+str(FOLD)+'_val.json',\r\n",
        "\r\n",
        "    'num_classes':15,\r\n",
        "    'num_queries': 100,\r\n",
        "    'weight_dict': {'loss_ce': 1, 'class_error':2, 'loss_bbox': 1 , 'loss_giou': 1},\r\n",
        "    'null_class_coef': 0.5,\r\n",
        "    'losses': ['labels', 'boxes', 'cardinality'],\r\n",
        "}"
      ],
      "execution_count": null,
      "outputs": []
    },
    {
      "cell_type": "code",
      "metadata": {
        "id": "QRx35k4_WmSU"
      },
      "source": [
        "def seed_everything(seed):\r\n",
        "    random.seed(seed)\r\n",
        "    os.environ['PYTHONHASHSEED'] = str(seed)\r\n",
        "    np.random.seed(seed)\r\n",
        "    torch.manual_seed(seed)\r\n",
        "    torch.cuda.manual_seed(seed)\r\n",
        "    torch.backends.cudnn.deterministic = True\r\n",
        "    torch.backends.cudnn.benchmark = False\r\n",
        "\r\n",
        "seed_everything(config['seed'])"
      ],
      "execution_count": null,
      "outputs": []
    },
    {
      "cell_type": "code",
      "metadata": {
        "id": "fVz0gQ5_Q5MH",
        "colab": {
          "base_uri": "https://localhost:8080/",
          "height": 202
        },
        "outputId": "bf5149d1-7da0-4671-b943-38964b45a67e"
      },
      "source": [
        "device = torch.device('cuda') if torch.cuda.is_available() else torch.device('cpu')\r\n",
        "df = pd.read_csv('data/vinbigdata/train.csv')\r\n",
        "\r\n",
        "df['x_min'] = np.where(df['x_min'].isnull(), 0, df['x_min'])\r\n",
        "df['x_max'] = np.where(df['x_max'].isnull(), 1, df['x_max'])\r\n",
        "df['y_min'] = np.where(df['y_min'].isnull(), 0, df['y_min'])\r\n",
        "df['y_max'] = np.where(df['y_max'].isnull(), 1, df['y_max'])\r\n",
        "\r\n",
        "df['area'] = (df['x_max']-df['x_min'])*(df['y_max']-df['y_min'])\r\n",
        "\r\n",
        "df['class_id'] += 1\r\n",
        "\r\n",
        "if (config['num_classes'] == 15):\r\n",
        "    df = df[df['class_name'] != 'No finding'].append(df[df['class_name'] == 'No finding'].sample(config['no_finding_sample']), ignore_index=True)\r\n",
        "    df.loc[df[\"class_id\"] == 15, [\"class_id\"]] = 0\r\n",
        "\r\n",
        "    \r\n",
        "df[\"class_id\"] = df[\"class_id\"]\r\n",
        "df.head()"
      ],
      "execution_count": null,
      "outputs": [
        {
          "output_type": "execute_result",
          "data": {
            "text/html": [
              "<div>\n",
              "<style scoped>\n",
              "    .dataframe tbody tr th:only-of-type {\n",
              "        vertical-align: middle;\n",
              "    }\n",
              "\n",
              "    .dataframe tbody tr th {\n",
              "        vertical-align: top;\n",
              "    }\n",
              "\n",
              "    .dataframe thead th {\n",
              "        text-align: right;\n",
              "    }\n",
              "</style>\n",
              "<table border=\"1\" class=\"dataframe\">\n",
              "  <thead>\n",
              "    <tr style=\"text-align: right;\">\n",
              "      <th></th>\n",
              "      <th>image_id</th>\n",
              "      <th>class_name</th>\n",
              "      <th>class_id</th>\n",
              "      <th>rad_id</th>\n",
              "      <th>x_min</th>\n",
              "      <th>y_min</th>\n",
              "      <th>x_max</th>\n",
              "      <th>y_max</th>\n",
              "      <th>width</th>\n",
              "      <th>height</th>\n",
              "      <th>fold</th>\n",
              "      <th>area</th>\n",
              "    </tr>\n",
              "  </thead>\n",
              "  <tbody>\n",
              "    <tr>\n",
              "      <th>0</th>\n",
              "      <td>9a5094b2563a1ef3ff50dc5c7ff71345</td>\n",
              "      <td>Cardiomegaly</td>\n",
              "      <td>4</td>\n",
              "      <td>R10</td>\n",
              "      <td>691.0</td>\n",
              "      <td>1375.0</td>\n",
              "      <td>1653.0</td>\n",
              "      <td>1831.0</td>\n",
              "      <td>2080</td>\n",
              "      <td>2336</td>\n",
              "      <td>2</td>\n",
              "      <td>438672.0</td>\n",
              "    </tr>\n",
              "    <tr>\n",
              "      <th>1</th>\n",
              "      <td>051132a778e61a86eb147c7c6f564dfe</td>\n",
              "      <td>Aortic enlargement</td>\n",
              "      <td>1</td>\n",
              "      <td>R10</td>\n",
              "      <td>1264.0</td>\n",
              "      <td>743.0</td>\n",
              "      <td>1611.0</td>\n",
              "      <td>1019.0</td>\n",
              "      <td>2304</td>\n",
              "      <td>2880</td>\n",
              "      <td>0</td>\n",
              "      <td>95772.0</td>\n",
              "    </tr>\n",
              "    <tr>\n",
              "      <th>2</th>\n",
              "      <td>1c32170b4af4ce1a3030eb8167753b06</td>\n",
              "      <td>Pleural thickening</td>\n",
              "      <td>12</td>\n",
              "      <td>R9</td>\n",
              "      <td>627.0</td>\n",
              "      <td>357.0</td>\n",
              "      <td>947.0</td>\n",
              "      <td>433.0</td>\n",
              "      <td>2540</td>\n",
              "      <td>3072</td>\n",
              "      <td>1</td>\n",
              "      <td>24320.0</td>\n",
              "    </tr>\n",
              "    <tr>\n",
              "      <th>3</th>\n",
              "      <td>0c7a38f293d5f5e4846aa4ca6db4daf1</td>\n",
              "      <td>ILD</td>\n",
              "      <td>6</td>\n",
              "      <td>R17</td>\n",
              "      <td>1347.0</td>\n",
              "      <td>245.0</td>\n",
              "      <td>2188.0</td>\n",
              "      <td>2169.0</td>\n",
              "      <td>2285</td>\n",
              "      <td>2555</td>\n",
              "      <td>3</td>\n",
              "      <td>1618084.0</td>\n",
              "    </tr>\n",
              "    <tr>\n",
              "      <th>4</th>\n",
              "      <td>47ed17dcb2cbeec15182ed335a8b5a9e</td>\n",
              "      <td>Nodule/Mass</td>\n",
              "      <td>9</td>\n",
              "      <td>R9</td>\n",
              "      <td>557.0</td>\n",
              "      <td>2352.0</td>\n",
              "      <td>675.0</td>\n",
              "      <td>2484.0</td>\n",
              "      <td>2568</td>\n",
              "      <td>3353</td>\n",
              "      <td>1</td>\n",
              "      <td>15576.0</td>\n",
              "    </tr>\n",
              "  </tbody>\n",
              "</table>\n",
              "</div>"
            ],
            "text/plain": [
              "                           image_id          class_name  ...  fold       area\n",
              "0  9a5094b2563a1ef3ff50dc5c7ff71345        Cardiomegaly  ...     2   438672.0\n",
              "1  051132a778e61a86eb147c7c6f564dfe  Aortic enlargement  ...     0    95772.0\n",
              "2  1c32170b4af4ce1a3030eb8167753b06  Pleural thickening  ...     1    24320.0\n",
              "3  0c7a38f293d5f5e4846aa4ca6db4daf1                 ILD  ...     3  1618084.0\n",
              "4  47ed17dcb2cbeec15182ed335a8b5a9e         Nodule/Mass  ...     1    15576.0\n",
              "\n",
              "[5 rows x 12 columns]"
            ]
          },
          "metadata": {
            "tags": []
          },
          "execution_count": 9
        }
      ]
    },
    {
      "cell_type": "code",
      "metadata": {
        "id": "SU61_Xt3RCJv",
        "colab": {
          "base_uri": "https://localhost:8080/"
        },
        "outputId": "0aa2a92a-359d-4203-9528-8ecadf17bf22"
      },
      "source": [
        "image_ids = df['image_id'].unique()\r\n",
        "train_ids = df['image_id'][df['fold'] != config['fold']].unique()\r\n",
        "valid_ids = df['image_id'][df['fold'] == config['fold']].unique()\r\n",
        "print(len(train_ids), len(valid_ids))\r\n",
        "valid_df = df[df['image_id'].isin(valid_ids)]\r\n",
        "train_df = df[df['image_id'].isin(train_ids)]"
      ],
      "execution_count": null,
      "outputs": [
        {
          "output_type": "stream",
          "text": [
            "4295 1061\n"
          ],
          "name": "stdout"
        }
      ]
    },
    {
      "cell_type": "code",
      "metadata": {
        "id": "D51M9MdbRVLV"
      },
      "source": [
        "if not os.path.exists(config['image_paths']):\r\n",
        "    !gdown --id 1y4wV9T_ITyG8hz5OE3cUhtVqEP14cEx4\r\n",
        "    !kaggle datasets download -d awsaf49/vinbigdata-original-image-dataset\r\n",
        "    os.makedirs(config['image_paths'])\r\n",
        "    with zipfile.ZipFile('vinbigdata-original-image-dataset.zip') as z:\r\n",
        "        for filename in tqdm(image_ids):\r\n",
        "            with open(config['image_paths']+filename+'.jpg', 'wb+') as f:\r\n",
        "                f.write(z.read('vinbigdata/train/'+filename+'.jpg'))"
      ],
      "execution_count": null,
      "outputs": []
    },
    {
      "cell_type": "code",
      "metadata": {
        "id": "4-952fZQRd5x"
      },
      "source": [
        "def get_train_transforms():\r\n",
        "    return A.Compose(\r\n",
        "        [\r\n",
        "         A.OneOf([\r\n",
        "            A.HorizontalFlip(p=1.0),\r\n",
        "            A.VerticalFlip(p=1.0),\r\n",
        "            A.RandomRotate90(p=1.0),\r\n",
        "         ], p=0.3),\r\n",
        "         \r\n",
        "         A.ShiftScaleRotate(shift_limit=0.0625, scale_limit=0.2, rotate_limit=20, p=0.3),\r\n",
        "\r\n",
        "         A.Resize(height=config['imgSize'], width=config['imgSize'], p=1),\r\n",
        "         ToTensorV2(p=1.0),\r\n",
        "        ], \r\n",
        "        p=1.0, \r\n",
        "        bbox_params=A.BboxParams(\r\n",
        "            format='pascal_voc',\r\n",
        "            min_area=0, \r\n",
        "            min_visibility=0,\r\n",
        "            label_fields=['labels']\r\n",
        "        )\r\n",
        "    )\r\n",
        "\r\n",
        "def get_valid_transforms():\r\n",
        "    return A.Compose(\r\n",
        "        [\r\n",
        "         A.Resize(height=config['imgSize'], width=config['imgSize'], p=1),\r\n",
        "         ToTensorV2(p=1.0),\r\n",
        "        ], \r\n",
        "        p=1.0, \r\n",
        "        bbox_params=A.BboxParams(\r\n",
        "            format='pascal_voc',\r\n",
        "            min_area=0, \r\n",
        "            min_visibility=0,\r\n",
        "            label_fields=['labels']\r\n",
        "        )\r\n",
        "    )"
      ],
      "execution_count": null,
      "outputs": []
    },
    {
      "cell_type": "code",
      "metadata": {
        "id": "WTAPrDRpRkOZ"
      },
      "source": [
        "def run_wbf(boxes, labels, scores, w, h, wn, hn, iou_thr = config['iou_thr']):\r\n",
        "    if (scores == None):\r\n",
        "        scores = [np.array([0.9]*len(boxes))]\r\n",
        "    \r\n",
        "    boxes[:, 0] = (boxes[:, 0] / w)\r\n",
        "    boxes[:, 1] = (boxes[:, 1] / h)\r\n",
        "    boxes[:, 2] = (boxes[:, 2] / w)\r\n",
        "    boxes[:, 3] = (boxes[:, 3] / h)\r\n",
        "    boxes = [boxes]\r\n",
        "    \r\n",
        "    labels = [labels]\r\n",
        "    \r\n",
        "    boxes, scores, labels = weighted_boxes_fusion(boxes, scores, labels, weights=None, iou_thr=iou_thr,\r\n",
        "                                                  skip_box_thr=0.001)\r\n",
        "    boxes[:, 0] = (boxes[:, 0] * wn)\r\n",
        "    boxes[:, 1] = (boxes[:, 1] * hn)\r\n",
        "    boxes[:, 2] = (boxes[:, 2] * wn)\r\n",
        "    boxes[:, 3] = (boxes[:, 3] * hn)\r\n",
        "    return boxes, labels\r\n",
        "\r\n",
        "def box_cxcywh_to_xyxy(x):\r\n",
        "    x_c, y_c, w, h = x[:, 0], x[:, 1], x[:, 2], x[:, 3]\r\n",
        "    return np.array([(x_c - 0.5 * w), (y_c - 0.5 * h), (x_c + 0.5 * w), (y_c + 0.5 * h)]).T"
      ],
      "execution_count": null,
      "outputs": []
    },
    {
      "cell_type": "code",
      "metadata": {
        "id": "e78_UEhrR5E1"
      },
      "source": [
        "class DatasetRetriever(Dataset):\r\n",
        "\r\n",
        "    def __init__(self, marking, image_dir, transforms=None, test=False):\r\n",
        "        super().__init__()\r\n",
        "\r\n",
        "        self.image_ids = marking[\"image_id\"].unique()\r\n",
        "        self.image_dir = image_dir\r\n",
        "        self.marking = marking\r\n",
        "        self.transforms = transforms\r\n",
        "        self.test = test\r\n",
        "        \r\n",
        "    def __getitem__(self, index: int):\r\n",
        "        image_id = self.image_ids[index]\r\n",
        "        \r\n",
        "        image, boxes, labels, w, h = self.load_image_and_boxes(index)\r\n",
        "\r\n",
        "        if self.transforms:\r\n",
        "            for i in range(10):\r\n",
        "                sample = self.transforms(**{\r\n",
        "                    'image': image,\r\n",
        "                    'bboxes': boxes,\r\n",
        "                    'labels': labels\r\n",
        "                })\r\n",
        "                if len(sample['bboxes']) > 0:\r\n",
        "                    image = sample['image']\r\n",
        "                    break\r\n",
        "\r\n",
        "        boxes = A.augmentations.bbox_utils.normalize_bboxes(sample['bboxes'],rows=config['imgSize'],cols=config['imgSize'])\r\n",
        "        boxes_cp = np.array(boxes)\r\n",
        "        boxes = np.array(boxes)\r\n",
        "\r\n",
        "        boxes[:, 0] = (boxes_cp[:, 0] + boxes_cp[:, 2])/2\r\n",
        "        boxes[:, 1] = (boxes_cp[:, 1] + boxes_cp[:, 3])/2\r\n",
        "\r\n",
        "        boxes[:, 2] -= boxes_cp[:, 0]\r\n",
        "        boxes[:, 3] -= boxes_cp[:, 1]\r\n",
        "\r\n",
        "        target = {}\r\n",
        "        target['boxes'] = torch.as_tensor(boxes,dtype=torch.float32)\r\n",
        "        target['labels'] = torch.as_tensor(sample['labels'],dtype=torch.long)\r\n",
        "        target['image_id'] = torch.tensor([index])\r\n",
        "        \r\n",
        "        return image, target, image_id\r\n",
        "    \r\n",
        "    def __len__(self) -> int:\r\n",
        "        return self.image_ids.shape[0]\r\n",
        "    \r\n",
        "    def load_image_and_boxes(self, index):\r\n",
        "        image_id = self.image_ids[index]\r\n",
        "\r\n",
        "        image = cv2.imread(f'{self.image_dir}/{image_id}.jpg', cv2.IMREAD_COLOR).copy().astype(np.float32)\r\n",
        "        image = cv2.cvtColor(image, cv2.COLOR_BGR2RGB).astype(np.float32)\r\n",
        "        image /= 255.0\r\n",
        "\r\n",
        "        h,w,_ = image.shape\r\n",
        "            \r\n",
        "        records = self.marking[self.marking['image_id'] == image_id]\r\n",
        "        boxes = records[['x_min', 'y_min', 'x_max', 'y_max']].values\r\n",
        "        labels = records['class_id'].values\r\n",
        "\r\n",
        "        return image, boxes, labels, w, h"
      ],
      "execution_count": null,
      "outputs": []
    },
    {
      "cell_type": "code",
      "metadata": {
        "id": "_KDcdhwlSDEy"
      },
      "source": [
        "train_dataset = DatasetRetriever(\r\n",
        "    marking=train_df,\r\n",
        "    image_dir=config['image_paths'],\r\n",
        "    transforms=get_train_transforms(),\r\n",
        "    test = False\r\n",
        ")\r\n",
        "\r\n",
        "validation_dataset = DatasetRetriever(\r\n",
        "    marking=valid_df,\r\n",
        "    image_dir=config['image_paths'],\r\n",
        "    transforms=get_valid_transforms(),\r\n",
        "    test = True\r\n",
        ")"
      ],
      "execution_count": null,
      "outputs": []
    },
    {
      "cell_type": "code",
      "metadata": {
        "id": "aR9tPWNjSZ7c",
        "colab": {
          "base_uri": "https://localhost:8080/",
          "height": 1000
        },
        "outputId": "3d4b279a-251c-4b8c-a738-e78f77917486"
      },
      "source": [
        "mapping = {0: (1,0,0), 1: (0,1,0), 2: (0,0,1), 3: (1,1,0), \r\n",
        "           4: (1,0,1), 5: (0,1,1), 6: (0.5,1,0), 7: (0.5,0,1), \r\n",
        "           8: (0.5,1,1), 9: (0,0.5,1), 10: (1,0.5,0), 11: (1,0.5,1),\r\n",
        "           12: (1,0,0.5), 13: (0,1,0.5), 14: (1,1,0.5)}\r\n",
        "\r\n",
        "for i in range(5):\r\n",
        "    image, target, image_id = train_dataset[i]\r\n",
        "    boxes = (config['imgSize']*box_cxcywh_to_xyxy(target['boxes'].cpu().numpy())).astype(np.int64)\r\n",
        "\r\n",
        "    labels = target['labels'].cpu().numpy()\r\n",
        "\r\n",
        "    numpy_image = image.permute(1, 2, 0).cpu().numpy()\r\n",
        "\r\n",
        "    fig, ax = plt.subplots(1, 1, figsize=(4, 4))\r\n",
        "\r\n",
        "    for box, label in zip(boxes, labels):\r\n",
        "        cv2.rectangle(numpy_image, (box[0], box[1]), (box[2], box[3]), mapping[label], 10)\r\n",
        "\r\n",
        "    ax.set_axis_off()\r\n",
        "    ax.imshow(numpy_image)\r\n",
        "    plt.show()"
      ],
      "execution_count": null,
      "outputs": [
        {
          "output_type": "display_data",
          "data": {
            "image/png": "[encoded data removed]",
            "text/plain": [
              "<Figure size 288x288 with 1 Axes>"
            ]
          },
          "metadata": {
            "tags": [],
            "needs_background": "light"
          }
        },
        {
          "output_type": "display_data",
          "data": {
            "image/png": "[encoded data removed]",
            "text/plain": [
              "<Figure size 288x288 with 1 Axes>"
            ]
          },
          "metadata": {
            "tags": [],
            "needs_background": "light"
          }
        },
        {
          "output_type": "display_data",
          "data": {
            "image/png": "[encoded data removed]",
            "text/plain": [
              "<Figure size 288x288 with 1 Axes>"
            ]
          },
          "metadata": {
            "tags": [],
            "needs_background": "light"
          }
        },
        {
          "output_type": "display_data",
          "data": {
            "image/png": "[encoded data removed]",
            "text/plain": [
              "<Figure size 288x288 with 1 Axes>"
            ]
          },
          "metadata": {
            "tags": [],
            "needs_background": "light"
          }
        },
        {
          "output_type": "display_data",
          "data": {
            "image/png": "[encoded data removed]",
            "text/plain": [
              "<Figure size 288x288 with 1 Axes>"
            ]
          },
          "metadata": {
            "tags": [],
            "needs_background": "light"
          }
        }
      ]
    },
    {
      "cell_type": "code",
      "metadata": {
        "id": "rkKkesI7SuOn"
      },
      "source": [
        "class AverageMeter(object):\r\n",
        "    \"\"\"Computes and stores the average and current value\"\"\"\r\n",
        "    def __init__(self):\r\n",
        "        self.reset()\r\n",
        "\r\n",
        "    def reset(self):\r\n",
        "        self.val = 0\r\n",
        "        self.avg = 0\r\n",
        "        self.sum = 0\r\n",
        "        self.count = 0\r\n",
        "\r\n",
        "    def update(self, val, n=1):\r\n",
        "        self.val = val\r\n",
        "        self.sum += val * n\r\n",
        "        self.count += n\r\n",
        "        self.avg = self.sum / self.count"
      ],
      "execution_count": null,
      "outputs": []
    },
    {
      "cell_type": "code",
      "metadata": {
        "id": "c03Ec4eXS5I1"
      },
      "source": [
        "import math\r\n",
        "import torch\r\n",
        "from torch.optim import Optimizer\r\n",
        "\r\n",
        "class Adas(Optimizer):\r\n",
        "    r\"\"\"\r\n",
        "    Introduction:\r\n",
        "        For the mathematical part see https://github.com/YanaiEliyahu/AdasOptimizer,\r\n",
        "        the `Theory` section contains the major innovation,\r\n",
        "        and then `How ADAS works` contains more low level details that are still somewhat related to the theory.\r\n",
        "    Arguments:\r\n",
        "        params (iterable): iterable of parameters to optimize or dicts defining parameter groups\r\n",
        "        lr: float > 0. Initial learning rate that is per feature/input (e.g. dense layer with N inputs and M outputs, will have N learning rates).\r\n",
        "        lr2: float >= 0.  lr's Initial learning rate. (just ~1-2 per layer, additonal one because of bias)\r\n",
        "        lr3: float >= 0. lr2's fixed learning rate. (global)\r\n",
        "        beta_1: 0 < float < 1. Preferably close to 1. Second moments decay factor to update lr and lr2 weights.\r\n",
        "        beta_2: 0 < float < 1. Preferably close to 1. 1/(1 - beta_2) steps back in time that `lr`s will be optimized for, larger dataset might require more nines.\r\n",
        "        beta_3: 0 < float < 1. Preferably close to 1. Same as beta_2, but for `lr2`s.\r\n",
        "        epsilon: float >= 0. Fuzz factor. If `None`, defaults to `K.epsilon()`.\r\n",
        "    \"\"\"\r\n",
        "\r\n",
        "    def __init__(self, params,\r\n",
        "            lr = 0.001, lr2 = .005, lr3 = .0005,\r\n",
        "            beta_1 = 0.999, beta_2 = 0.999, beta_3 = 0.9999,\r\n",
        "            epsilon = 1e-8, **kwargs):\r\n",
        "        if not 0.0 <= lr:\r\n",
        "            raise ValueError(\"Invalid lr: {}\".format(lr))\r\n",
        "        if not 0.0 <= lr2:\r\n",
        "            raise ValueError(\"Invalid lr2: {}\".format(lr))\r\n",
        "        if not 0.0 <= lr3:\r\n",
        "            raise ValueError(\"Invalid lr3: {}\".format(lr))\r\n",
        "        if not 0.0 <= epsilon:\r\n",
        "            raise ValueError(\"Invalid epsilon value: {}\".format(eps))\r\n",
        "        if not 0.0 <= beta_1 < 1.0:\r\n",
        "            raise ValueError(\"Invalid beta_1 parameter: {}\".format(betas[0]))\r\n",
        "        if not 0.0 <= beta_2 < 1.0:\r\n",
        "            raise ValueError(\"Invalid beta_2 parameter: {}\".format(betas[1]))\r\n",
        "        if not 0.0 <= beta_3 < 1.0:\r\n",
        "            raise ValueError(\"Invalid beta_3 parameter: {}\".format(betas[2]))\r\n",
        "        defaults = dict(lr=lr, lr2=lr2, lr3=lr3, beta_1=beta_1, beta_2=beta_2, beta_3=beta_3, epsilon=epsilon)\r\n",
        "        self._varn = None\r\n",
        "        self._is_create_slots = None\r\n",
        "        self._curr_var = None\r\n",
        "        self._lr = lr\r\n",
        "        self._lr2 = lr2\r\n",
        "        self._lr3 = lr3\r\n",
        "        self._beta_1 = beta_1\r\n",
        "        self._beta_2 = beta_2\r\n",
        "        self._beta_3 = beta_3\r\n",
        "        self._epsilon = epsilon\r\n",
        "        super(Adas, self).__init__(params, defaults)\r\n",
        "\r\n",
        "    def __setstate__(self, state):\r\n",
        "        super(Adas, self).__setstate__(state)\r\n",
        "\r\n",
        "    @torch.no_grad()\r\n",
        "    def _add(self,x,y):\r\n",
        "        x.add_(y)\r\n",
        "        return x\r\n",
        "\r\n",
        "    @torch.no_grad()\r\n",
        "    # TODO: fix variables' names being too convoluted in _derivatives_normalizer and _get_updates_universal_impl\r\n",
        "    def _derivatives_normalizer(self,derivative,beta):\r\n",
        "        steps = self._make_variable(0,(),derivative.dtype)\r\n",
        "        self._add(steps,1)\r\n",
        "        factor = (1. - (self._beta_1 ** steps)).sqrt()\r\n",
        "        m = self._make_variable(0,derivative.shape,derivative.dtype)\r\n",
        "        moments = self._make_variable(0,derivative.shape,derivative.dtype)\r\n",
        "        m.mul_(self._beta_1).add_((1 - self._beta_1) * derivative * derivative)\r\n",
        "        np_t = derivative * factor / (m.sqrt() + self._epsilon)\r\n",
        "        #the third returned value should be called when the moments is finally unused, so it's updated\r\n",
        "        return (moments,np_t,lambda: moments.mul_(beta).add_((1 - beta) * np_t))\r\n",
        "\r\n",
        "    def _make_variable(self,value,shape,dtype):\r\n",
        "        self._varn += 1\r\n",
        "        name = 'unnamed_variable' + str(self._varn)\r\n",
        "        if self._is_create_slots:\r\n",
        "            self.state[self._curr_var][name] = torch.full(size=shape,fill_value=value,dtype=dtype,device=self._curr_var.device)\r\n",
        "        return self.state[self._curr_var][name]\r\n",
        "\r\n",
        "    @torch.no_grad()\r\n",
        "    def _get_updates_universal_impl(self, grad, param):\r\n",
        "        lr = self._make_variable(value = self._lr,shape=param.shape[1:], dtype=param.dtype)\r\n",
        "        moment, deriv, f = self._derivatives_normalizer(grad,self._beta_3)\r\n",
        "        param.add_( - torch.unsqueeze(lr,0) * deriv)\r\n",
        "        lr_deriv = torch.sum(moment * grad,0)\r\n",
        "        f()\r\n",
        "        master_lr = self._make_variable(self._lr2,(),dtype=torch.float32)\r\n",
        "        m2,d2, f = self._derivatives_normalizer(lr_deriv,self._beta_2)\r\n",
        "        self._add(lr,master_lr * lr * d2)\r\n",
        "        master_lr_deriv2 = torch.sum(m2 * lr_deriv)\r\n",
        "        f()\r\n",
        "        m3,d3,f = self._derivatives_normalizer(master_lr_deriv2,0.)\r\n",
        "        self._add(master_lr,self._lr3 * master_lr * d3)\r\n",
        "        f()\r\n",
        "\r\n",
        "    @torch.no_grad()\r\n",
        "    def _get_updates_universal(self, param, grad, is_create_slots):\r\n",
        "        self._curr_var = param\r\n",
        "        self._is_create_slots = is_create_slots\r\n",
        "        self._varn = 0\r\n",
        "        return self._get_updates_universal_impl(grad,self._curr_var.data)\r\n",
        "\r\n",
        "    @torch.no_grad()\r\n",
        "    def step(self, closure=None):\r\n",
        "        \"\"\"Performs a single optimization step.\r\n",
        "        Arguments:\r\n",
        "            closure (callable, optional): A closure that reevaluates the model\r\n",
        "                and returns the loss.\r\n",
        "        \"\"\"\r\n",
        "        loss = None\r\n",
        "        if closure is not None:\r\n",
        "            with torch.enable_grad():\r\n",
        "                loss = closure()\r\n",
        "\r\n",
        "        for group in self.param_groups:\r\n",
        "            for p in group['params']:\r\n",
        "                if p.grad is None:\r\n",
        "                    continue\r\n",
        "                grad = p.grad.data\r\n",
        "                if grad.is_sparse:\r\n",
        "                    raise RuntimeError('Adas does not support sparse gradients')\r\n",
        "                self._get_updates_universal(p,grad,len(self.state[p]) == 0)\r\n",
        "        return loss"
      ],
      "execution_count": null,
      "outputs": []
    },
    {
      "cell_type": "code",
      "metadata": {
        "id": "lO7TMr08tBbP"
      },
      "source": [
        "class mAPScore:\r\n",
        "    def __init__(self, gt_json, pred_json):\r\n",
        "        self.gt_json = gt_json\r\n",
        "        self.pred_json = pred_json\r\n",
        "        self.coco_gt = COCO(gt_json)\r\n",
        "        self.get_image_ids()\r\n",
        "\r\n",
        "    def get_image_ids(self):\r\n",
        "        self.image_ids = []\r\n",
        "        with open(self.pred_json, 'r') as f:\r\n",
        "            data = json.load(f)\r\n",
        "            for item in data:\r\n",
        "                image_id = item['image_id']\r\n",
        "                self.image_ids.append(image_id)\r\n",
        "\r\n",
        "    def evaluate(self):\r\n",
        "        coco_pred = self.coco_gt.loadRes(self.pred_json)\r\n",
        "\r\n",
        "        coco_eval = COCOeval(self.coco_gt, coco_pred, 'bbox')\r\n",
        "        coco_eval.params.imgIds = self.image_ids\r\n",
        "\r\n",
        "        coco_eval.params.iouThrs = np.array([0.4])\r\n",
        "\r\n",
        "        coco_eval.evaluate()\r\n",
        "        coco_eval.accumulate()\r\n",
        "        coco_eval.summarize()\r\n",
        "        stats = coco_eval.stats\r\n",
        "        return stats"
      ],
      "execution_count": null,
      "outputs": []
    },
    {
      "cell_type": "code",
      "metadata": {
        "id": "PdEmHTi6OJok"
      },
      "source": [
        "def to_format(image_id, boxes, scores, labels):\r\n",
        "    result = [0]*len(labels)\r\n",
        "    boxes = boxes.tolist()\r\n",
        "    labels = labels.tolist()\r\n",
        "    scores = scores.tolist()\r\n",
        "    for i in range(len(labels)):\r\n",
        "        result[i] = {\r\n",
        "            'image_id': image_id,\r\n",
        "            'category_id': labels[i],\r\n",
        "            'score': scores[i],\r\n",
        "            'bbox': [boxes[i][0], boxes[i][1], boxes[i][2]-boxes[i][0], boxes[i][3]-boxes[i][1]]\r\n",
        "        }\r\n",
        "    return result\r\n",
        "\r\n",
        "image_name_to_id = {}\r\n",
        "with open(config['gt']) as json_file:\r\n",
        "    data = json.load(json_file)['images']\r\n",
        "    for i in data:\r\n",
        "        image_name_to_id[i['file_name']] = i['id']\r\n",
        "\r\n",
        "def mAP(df, gt, iou = config['iou_thr']):\r\n",
        "\r\n",
        "    df = np.array([\r\n",
        "                   df['ImageID'],\r\n",
        "                   np.array(df['LabelName']).astype(np.int32),\r\n",
        "                   df['Conf'],\r\n",
        "                   df['XMin'],\r\n",
        "                   df['YMin'],\r\n",
        "                   df['XMax'],\r\n",
        "                   df['YMax']\r\n",
        "                   ]).T\r\n",
        "    \r\n",
        "    gt = np.array([\r\n",
        "                   gt['ImageID'],\r\n",
        "                   np.array(gt['LabelName']).astype(np.int32),\r\n",
        "                   gt['XMin'],\r\n",
        "                   gt['YMin'],\r\n",
        "                   gt['XMax'],\r\n",
        "                   gt['YMax']\r\n",
        "                   ]).T\r\n",
        "    \r\n",
        "    return mean_average_precision_for_boxes(gt,\r\n",
        "                                            df,\r\n",
        "                                            iou_threshold = iou, verbose = True)"
      ],
      "execution_count": null,
      "outputs": []
    },
    {
      "cell_type": "code",
      "metadata": {
        "id": "jkXmnpWES9rd"
      },
      "source": [
        "class Fitter:\r\n",
        "    def __init__(self,\r\n",
        "                 model,\r\n",
        "                 criterion,\r\n",
        "                 optimizer,\r\n",
        "                 lr_scheduler,\r\n",
        "                 valid_scheduler,\r\n",
        "                 debug = 100):\r\n",
        "        \r\n",
        "        self.epoch = 0\r\n",
        "\r\n",
        "        self.device = torch.device('cuda') if torch.cuda.is_available() else torch.device('cpu')\r\n",
        "\r\n",
        "        self.model = model\r\n",
        "        self.model.to(self.device)\r\n",
        "\r\n",
        "        self.criterion = criterion\r\n",
        "        self.criterion.to(self.device)\r\n",
        "\r\n",
        "        self.optimizer = optimizer\r\n",
        "        self.lr_scheduler = lr_scheduler\r\n",
        "        self.valid_scheduler = valid_scheduler\r\n",
        "\r\n",
        "        self.debug = debug\r\n",
        "\r\n",
        "        if not os.path.exists(config['save_dir']):\r\n",
        "            os.makedirs(config['save_dir'])\r\n",
        "\r\n",
        "    def fit(self, train_loader, valid_loader, n_epochs, debug = False):\r\n",
        "        for e in range(n_epochs):\r\n",
        "            print('EPOCH:',e,'LR:',self.optimizer.param_groups[0]['lr'])\r\n",
        "            t = time.time()\r\n",
        "            summary_loss = self.train_one_epoch(train_loader, debug)\r\n",
        "\r\n",
        "            self.model.eval()\r\n",
        "            torch.save(self.model.state_dict(), config['save_dir']+f\"/model_state_epoch_{str(self.epoch).zfill(3)}.pth\")\r\n",
        "\r\n",
        "            t = time.time()\r\n",
        "            mAP04 = self.validation(valid_loader, debug)[0]\r\n",
        "\r\n",
        "            if (config['valid_scheduler']):\r\n",
        "                self.valid_scheduler.step(metrics=mAP04)\r\n",
        "\r\n",
        "            self.epoch += 1\r\n",
        "\r\n",
        "    def train_one_epoch(self, train_loader, debug):\r\n",
        "        self.model.train()\r\n",
        "        self.criterion.train()\r\n",
        "        summary_loss = AverageMeter()\r\n",
        "        train_stt = tqdm(train_loader)\r\n",
        "\r\n",
        "        for step, (images, targets, image_ids) in enumerate(train_stt):\r\n",
        "            train_stt.set_description(f\"Loss: {summary_loss.avg:.5f}\")\r\n",
        "\r\n",
        "            images = list(image.to(device) for image in images)\r\n",
        "            targets = [{k: v.to(device) for k, v in t.items()} for t in targets]\r\n",
        "\r\n",
        "            output = self.model(images)\r\n",
        "\r\n",
        "            loss_dict = self.criterion(output, targets)\r\n",
        "            losses = sum(loss_dict[k] * criterion.weight_dict[k] for k in loss_dict.keys() if k in criterion.weight_dict)\r\n",
        "\r\n",
        "            self.optimizer.zero_grad()\r\n",
        "            losses.backward()\r\n",
        "            self.optimizer.step()\r\n",
        "            \r\n",
        "            if (config['scheduler']):\r\n",
        "                self.lr_scheduler.step()\r\n",
        "\r\n",
        "            summary_loss.update(losses.item(), len(images))\r\n",
        "\r\n",
        "            if (debug):\r\n",
        "                if (step > self.debug):\r\n",
        "                    break\r\n",
        "\r\n",
        "    def validation(self, valid_loader, debug):\r\n",
        "        self.model.eval()\r\n",
        "        self.criterion.eval()\r\n",
        "        valid_stt = tqdm(valid_loader)\r\n",
        "        json_data = []\r\n",
        "        df = {'ImageID': [], 'LabelName': [], 'Conf':[], 'XMin': [], 'XMax': [], 'YMin': [], 'YMax': []}\r\n",
        "        gt = {'ImageID': [], 'LabelName': [], 'XMin': [], 'XMax': [], 'YMin': [], 'YMax': []}\r\n",
        "\r\n",
        "        with torch.no_grad():\r\n",
        "            for step, (images, targets, image_ids) in enumerate(valid_stt):\r\n",
        "                valid_stt.set_description(f\"Num boxes: {len(json_data)}\")\r\n",
        "\r\n",
        "                images = list(image.to(device) for image in images)\r\n",
        "                batch_size = len(images)\r\n",
        "                pred = self.model(images)\r\n",
        "\r\n",
        "                for i in range(batch_size):\r\n",
        "                    _, h,w = images[i].cpu().detach().numpy().shape\r\n",
        "\r\n",
        "                    boxes  = box_cxcywh_to_xyxy(pred['pred_boxes'][i].cpu().detach().numpy())\r\n",
        "                    probs = torch.nn.functional.softmax(pred['pred_logits'][i])\r\n",
        "\r\n",
        "                    labels = np.argmax(probs.cpu().detach().numpy(), axis = 1)\r\n",
        "                    scores = np.max(probs.cpu().detach().numpy(), axis = 1)\r\n",
        "\r\n",
        "                    target_boxes = box_cxcywh_to_xyxy(targets[i]['boxes'].cpu().detach().numpy())\r\n",
        "                    target_labels = targets[i]['labels'].cpu().detach().numpy()\r\n",
        "                    \r\n",
        "                    boxes, scores, labels = weighted_boxes_fusion([boxes], [scores], [labels],\r\n",
        "                                                                weights=None,\r\n",
        "                                                                iou_thr=config['infer_iou_thr'],\r\n",
        "                                                                skip_box_thr=config['skip_box_thr'])\r\n",
        "\r\n",
        "                    \r\n",
        "                    \r\n",
        "                    labels = labels.astype(np.int32)\r\n",
        "                    target_labels = target_labels.astype(np.int32)\r\n",
        "\r\n",
        "                    df['ImageID'] += [image_ids[i]]*len(boxes)\r\n",
        "                    df['LabelName'] += labels.tolist()\r\n",
        "                    df['Conf'] += scores.tolist()\r\n",
        "                    df['XMin'] += boxes[:,0].tolist()\r\n",
        "                    df['YMin'] += boxes[:,1].tolist()\r\n",
        "                    df['XMax'] += boxes[:,2].tolist()\r\n",
        "                    df['YMax'] += boxes[:,3].tolist()\r\n",
        "\r\n",
        "                    gt['ImageID'] += [image_ids[i]]*len(target_boxes)\r\n",
        "                    gt['LabelName'] += target_labels.tolist()\r\n",
        "                    gt['XMin'] += target_boxes[:,0].tolist()\r\n",
        "                    gt['YMin'] += target_boxes[:,1].tolist()\r\n",
        "                    gt['XMax'] += target_boxes[:,2].tolist()\r\n",
        "                    gt['YMax'] += target_boxes[:,3].tolist()\r\n",
        "\r\n",
        "                    #json_data += to_format(image_name_to_id[image_ids[i]+'.png'], boxes*512, scores, labels)\r\n",
        "\r\n",
        "                step += 1\r\n",
        "                if (debug):\r\n",
        "                    if (step > self.debug):\r\n",
        "                        break\r\n",
        "\r\n",
        "            mAP04 = mAP(df, gt, 0.4)\r\n",
        "\r\n",
        "            if (len(json_data) > 0):\r\n",
        "                with open('eval.json', 'w') as f:\r\n",
        "                    json.dump(json_data, f)\r\n",
        "\r\n",
        "                #mAPScore(config['gt'], 'eval.json').evaluate()\r\n",
        "            \r\n",
        "        return mAP04"
      ],
      "execution_count": null,
      "outputs": []
    },
    {
      "cell_type": "code",
      "metadata": {
        "id": "2fKYwhH3GOf9",
        "colab": {
          "base_uri": "https://localhost:8080/"
        },
        "outputId": "41c371c3-44bc-41d2-dc95-83a89a6ef841"
      },
      "source": [
        "class DETRModel(nn.Module):\r\n",
        "    def __init__(self,num_classes,num_queries):\r\n",
        "        super(DETRModel,self).__init__()\r\n",
        "        self.num_classes = num_classes\r\n",
        "        self.num_queries = num_queries\r\n",
        "        \r\n",
        "        self.model = torch.hub.load('facebookresearch/detr', 'detr_resnet101', pretrained=True)\r\n",
        "        self.in_features = self.model.class_embed.in_features\r\n",
        "        \r\n",
        "        self.model.class_embed = nn.Linear(in_features=self.in_features,out_features=self.num_classes)\r\n",
        "        self.model.num_queries = self.num_queries\r\n",
        "        \r\n",
        "    def forward(self,images):\r\n",
        "        return self.model(images)\r\n",
        "\r\n",
        "net = DETRModel(num_classes=config['num_classes'],num_queries=config['num_queries'])\r\n",
        "net = net.to(config['device'])\r\n",
        "\r\n",
        "matcher = HungarianMatcher()\r\n",
        "\r\n",
        "criterion = SetCriterion(config['num_classes']-1, matcher, config['weight_dict'], eos_coef = config['null_class_coef'], losses=config['losses'])\r\n",
        "criterion = criterion.to(config['device'])"
      ],
      "execution_count": null,
      "outputs": [
        {
          "output_type": "stream",
          "text": [
            "Using cache found in /root/.cache/torch/hub/facebookresearch_detr_master\n"
          ],
          "name": "stderr"
        }
      ]
    },
    {
      "cell_type": "code",
      "metadata": {
        "id": "fyPkTCz8Wzgy"
      },
      "source": [
        "def collate_fn(batch):\r\n",
        "    return tuple(zip(*batch))\r\n",
        "\r\n",
        "def run_training(debug = False):\r\n",
        "    \r\n",
        "    train_data_loader = torch.utils.data.DataLoader(\r\n",
        "        train_dataset,\r\n",
        "        batch_size=config['batch_size'],\r\n",
        "        sampler=RandomSampler(train_dataset),\r\n",
        "        pin_memory=True,\r\n",
        "        drop_last=True,\r\n",
        "        num_workers=multiprocessing.cpu_count(),\r\n",
        "        collate_fn=collate_fn,\r\n",
        "    )\r\n",
        "    \r\n",
        "    valid_data_loader = torch.utils.data.DataLoader(\r\n",
        "        validation_dataset,\r\n",
        "        batch_size=config['batch_size'],\r\n",
        "        num_workers=multiprocessing.cpu_count(),\r\n",
        "        shuffle=False,\r\n",
        "        sampler=SequentialSampler(validation_dataset),\r\n",
        "        pin_memory=True,\r\n",
        "        collate_fn=collate_fn,\r\n",
        "    )\r\n",
        "\r\n",
        "    optimizer = Adas([p for p in net.parameters() if p.requires_grad], lr=config['lr'])\r\n",
        "    lr_scheduler = torch.optim.lr_scheduler.CosineAnnealingWarmRestarts(optimizer,\r\n",
        "                                                                T_0=100,\r\n",
        "                                                                T_mult=1,\r\n",
        "                                                                eta_min=0.0001,\r\n",
        "                                                                last_epoch=-1,\r\n",
        "                                                                verbose = False)\r\n",
        "    \r\n",
        "    valid_scheduler = torch.optim.lr_scheduler.ReduceLROnPlateau(optimizer, mode='max', factor=0.1, patience=5, threshold=0.0001, threshold_mode='rel', cooldown=0, min_lr=1e-10, eps=1e-08, verbose=True)\r\n",
        "\r\n",
        "    fitter = Fitter(model = net, criterion = criterion, optimizer = optimizer, lr_scheduler = lr_scheduler, valid_scheduler = valid_scheduler)\r\n",
        "    fitter.fit(train_data_loader, valid_data_loader, n_epochs = config['n_epochs'], debug = debug)"
      ],
      "execution_count": null,
      "outputs": []
    },
    {
      "cell_type": "code",
      "metadata": {
        "id": "d1YYjHXAW_1k",
        "colab": {
          "base_uri": "https://localhost:8080/"
        },
        "outputId": "b4600105-2a04-4f35-8a9a-8ad91736a191"
      },
      "source": [
        "run_training(config['debug'])"
      ],
      "execution_count": null,
      "outputs": [
        {
          "output_type": "stream",
          "text": [
            "\r  0%|          | 0/1073 [00:00<?, ?it/s]"
          ],
          "name": "stderr"
        },
        {
          "output_type": "stream",
          "text": [
            "EPOCH: 0 LR: 4e-05\n"
          ],
          "name": "stdout"
        },
        {
          "output_type": "stream",
          "text": [
            "Loss: 176.14122: 100%|██████████| 1073/1073 [21:48<00:00,  1.22s/it]\n",
            "Num boxes: 0: 100%|██████████| 266/266 [01:55<00:00,  2.30it/s]\n"
          ],
          "name": "stderr"
        },
        {
          "output_type": "stream",
          "text": [
            "Number of files in annotations: 1061\n",
            "Number of files in predictions: 1061\n",
            "Unique classes: 15\n",
            "Detections length: 1061\n",
            "Annotations length: 1061\n",
            "0                              | 0.000000 |     190\n",
            "1                              | 0.000000 |    1438\n",
            "10                             | 0.000000 |     433\n",
            "11                             | 0.000000 |     492\n",
            "12                             | 0.000000 |     957\n",
            "13                             | 0.000000 |      39\n"
          ],
          "name": "stdout"
        },
        {
          "output_type": "stream",
          "text": [
            "\r  0%|          | 0/1073 [00:00<?, ?it/s]"
          ],
          "name": "stderr"
        },
        {
          "output_type": "stream",
          "text": [
            "14                             | 0.000140 |     953\n",
            "2                              | 0.000000 |      66\n",
            "3                              | 0.000000 |     187\n",
            "4                              | 0.000000 |    1075\n",
            "5                              | 0.000000 |     102\n",
            "6                              | 0.000000 |     203\n",
            "7                              | 0.000000 |     268\n",
            "8                              | 0.000000 |     511\n",
            "9                              | 0.000000 |     448\n",
            "mAP: 0.000009\n",
            "EPOCH: 1 LR: 4e-05\n"
          ],
          "name": "stdout"
        },
        {
          "output_type": "stream",
          "text": [
            "Loss: 173.42644: 100%|██████████| 1073/1073 [21:56<00:00,  1.23s/it]\n",
            "Num boxes: 0: 100%|██████████| 266/266 [01:55<00:00,  2.31it/s]\n"
          ],
          "name": "stderr"
        },
        {
          "output_type": "stream",
          "text": [
            "Number of files in annotations: 1061\n",
            "Number of files in predictions: 1061\n",
            "Unique classes: 15\n",
            "Detections length: 1061\n",
            "Annotations length: 1061\n",
            "0                              | 0.000000 |     190\n",
            "1                              | 0.000000 |    1438\n",
            "10                             | 0.000000 |     433\n",
            "11                             | 0.000000 |     492\n",
            "12                             | 0.000000 |     957\n",
            "13                             | 0.000000 |      39\n"
          ],
          "name": "stdout"
        },
        {
          "output_type": "stream",
          "text": [
            "\r  0%|          | 0/1073 [00:00<?, ?it/s]"
          ],
          "name": "stderr"
        },
        {
          "output_type": "stream",
          "text": [
            "14                             | 0.000215 |     953\n",
            "2                              | 0.000000 |      66\n",
            "3                              | 0.000000 |     187\n",
            "4                              | 0.000000 |    1075\n",
            "5                              | 0.000000 |     102\n",
            "6                              | 0.000000 |     203\n",
            "7                              | 0.000000 |     268\n",
            "8                              | 0.000000 |     511\n",
            "9                              | 0.000000 |     448\n",
            "mAP: 0.000014\n",
            "EPOCH: 2 LR: 4e-05\n"
          ],
          "name": "stdout"
        },
        {
          "output_type": "stream",
          "text": [
            "Loss: 174.83970: 100%|██████████| 1073/1073 [21:54<00:00,  1.23s/it]\n",
            "Num boxes: 0: 100%|██████████| 266/266 [01:54<00:00,  2.33it/s]\n"
          ],
          "name": "stderr"
        },
        {
          "output_type": "stream",
          "text": [
            "Number of files in annotations: 1061\n",
            "Number of files in predictions: 1061\n",
            "Unique classes: 15\n",
            "Detections length: 1061\n",
            "Annotations length: 1061\n",
            "0                              | 0.000000 |     190\n",
            "1                              | 0.000000 |    1438\n",
            "10                             | 0.000000 |     433\n",
            "11                             | 0.000000 |     492\n",
            "12                             | 0.000000 |     957\n",
            "13                             | 0.000000 |      39\n"
          ],
          "name": "stdout"
        },
        {
          "output_type": "stream",
          "text": [
            "\r  0%|          | 0/1073 [00:00<?, ?it/s]"
          ],
          "name": "stderr"
        },
        {
          "output_type": "stream",
          "text": [
            "14                             | 0.000221 |     953\n",
            "2                              | 0.000000 |      66\n",
            "3                              | 0.000000 |     187\n",
            "4                              | 0.000000 |    1075\n",
            "5                              | 0.000000 |     102\n",
            "6                              | 0.000000 |     203\n",
            "7                              | 0.000000 |     268\n",
            "8                              | 0.000000 |     511\n",
            "9                              | 0.000000 |     448\n",
            "mAP: 0.000015\n",
            "EPOCH: 3 LR: 4e-05\n"
          ],
          "name": "stdout"
        },
        {
          "output_type": "stream",
          "text": [
            "Loss: 175.01352: 100%|██████████| 1073/1073 [21:56<00:00,  1.23s/it]\n",
            "Num boxes: 0: 100%|██████████| 266/266 [01:54<00:00,  2.33it/s]\n"
          ],
          "name": "stderr"
        },
        {
          "output_type": "stream",
          "text": [
            "Number of files in annotations: 1061\n",
            "Number of files in predictions: 1061\n",
            "Unique classes: 15\n",
            "Detections length: 1061\n",
            "Annotations length: 1061\n",
            "0                              | 0.000000 |     190\n",
            "1                              | 0.000000 |    1438\n",
            "10                             | 0.000000 |     433\n",
            "11                             | 0.000000 |     492\n",
            "12                             | 0.000000 |     957\n",
            "13                             | 0.000000 |      39\n"
          ],
          "name": "stdout"
        },
        {
          "output_type": "stream",
          "text": [
            "\r  0%|          | 0/1073 [00:00<?, ?it/s]"
          ],
          "name": "stderr"
        },
        {
          "output_type": "stream",
          "text": [
            "14                             | 0.000338 |     953\n",
            "2                              | 0.000000 |      66\n",
            "3                              | 0.000000 |     187\n",
            "4                              | 0.000000 |    1075\n",
            "5                              | 0.000000 |     102\n",
            "6                              | 0.000000 |     203\n",
            "7                              | 0.000000 |     268\n",
            "8                              | 0.000000 |     511\n",
            "9                              | 0.000000 |     448\n",
            "mAP: 0.000023\n",
            "EPOCH: 4 LR: 4e-05\n"
          ],
          "name": "stdout"
        },
        {
          "output_type": "stream",
          "text": [
            "Loss: 167.61283: 100%|██████████| 1073/1073 [21:56<00:00,  1.23s/it]\n",
            "Num boxes: 0: 100%|██████████| 266/266 [01:54<00:00,  2.32it/s]\n"
          ],
          "name": "stderr"
        },
        {
          "output_type": "stream",
          "text": [
            "Number of files in annotations: 1061\n",
            "Number of files in predictions: 1061\n",
            "Unique classes: 15\n",
            "Detections length: 1061\n",
            "Annotations length: 1061\n",
            "0                              | 0.000000 |     190\n",
            "1                              | 0.000000 |    1438\n",
            "10                             | 0.000000 |     433\n",
            "11                             | 0.000000 |     492\n",
            "12                             | 0.000000 |     957\n",
            "13                             | 0.000000 |      39\n"
          ],
          "name": "stdout"
        },
        {
          "output_type": "stream",
          "text": [
            "\r  0%|          | 0/1073 [00:00<?, ?it/s]"
          ],
          "name": "stderr"
        },
        {
          "output_type": "stream",
          "text": [
            "14                             | 0.000306 |     953\n",
            "2                              | 0.000000 |      66\n",
            "3                              | 0.000000 |     187\n",
            "4                              | 0.000000 |    1075\n",
            "5                              | 0.000000 |     102\n",
            "6                              | 0.000000 |     203\n",
            "7                              | 0.000000 |     268\n",
            "8                              | 0.000000 |     511\n",
            "9                              | 0.000000 |     448\n",
            "mAP: 0.000020\n",
            "EPOCH: 5 LR: 4e-05\n"
          ],
          "name": "stdout"
        },
        {
          "output_type": "stream",
          "text": [
            "Loss: 161.81887: 100%|██████████| 1073/1073 [21:54<00:00,  1.22s/it]\n",
            "Num boxes: 0: 100%|██████████| 266/266 [01:54<00:00,  2.33it/s]\n"
          ],
          "name": "stderr"
        },
        {
          "output_type": "stream",
          "text": [
            "Number of files in annotations: 1061\n",
            "Number of files in predictions: 1061\n",
            "Unique classes: 15\n",
            "Detections length: 1061\n",
            "Annotations length: 1061\n",
            "0                              | 0.000000 |     190\n",
            "1                              | 0.000000 |    1438\n",
            "10                             | 0.000000 |     433\n",
            "11                             | 0.000000 |     492\n",
            "12                             | 0.000000 |     957\n",
            "13                             | 0.000000 |      39\n"
          ],
          "name": "stdout"
        },
        {
          "output_type": "stream",
          "text": [
            "\r  0%|          | 0/1073 [00:00<?, ?it/s]"
          ],
          "name": "stderr"
        },
        {
          "output_type": "stream",
          "text": [
            "14                             | 0.000275 |     953\n",
            "2                              | 0.000000 |      66\n",
            "3                              | 0.000000 |     187\n",
            "4                              | 0.000000 |    1075\n",
            "5                              | 0.000000 |     102\n",
            "6                              | 0.000000 |     203\n",
            "7                              | 0.000000 |     268\n",
            "8                              | 0.000000 |     511\n",
            "9                              | 0.000000 |     448\n",
            "mAP: 0.000018\n",
            "EPOCH: 6 LR: 4e-05\n"
          ],
          "name": "stdout"
        },
        {
          "output_type": "stream",
          "text": [
            "Loss: 169.38065: 100%|██████████| 1073/1073 [21:53<00:00,  1.22s/it]\n",
            "Num boxes: 0: 100%|██████████| 266/266 [01:53<00:00,  2.34it/s]\n"
          ],
          "name": "stderr"
        },
        {
          "output_type": "stream",
          "text": [
            "Number of files in annotations: 1061\n",
            "Number of files in predictions: 1061\n",
            "Unique classes: 15\n",
            "Detections length: 1061\n",
            "Annotations length: 1061\n",
            "0                              | 0.000000 |     190\n",
            "1                              | 0.000000 |    1438\n",
            "10                             | 0.000000 |     433\n",
            "11                             | 0.000000 |     492\n",
            "12                             | 0.000000 |     957\n",
            "13                             | 0.000000 |      39\n"
          ],
          "name": "stdout"
        },
        {
          "output_type": "stream",
          "text": [
            "\r  0%|          | 0/1073 [00:00<?, ?it/s]"
          ],
          "name": "stderr"
        },
        {
          "output_type": "stream",
          "text": [
            "14                             | 0.000236 |     953\n",
            "2                              | 0.000000 |      66\n",
            "3                              | 0.000000 |     187\n",
            "4                              | 0.000000 |    1075\n",
            "5                              | 0.000000 |     102\n",
            "6                              | 0.000000 |     203\n",
            "7                              | 0.000000 |     268\n",
            "8                              | 0.000000 |     511\n",
            "9                              | 0.000000 |     448\n",
            "mAP: 0.000016\n",
            "EPOCH: 7 LR: 4e-05\n"
          ],
          "name": "stdout"
        },
        {
          "output_type": "stream",
          "text": [
            "Loss: 170.78654: 100%|██████████| 1073/1073 [21:52<00:00,  1.22s/it]\n",
            "Num boxes: 0: 100%|██████████| 266/266 [01:54<00:00,  2.32it/s]\n"
          ],
          "name": "stderr"
        },
        {
          "output_type": "stream",
          "text": [
            "Number of files in annotations: 1061\n",
            "Number of files in predictions: 1061\n",
            "Unique classes: 15\n",
            "Detections length: 1061\n",
            "Annotations length: 1061\n",
            "0                              | 0.000000 |     190\n",
            "1                              | 0.000000 |    1438\n",
            "10                             | 0.000000 |     433\n",
            "11                             | 0.000000 |     492\n",
            "12                             | 0.000000 |     957\n",
            "13                             | 0.000000 |      39\n"
          ],
          "name": "stdout"
        },
        {
          "output_type": "stream",
          "text": [
            "\r  0%|          | 0/1073 [00:00<?, ?it/s]"
          ],
          "name": "stderr"
        },
        {
          "output_type": "stream",
          "text": [
            "14                             | 0.000519 |     953\n",
            "2                              | 0.000000 |      66\n",
            "3                              | 0.000000 |     187\n",
            "4                              | 0.000000 |    1075\n",
            "5                              | 0.000000 |     102\n",
            "6                              | 0.000000 |     203\n",
            "7                              | 0.000000 |     268\n",
            "8                              | 0.000000 |     511\n",
            "9                              | 0.000000 |     448\n",
            "mAP: 0.000035\n",
            "EPOCH: 8 LR: 4e-05\n"
          ],
          "name": "stdout"
        },
        {
          "output_type": "stream",
          "text": [
            "Loss: 171.75927: 100%|██████████| 1073/1073 [21:54<00:00,  1.22s/it]\n",
            "Num boxes: 0: 100%|██████████| 266/266 [01:55<00:00,  2.30it/s]\n"
          ],
          "name": "stderr"
        },
        {
          "output_type": "stream",
          "text": [
            "Number of files in annotations: 1061\n",
            "Number of files in predictions: 1061\n",
            "Unique classes: 15\n",
            "Detections length: 1061\n",
            "Annotations length: 1061\n",
            "0                              | 0.000000 |     190\n",
            "1                              | 0.000000 |    1438\n",
            "10                             | 0.000000 |     433\n",
            "11                             | 0.000000 |     492\n",
            "12                             | 0.000000 |     957\n",
            "13                             | 0.000000 |      39\n"
          ],
          "name": "stdout"
        },
        {
          "output_type": "stream",
          "text": [
            "\r  0%|          | 0/1073 [00:00<?, ?it/s]"
          ],
          "name": "stderr"
        },
        {
          "output_type": "stream",
          "text": [
            "14                             | 0.000418 |     953\n",
            "2                              | 0.000000 |      66\n",
            "3                              | 0.000000 |     187\n",
            "4                              | 0.000000 |    1075\n",
            "5                              | 0.000000 |     102\n",
            "6                              | 0.000000 |     203\n",
            "7                              | 0.000000 |     268\n",
            "8                              | 0.000000 |     511\n",
            "9                              | 0.000000 |     448\n",
            "mAP: 0.000028\n",
            "EPOCH: 9 LR: 4e-05\n"
          ],
          "name": "stdout"
        },
        {
          "output_type": "stream",
          "text": [
            "Loss: 168.33267: 100%|██████████| 1073/1073 [21:55<00:00,  1.23s/it]\n",
            "Num boxes: 0: 100%|██████████| 266/266 [01:56<00:00,  2.29it/s]\n"
          ],
          "name": "stderr"
        },
        {
          "output_type": "stream",
          "text": [
            "Number of files in annotations: 1061\n",
            "Number of files in predictions: 1061\n",
            "Unique classes: 15\n",
            "Detections length: 1061\n",
            "Annotations length: 1061\n",
            "0                              | 0.000000 |     190\n",
            "1                              | 0.000000 |    1438\n",
            "10                             | 0.000000 |     433\n",
            "11                             | 0.000000 |     492\n",
            "12                             | 0.000000 |     957\n",
            "13                             | 0.000000 |      39\n"
          ],
          "name": "stdout"
        },
        {
          "output_type": "stream",
          "text": [
            "\r  0%|          | 0/1073 [00:00<?, ?it/s]"
          ],
          "name": "stderr"
        },
        {
          "output_type": "stream",
          "text": [
            "14                             | 0.000292 |     953\n",
            "2                              | 0.000000 |      66\n",
            "3                              | 0.000000 |     187\n",
            "4                              | 0.000000 |    1075\n",
            "5                              | 0.000000 |     102\n",
            "6                              | 0.000000 |     203\n",
            "7                              | 0.000000 |     268\n",
            "8                              | 0.000000 |     511\n",
            "9                              | 0.000000 |     448\n",
            "mAP: 0.000019\n",
            "EPOCH: 10 LR: 4e-05\n"
          ],
          "name": "stdout"
        },
        {
          "output_type": "stream",
          "text": [
            "Loss: 170.79296: 100%|██████████| 1073/1073 [21:56<00:00,  1.23s/it]\n",
            "Num boxes: 0: 100%|██████████| 266/266 [01:55<00:00,  2.30it/s]\n"
          ],
          "name": "stderr"
        },
        {
          "output_type": "stream",
          "text": [
            "Number of files in annotations: 1061\n",
            "Number of files in predictions: 1061\n",
            "Unique classes: 15\n",
            "Detections length: 1061\n",
            "Annotations length: 1061\n",
            "0                              | 0.000000 |     190\n",
            "1                              | 0.000000 |    1438\n",
            "10                             | 0.000000 |     433\n",
            "11                             | 0.000000 |     492\n",
            "12                             | 0.000000 |     957\n",
            "13                             | 0.000000 |      39\n"
          ],
          "name": "stdout"
        },
        {
          "output_type": "stream",
          "text": [
            "\r  0%|          | 0/1073 [00:00<?, ?it/s]"
          ],
          "name": "stderr"
        },
        {
          "output_type": "stream",
          "text": [
            "14                             | 0.000331 |     953\n",
            "2                              | 0.000000 |      66\n",
            "3                              | 0.000000 |     187\n",
            "4                              | 0.000000 |    1075\n",
            "5                              | 0.000000 |     102\n",
            "6                              | 0.000000 |     203\n",
            "7                              | 0.000000 |     268\n",
            "8                              | 0.000000 |     511\n",
            "9                              | 0.000000 |     448\n",
            "mAP: 0.000022\n",
            "EPOCH: 11 LR: 4e-05\n"
          ],
          "name": "stdout"
        },
        {
          "output_type": "stream",
          "text": [
            "Loss: 168.91207: 100%|██████████| 1073/1073 [21:59<00:00,  1.23s/it]\n",
            "Num boxes: 0: 100%|██████████| 266/266 [01:55<00:00,  2.29it/s]\n"
          ],
          "name": "stderr"
        },
        {
          "output_type": "stream",
          "text": [
            "Number of files in annotations: 1061\n",
            "Number of files in predictions: 1061\n",
            "Unique classes: 15\n",
            "Detections length: 1061\n",
            "Annotations length: 1061\n",
            "0                              | 0.000000 |     190\n",
            "1                              | 0.000000 |    1438\n",
            "10                             | 0.000000 |     433\n",
            "11                             | 0.000000 |     492\n",
            "12                             | 0.000000 |     957\n",
            "13                             | 0.000000 |      39\n"
          ],
          "name": "stdout"
        },
        {
          "output_type": "stream",
          "text": [
            "\r  0%|          | 0/1073 [00:00<?, ?it/s]"
          ],
          "name": "stderr"
        },
        {
          "output_type": "stream",
          "text": [
            "14                             | 0.000305 |     953\n",
            "2                              | 0.000000 |      66\n",
            "3                              | 0.000000 |     187\n",
            "4                              | 0.000000 |    1075\n",
            "5                              | 0.000000 |     102\n",
            "6                              | 0.000000 |     203\n",
            "7                              | 0.000000 |     268\n",
            "8                              | 0.000000 |     511\n",
            "9                              | 0.000000 |     448\n",
            "mAP: 0.000020\n",
            "EPOCH: 12 LR: 4e-05\n"
          ],
          "name": "stdout"
        },
        {
          "output_type": "stream",
          "text": [
            "Loss: 168.32020: 100%|██████████| 1073/1073 [21:58<00:00,  1.23s/it]\n",
            "Num boxes: 0: 100%|██████████| 266/266 [01:55<00:00,  2.30it/s]\n"
          ],
          "name": "stderr"
        },
        {
          "output_type": "stream",
          "text": [
            "Number of files in annotations: 1061\n",
            "Number of files in predictions: 1061\n",
            "Unique classes: 15\n",
            "Detections length: 1061\n",
            "Annotations length: 1061\n",
            "0                              | 0.000000 |     190\n",
            "1                              | 0.000000 |    1438\n",
            "10                             | 0.000000 |     433\n",
            "11                             | 0.000000 |     492\n",
            "12                             | 0.000000 |     957\n",
            "13                             | 0.000000 |      39\n"
          ],
          "name": "stdout"
        },
        {
          "output_type": "stream",
          "text": [
            "\r  0%|          | 0/1073 [00:00<?, ?it/s]"
          ],
          "name": "stderr"
        },
        {
          "output_type": "stream",
          "text": [
            "14                             | 0.000489 |     953\n",
            "2                              | 0.000000 |      66\n",
            "3                              | 0.000000 |     187\n",
            "4                              | 0.000000 |    1075\n",
            "5                              | 0.000000 |     102\n",
            "6                              | 0.000000 |     203\n",
            "7                              | 0.000000 |     268\n",
            "8                              | 0.000000 |     511\n",
            "9                              | 0.000000 |     448\n",
            "mAP: 0.000033\n",
            "EPOCH: 13 LR: 4e-05\n"
          ],
          "name": "stdout"
        },
        {
          "output_type": "stream",
          "text": [
            "Loss: 168.90980: 100%|██████████| 1073/1073 [21:57<00:00,  1.23s/it]\n",
            "Num boxes: 0: 100%|██████████| 266/266 [01:55<00:00,  2.31it/s]\n"
          ],
          "name": "stderr"
        },
        {
          "output_type": "stream",
          "text": [
            "Number of files in annotations: 1061\n",
            "Number of files in predictions: 1061\n",
            "Unique classes: 15\n",
            "Detections length: 1061\n",
            "Annotations length: 1061\n",
            "0                              | 0.000000 |     190\n",
            "1                              | 0.000000 |    1438\n",
            "10                             | 0.000000 |     433\n",
            "11                             | 0.000000 |     492\n",
            "12                             | 0.000000 |     957\n",
            "13                             | 0.000000 |      39\n"
          ],
          "name": "stdout"
        },
        {
          "output_type": "stream",
          "text": [
            "\r  0%|          | 0/1073 [00:00<?, ?it/s]"
          ],
          "name": "stderr"
        },
        {
          "output_type": "stream",
          "text": [
            "14                             | 0.000277 |     953\n",
            "2                              | 0.000000 |      66\n",
            "3                              | 0.000000 |     187\n",
            "4                              | 0.000000 |    1075\n",
            "5                              | 0.000000 |     102\n",
            "6                              | 0.000000 |     203\n",
            "7                              | 0.000000 |     268\n",
            "8                              | 0.000000 |     511\n",
            "9                              | 0.000000 |     448\n",
            "mAP: 0.000018\n",
            "Epoch    14: reducing learning rate of group 0 to 4.0000e-06.\n",
            "EPOCH: 14 LR: 4.000000000000001e-06\n"
          ],
          "name": "stdout"
        },
        {
          "output_type": "stream",
          "text": [
            "Loss: 167.81024: 100%|██████████| 1073/1073 [21:57<00:00,  1.23s/it]\n",
            "Num boxes: 0: 100%|██████████| 266/266 [01:55<00:00,  2.30it/s]\n"
          ],
          "name": "stderr"
        },
        {
          "output_type": "stream",
          "text": [
            "Number of files in annotations: 1061\n",
            "Number of files in predictions: 1061\n",
            "Unique classes: 15\n",
            "Detections length: 1061\n",
            "Annotations length: 1061\n",
            "0                              | 0.000000 |     190\n",
            "1                              | 0.000000 |    1438\n",
            "10                             | 0.000000 |     433\n",
            "11                             | 0.000000 |     492\n",
            "12                             | 0.000000 |     957\n",
            "13                             | 0.000000 |      39\n"
          ],
          "name": "stdout"
        },
        {
          "output_type": "stream",
          "text": [
            "\r  0%|          | 0/1073 [00:00<?, ?it/s]"
          ],
          "name": "stderr"
        },
        {
          "output_type": "stream",
          "text": [
            "14                             | 0.000258 |     953\n",
            "2                              | 0.000000 |      66\n",
            "3                              | 0.000000 |     187\n",
            "4                              | 0.000000 |    1075\n",
            "5                              | 0.000000 |     102\n",
            "6                              | 0.000000 |     203\n",
            "7                              | 0.000000 |     268\n",
            "8                              | 0.000000 |     511\n",
            "9                              | 0.000000 |     448\n",
            "mAP: 0.000017\n",
            "EPOCH: 15 LR: 4.000000000000001e-06\n"
          ],
          "name": "stdout"
        },
        {
          "output_type": "stream",
          "text": [
            "Loss: 167.11232: 100%|██████████| 1073/1073 [21:58<00:00,  1.23s/it]\n",
            "Num boxes: 0: 100%|██████████| 266/266 [01:54<00:00,  2.32it/s]\n"
          ],
          "name": "stderr"
        },
        {
          "output_type": "stream",
          "text": [
            "Number of files in annotations: 1061\n",
            "Number of files in predictions: 1061\n",
            "Unique classes: 15\n",
            "Detections length: 1061\n",
            "Annotations length: 1061\n",
            "0                              | 0.000000 |     190\n",
            "1                              | 0.000000 |    1438\n",
            "10                             | 0.000000 |     433\n",
            "11                             | 0.000000 |     492\n",
            "12                             | 0.000000 |     957\n",
            "13                             | 0.000000 |      39\n"
          ],
          "name": "stdout"
        },
        {
          "output_type": "stream",
          "text": [
            "\r  0%|          | 0/1073 [00:00<?, ?it/s]"
          ],
          "name": "stderr"
        },
        {
          "output_type": "stream",
          "text": [
            "14                             | 0.000298 |     953\n",
            "2                              | 0.000000 |      66\n",
            "3                              | 0.000000 |     187\n",
            "4                              | 0.000000 |    1075\n",
            "5                              | 0.000000 |     102\n",
            "6                              | 0.000000 |     203\n",
            "7                              | 0.000000 |     268\n",
            "8                              | 0.000000 |     511\n",
            "9                              | 0.000000 |     448\n",
            "mAP: 0.000020\n",
            "EPOCH: 16 LR: 4.000000000000001e-06\n"
          ],
          "name": "stdout"
        },
        {
          "output_type": "stream",
          "text": [
            "Loss: 166.98253: 100%|██████████| 1073/1073 [21:56<00:00,  1.23s/it]\n",
            "Num boxes: 0: 100%|██████████| 266/266 [01:55<00:00,  2.31it/s]\n"
          ],
          "name": "stderr"
        },
        {
          "output_type": "stream",
          "text": [
            "Number of files in annotations: 1061\n",
            "Number of files in predictions: 1061\n",
            "Unique classes: 15\n",
            "Detections length: 1061\n",
            "Annotations length: 1061\n",
            "0                              | 0.000000 |     190\n",
            "1                              | 0.000000 |    1438\n",
            "10                             | 0.000000 |     433\n",
            "11                             | 0.000000 |     492\n",
            "12                             | 0.000000 |     957\n",
            "13                             | 0.000000 |      39\n"
          ],
          "name": "stdout"
        },
        {
          "output_type": "stream",
          "text": [
            "\r  0%|          | 0/1073 [00:00<?, ?it/s]"
          ],
          "name": "stderr"
        },
        {
          "output_type": "stream",
          "text": [
            "14                             | 0.000243 |     953\n",
            "2                              | 0.000000 |      66\n",
            "3                              | 0.000000 |     187\n",
            "4                              | 0.000000 |    1075\n",
            "5                              | 0.000000 |     102\n",
            "6                              | 0.000000 |     203\n",
            "7                              | 0.000000 |     268\n",
            "8                              | 0.000000 |     511\n",
            "9                              | 0.000000 |     448\n",
            "mAP: 0.000016\n",
            "EPOCH: 17 LR: 4.000000000000001e-06\n"
          ],
          "name": "stdout"
        },
        {
          "output_type": "stream",
          "text": [
            "Loss: 169.02228:  64%|██████▍   | 691/1073 [14:09<07:45,  1.22s/it]"
          ],
          "name": "stderr"
        }
      ]
    }
  ]
}