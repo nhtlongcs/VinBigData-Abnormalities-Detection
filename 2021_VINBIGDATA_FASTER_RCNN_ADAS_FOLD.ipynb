{
  "nbformat": 4,
  "nbformat_minor": 0,
  "metadata": {
    "accelerator": "GPU",
    "colab": {
      "name": "2021_VINBIGDATA_FASTER_RCNN_ADAS_FOLD0",
      "provenance": [],
      "collapsed_sections": [],
      "authorship_tag": "ABX9TyNSjOyKwbA63JzbJFzS8LoC",
      "include_colab_link": true
    },
    "kernelspec": {
      "display_name": "Python 3",
      "name": "python3"
    },
    "widgets": {
      "application/vnd.jupyter.widget-state+json": {
        "98123419168149b383702e1377d2c4db": {
          "model_module": "@jupyter-widgets/controls",
          "model_name": "HBoxModel",
          "state": {
            "_view_name": "HBoxView",
            "_dom_classes": [],
            "_model_name": "HBoxModel",
            "_view_module": "@jupyter-widgets/controls",
            "_model_module_version": "1.5.0",
            "_view_count": null,
            "_view_module_version": "1.5.0",
            "box_style": "",
            "layout": "IPY_MODEL_5b1f3813b9bd4d028275fb5ae048c10c",
            "_model_module": "@jupyter-widgets/controls",
            "children": [
              "IPY_MODEL_f114f9fdc7e2408e900a54237c8a60a6",
              "IPY_MODEL_9454bf127dba4003a933e79bf6a726a6"
            ]
          }
        },
        "5b1f3813b9bd4d028275fb5ae048c10c": {
          "model_module": "@jupyter-widgets/base",
          "model_name": "LayoutModel",
          "state": {
            "_view_name": "LayoutView",
            "grid_template_rows": null,
            "right": null,
            "justify_content": null,
            "_view_module": "@jupyter-widgets/base",
            "overflow": null,
            "_model_module_version": "1.2.0",
            "_view_count": null,
            "flex_flow": null,
            "width": null,
            "min_width": null,
            "border": null,
            "align_items": null,
            "bottom": null,
            "_model_module": "@jupyter-widgets/base",
            "top": null,
            "grid_column": null,
            "overflow_y": null,
            "overflow_x": null,
            "grid_auto_flow": null,
            "grid_area": null,
            "grid_template_columns": null,
            "flex": null,
            "_model_name": "LayoutModel",
            "justify_items": null,
            "grid_row": null,
            "max_height": null,
            "align_content": null,
            "visibility": null,
            "align_self": null,
            "height": null,
            "min_height": null,
            "padding": null,
            "grid_auto_rows": null,
            "grid_gap": null,
            "max_width": null,
            "order": null,
            "_view_module_version": "1.2.0",
            "grid_template_areas": null,
            "object_position": null,
            "object_fit": null,
            "grid_auto_columns": null,
            "margin": null,
            "display": null,
            "left": null
          }
        },
        "f114f9fdc7e2408e900a54237c8a60a6": {
          "model_module": "@jupyter-widgets/controls",
          "model_name": "FloatProgressModel",
          "state": {
            "_view_name": "ProgressView",
            "style": "IPY_MODEL_c5ddb33e92004c50a19223e5dd66460e",
            "_dom_classes": [],
            "description": "100%",
            "_model_name": "FloatProgressModel",
            "bar_style": "success",
            "max": 241530880,
            "_view_module": "@jupyter-widgets/controls",
            "_model_module_version": "1.5.0",
            "value": 241530880,
            "_view_count": null,
            "_view_module_version": "1.5.0",
            "orientation": "horizontal",
            "min": 0,
            "description_tooltip": null,
            "_model_module": "@jupyter-widgets/controls",
            "layout": "IPY_MODEL_0fe4421547ad427d9fe4752fb6ccffd7"
          }
        },
        "9454bf127dba4003a933e79bf6a726a6": {
          "model_module": "@jupyter-widgets/controls",
          "model_name": "HTMLModel",
          "state": {
            "_view_name": "HTMLView",
            "style": "IPY_MODEL_60293e4f5c5247cd99c2f2e3e04361ab",
            "_dom_classes": [],
            "description": "",
            "_model_name": "HTMLModel",
            "placeholder": "​",
            "_view_module": "@jupyter-widgets/controls",
            "_model_module_version": "1.5.0",
            "value": " 230M/230M [50:36&lt;00:00, 79.5kB/s]",
            "_view_count": null,
            "_view_module_version": "1.5.0",
            "description_tooltip": null,
            "_model_module": "@jupyter-widgets/controls",
            "layout": "IPY_MODEL_ee0c5e1238594e8bb3579d74818f24ee"
          }
        },
        "c5ddb33e92004c50a19223e5dd66460e": {
          "model_module": "@jupyter-widgets/controls",
          "model_name": "ProgressStyleModel",
          "state": {
            "_view_name": "StyleView",
            "_model_name": "ProgressStyleModel",
            "description_width": "initial",
            "_view_module": "@jupyter-widgets/base",
            "_model_module_version": "1.5.0",
            "_view_count": null,
            "_view_module_version": "1.2.0",
            "bar_color": null,
            "_model_module": "@jupyter-widgets/controls"
          }
        },
        "0fe4421547ad427d9fe4752fb6ccffd7": {
          "model_module": "@jupyter-widgets/base",
          "model_name": "LayoutModel",
          "state": {
            "_view_name": "LayoutView",
            "grid_template_rows": null,
            "right": null,
            "justify_content": null,
            "_view_module": "@jupyter-widgets/base",
            "overflow": null,
            "_model_module_version": "1.2.0",
            "_view_count": null,
            "flex_flow": null,
            "width": null,
            "min_width": null,
            "border": null,
            "align_items": null,
            "bottom": null,
            "_model_module": "@jupyter-widgets/base",
            "top": null,
            "grid_column": null,
            "overflow_y": null,
            "overflow_x": null,
            "grid_auto_flow": null,
            "grid_area": null,
            "grid_template_columns": null,
            "flex": null,
            "_model_name": "LayoutModel",
            "justify_items": null,
            "grid_row": null,
            "max_height": null,
            "align_content": null,
            "visibility": null,
            "align_self": null,
            "height": null,
            "min_height": null,
            "padding": null,
            "grid_auto_rows": null,
            "grid_gap": null,
            "max_width": null,
            "order": null,
            "_view_module_version": "1.2.0",
            "grid_template_areas": null,
            "object_position": null,
            "object_fit": null,
            "grid_auto_columns": null,
            "margin": null,
            "display": null,
            "left": null
          }
        },
        "60293e4f5c5247cd99c2f2e3e04361ab": {
          "model_module": "@jupyter-widgets/controls",
          "model_name": "DescriptionStyleModel",
          "state": {
            "_view_name": "StyleView",
            "_model_name": "DescriptionStyleModel",
            "description_width": "",
            "_view_module": "@jupyter-widgets/base",
            "_model_module_version": "1.5.0",
            "_view_count": null,
            "_view_module_version": "1.2.0",
            "_model_module": "@jupyter-widgets/controls"
          }
        },
        "ee0c5e1238594e8bb3579d74818f24ee": {
          "model_module": "@jupyter-widgets/base",
          "model_name": "LayoutModel",
          "state": {
            "_view_name": "LayoutView",
            "grid_template_rows": null,
            "right": null,
            "justify_content": null,
            "_view_module": "@jupyter-widgets/base",
            "overflow": null,
            "_model_module_version": "1.2.0",
            "_view_count": null,
            "flex_flow": null,
            "width": null,
            "min_width": null,
            "border": null,
            "align_items": null,
            "bottom": null,
            "_model_module": "@jupyter-widgets/base",
            "top": null,
            "grid_column": null,
            "overflow_y": null,
            "overflow_x": null,
            "grid_auto_flow": null,
            "grid_area": null,
            "grid_template_columns": null,
            "flex": null,
            "_model_name": "LayoutModel",
            "justify_items": null,
            "grid_row": null,
            "max_height": null,
            "align_content": null,
            "visibility": null,
            "align_self": null,
            "height": null,
            "min_height": null,
            "padding": null,
            "grid_auto_rows": null,
            "grid_gap": null,
            "max_width": null,
            "order": null,
            "_view_module_version": "1.2.0",
            "grid_template_areas": null,
            "object_position": null,
            "object_fit": null,
            "grid_auto_columns": null,
            "margin": null,
            "display": null,
            "left": null
          }
        }
      }
    }
  },
  "cells": [
    {
      "cell_type": "markdown",
      "metadata": {
        "id": "view-in-github",
        "colab_type": "text"
      },
      "source": [
        "<a href=\"https://colab.research.google.com/github/nhtlongcs/VinBigData-Abnormalities-Detection/blob/ffyytt-fasterrcnn/2021_VINBIGDATA_FASTER_RCNN_ADAS_FOLD.ipynb\" target=\"_parent\"><img src=\"https://colab.research.google.com/assets/colab-badge.svg\" alt=\"Open In Colab\"/></a>"
      ]
    },
    {
      "cell_type": "code",
      "metadata": {
        "colab": {
          "base_uri": "https://localhost:8080/"
        },
        "id": "rHG6zu88QeO_",
        "outputId": "81b01521-5834-45db-a687-b83de49e4f7b"
      },
      "source": [
        "!nvidia-smi"
      ],
      "execution_count": null,
      "outputs": [
        {
          "output_type": "stream",
          "text": [
            "Sat Mar  6 08:07:42 2021       \n",
            "+-----------------------------------------------------------------------------+\n",
            "| NVIDIA-SMI 460.39       Driver Version: 460.32.03    CUDA Version: 11.2     |\n",
            "|-------------------------------+----------------------+----------------------+\n",
            "| GPU  Name        Persistence-M| Bus-Id        Disp.A | Volatile Uncorr. ECC |\n",
            "| Fan  Temp  Perf  Pwr:Usage/Cap|         Memory-Usage | GPU-Util  Compute M. |\n",
            "|                               |                      |               MIG M. |\n",
            "|===============================+======================+======================|\n",
            "|   0  Tesla V100-SXM2...  Off  | 00000000:00:04.0 Off |                    0 |\n",
            "| N/A   41C    P0    24W / 300W |      0MiB / 16160MiB |      0%      Default |\n",
            "|                               |                      |                  N/A |\n",
            "+-------------------------------+----------------------+----------------------+\n",
            "                                                                               \n",
            "+-----------------------------------------------------------------------------+\n",
            "| Processes:                                                                  |\n",
            "|  GPU   GI   CI        PID   Type   Process name                  GPU Memory |\n",
            "|        ID   ID                                                   Usage      |\n",
            "|=============================================================================|\n",
            "|  No running processes found                                                 |\n",
            "+-----------------------------------------------------------------------------+\n"
          ],
          "name": "stdout"
        }
      ]
    },
    {
      "cell_type": "code",
      "metadata": {
        "colab": {
          "base_uri": "https://localhost:8080/"
        },
        "id": "Fbmg_l42QpFi",
        "outputId": "274cb02b-2da9-45fe-d486-580224a8303c"
      },
      "source": [
        "from google.colab import drive\r\n",
        "drive.mount('/content/gdrive')"
      ],
      "execution_count": null,
      "outputs": [
        {
          "output_type": "stream",
          "text": [
            "Mounted at /content/gdrive\n"
          ],
          "name": "stdout"
        }
      ]
    },
    {
      "cell_type": "code",
      "metadata": {
        "id": "NZVIuukgQqVn"
      },
      "source": [
        "import json\r\n",
        "token = {\"username\":\"duonganhkiet\",\"key\":\"c7b0eb66e2722030c850b9ea619a3fb0\"}\r\n",
        "!mkdir -p '/root/.kaggle/'\r\n",
        "with open('/root/.kaggle/kaggle.json', 'w') as file:\r\n",
        "    json.dump(token, file)\r\n",
        "!chmod 600 ~/.kaggle/kaggle.json"
      ],
      "execution_count": null,
      "outputs": []
    },
    {
      "cell_type": "code",
      "metadata": {
        "colab": {
          "base_uri": "https://localhost:8080/"
        },
        "id": "D2gaAiwrQtPb",
        "outputId": "43ea055d-b1e6-4d62-a9d5-99f213e5680a"
      },
      "source": [
        "!pip install -qq map-boxes\r\n",
        "!pip install -qq ensemble_boxes\r\n",
        "!pip install -qq git+https://github.com/albumentations-team/albumentations\r\n",
        "!git clone https://github.com/facebookresearch/detr.git"
      ],
      "execution_count": null,
      "outputs": [
        {
          "output_type": "stream",
          "text": [
            "\u001b[?25l\r\u001b[K     |▍                               | 10kB 20.6MB/s eta 0:00:01\r\u001b[K     |▊                               | 20kB 10.7MB/s eta 0:00:01\r\u001b[K     |█                               | 30kB 8.3MB/s eta 0:00:01\r\u001b[K     |█▍                              | 40kB 7.5MB/s eta 0:00:01\r\u001b[K     |█▊                              | 51kB 4.0MB/s eta 0:00:01\r\u001b[K     |██                              | 61kB 4.5MB/s eta 0:00:01\r\u001b[K     |██▍                             | 71kB 4.8MB/s eta 0:00:01\r\u001b[K     |██▊                             | 81kB 5.2MB/s eta 0:00:01\r\u001b[K     |███                             | 92kB 5.2MB/s eta 0:00:01\r\u001b[K     |███▌                            | 102kB 4.2MB/s eta 0:00:01\r\u001b[K     |███▉                            | 112kB 4.2MB/s eta 0:00:01\r\u001b[K     |████▏                           | 122kB 4.2MB/s eta 0:00:01\r\u001b[K     |████▌                           | 133kB 4.2MB/s eta 0:00:01\r\u001b[K     |████▉                           | 143kB 4.2MB/s eta 0:00:01\r\u001b[K     |█████▏                          | 153kB 4.2MB/s eta 0:00:01\r\u001b[K     |█████▌                          | 163kB 4.2MB/s eta 0:00:01\r\u001b[K     |█████▉                          | 174kB 4.2MB/s eta 0:00:01\r\u001b[K     |██████▏                         | 184kB 4.2MB/s eta 0:00:01\r\u001b[K     |██████▋                         | 194kB 4.2MB/s eta 0:00:01\r\u001b[K     |███████                         | 204kB 4.2MB/s eta 0:00:01\r\u001b[K     |███████▎                        | 215kB 4.2MB/s eta 0:00:01\r\u001b[K     |███████▋                        | 225kB 4.2MB/s eta 0:00:01\r\u001b[K     |████████                        | 235kB 4.2MB/s eta 0:00:01\r\u001b[K     |████████▎                       | 245kB 4.2MB/s eta 0:00:01\r\u001b[K     |████████▋                       | 256kB 4.2MB/s eta 0:00:01\r\u001b[K     |█████████                       | 266kB 4.2MB/s eta 0:00:01\r\u001b[K     |█████████▎                      | 276kB 4.2MB/s eta 0:00:01\r\u001b[K     |█████████▊                      | 286kB 4.2MB/s eta 0:00:01\r\u001b[K     |██████████                      | 296kB 4.2MB/s eta 0:00:01\r\u001b[K     |██████████▍                     | 307kB 4.2MB/s eta 0:00:01\r\u001b[K     |██████████▊                     | 317kB 4.2MB/s eta 0:00:01\r\u001b[K     |███████████                     | 327kB 4.2MB/s eta 0:00:01\r\u001b[K     |███████████▍                    | 337kB 4.2MB/s eta 0:00:01\r\u001b[K     |███████████▊                    | 348kB 4.2MB/s eta 0:00:01\r\u001b[K     |████████████                    | 358kB 4.2MB/s eta 0:00:01\r\u001b[K     |████████████▍                   | 368kB 4.2MB/s eta 0:00:01\r\u001b[K     |████████████▉                   | 378kB 4.2MB/s eta 0:00:01\r\u001b[K     |█████████████▏                  | 389kB 4.2MB/s eta 0:00:01\r\u001b[K     |█████████████▌                  | 399kB 4.2MB/s eta 0:00:01\r\u001b[K     |█████████████▉                  | 409kB 4.2MB/s eta 0:00:01\r\u001b[K     |██████████████▏                 | 419kB 4.2MB/s eta 0:00:01\r\u001b[K     |██████████████▌                 | 430kB 4.2MB/s eta 0:00:01\r\u001b[K     |██████████████▉                 | 440kB 4.2MB/s eta 0:00:01\r\u001b[K     |███████████████▏                | 450kB 4.2MB/s eta 0:00:01\r\u001b[K     |███████████████▌                | 460kB 4.2MB/s eta 0:00:01\r\u001b[K     |████████████████                | 471kB 4.2MB/s eta 0:00:01\r\u001b[K     |████████████████▎               | 481kB 4.2MB/s eta 0:00:01\r\u001b[K     |████████████████▋               | 491kB 4.2MB/s eta 0:00:01\r\u001b[K     |█████████████████               | 501kB 4.2MB/s eta 0:00:01\r\u001b[K     |█████████████████▎              | 512kB 4.2MB/s eta 0:00:01\r\u001b[K     |█████████████████▋              | 522kB 4.2MB/s eta 0:00:01\r\u001b[K     |██████████████████              | 532kB 4.2MB/s eta 0:00:01\r\u001b[K     |██████████████████▎             | 542kB 4.2MB/s eta 0:00:01\r\u001b[K     |██████████████████▋             | 552kB 4.2MB/s eta 0:00:01\r\u001b[K     |███████████████████             | 563kB 4.2MB/s eta 0:00:01\r\u001b[K     |███████████████████▍            | 573kB 4.2MB/s eta 0:00:01\r\u001b[K     |███████████████████▊            | 583kB 4.2MB/s eta 0:00:01\r\u001b[K     |████████████████████            | 593kB 4.2MB/s eta 0:00:01\r\u001b[K     |████████████████████▍           | 604kB 4.2MB/s eta 0:00:01\r\u001b[K     |████████████████████▊           | 614kB 4.2MB/s eta 0:00:01\r\u001b[K     |█████████████████████           | 624kB 4.2MB/s eta 0:00:01\r\u001b[K     |█████████████████████▍          | 634kB 4.2MB/s eta 0:00:01\r\u001b[K     |█████████████████████▊          | 645kB 4.2MB/s eta 0:00:01\r\u001b[K     |██████████████████████▏         | 655kB 4.2MB/s eta 0:00:01\r\u001b[K     |██████████████████████▌         | 665kB 4.2MB/s eta 0:00:01\r\u001b[K     |██████████████████████▉         | 675kB 4.2MB/s eta 0:00:01\r\u001b[K     |███████████████████████▏        | 686kB 4.2MB/s eta 0:00:01\r\u001b[K     |███████████████████████▌        | 696kB 4.2MB/s eta 0:00:01\r\u001b[K     |███████████████████████▉        | 706kB 4.2MB/s eta 0:00:01\r\u001b[K     |████████████████████████▏       | 716kB 4.2MB/s eta 0:00:01\r\u001b[K     |████████████████████████▌       | 727kB 4.2MB/s eta 0:00:01\r\u001b[K     |████████████████████████▉       | 737kB 4.2MB/s eta 0:00:01\r\u001b[K     |█████████████████████████▎      | 747kB 4.2MB/s eta 0:00:01\r\u001b[K     |█████████████████████████▋      | 757kB 4.2MB/s eta 0:00:01\r\u001b[K     |██████████████████████████      | 768kB 4.2MB/s eta 0:00:01\r\u001b[K     |██████████████████████████▎     | 778kB 4.2MB/s eta 0:00:01\r\u001b[K     |██████████████████████████▋     | 788kB 4.2MB/s eta 0:00:01\r\u001b[K     |███████████████████████████     | 798kB 4.2MB/s eta 0:00:01\r\u001b[K     |███████████████████████████▎    | 808kB 4.2MB/s eta 0:00:01\r\u001b[K     |███████████████████████████▋    | 819kB 4.2MB/s eta 0:00:01\r\u001b[K     |████████████████████████████    | 829kB 4.2MB/s eta 0:00:01\r\u001b[K     |████████████████████████████▍   | 839kB 4.2MB/s eta 0:00:01\r\u001b[K     |████████████████████████████▊   | 849kB 4.2MB/s eta 0:00:01\r\u001b[K     |█████████████████████████████   | 860kB 4.2MB/s eta 0:00:01\r\u001b[K     |█████████████████████████████▍  | 870kB 4.2MB/s eta 0:00:01\r\u001b[K     |█████████████████████████████▊  | 880kB 4.2MB/s eta 0:00:01\r\u001b[K     |██████████████████████████████  | 890kB 4.2MB/s eta 0:00:01\r\u001b[K     |██████████████████████████████▍ | 901kB 4.2MB/s eta 0:00:01\r\u001b[K     |██████████████████████████████▊ | 911kB 4.2MB/s eta 0:00:01\r\u001b[K     |███████████████████████████████ | 921kB 4.2MB/s eta 0:00:01\r\u001b[K     |███████████████████████████████▌| 931kB 4.2MB/s eta 0:00:01\r\u001b[K     |███████████████████████████████▉| 942kB 4.2MB/s eta 0:00:01\r\u001b[K     |████████████████████████████████| 952kB 4.2MB/s \n",
            "\u001b[?25h  Building wheel for albumentations (setup.py) ... \u001b[?25l\u001b[?25hdone\n",
            "Cloning into 'detr'...\n",
            "remote: Enumerating objects: 243, done.\u001b[K\n",
            "remote: Total 243 (delta 0), reused 0 (delta 0), pack-reused 243\u001b[K\n",
            "Receiving objects: 100% (243/243), 12.84 MiB | 18.42 MiB/s, done.\n",
            "Resolving deltas: 100% (127/127), done.\n"
          ],
          "name": "stdout"
        }
      ]
    },
    {
      "cell_type": "code",
      "metadata": {
        "id": "VFpwx9iNQunB",
        "colab": {
          "base_uri": "https://localhost:8080/"
        },
        "outputId": "32d821a5-9161-4fe0-a976-35315f7b748b"
      },
      "source": [
        "import os\r\n",
        "import cv2\r\n",
        "import copy\r\n",
        "import time\r\n",
        "import random\r\n",
        "import zipfile\r\n",
        "import numpy as np\r\n",
        "import pandas as pd\r\n",
        "import multiprocessing\r\n",
        "\r\n",
        "from tqdm import *\r\n",
        "from glob import glob\r\n",
        "from matplotlib import pyplot as plt\r\n",
        "from collections import Counter\r\n",
        "\r\n",
        "import albumentations as A\r\n",
        "from albumentations.pytorch.transforms import ToTensorV2\r\n",
        "\r\n",
        "import torch\r\n",
        "from torch.utils.data import DataLoader, Dataset\r\n",
        "from torch.utils.data.sampler import SequentialSampler, RandomSampler\r\n",
        "\r\n",
        "import torchvision\r\n",
        "from torchvision.models.detection.faster_rcnn import FastRCNNPredictor, FasterRCNN\r\n",
        "from torchvision.models.detection.backbone_utils import resnet_fpn_backbone\r\n",
        "\r\n",
        "from ensemble_boxes import *\r\n",
        "from map_boxes import mean_average_precision_for_boxes\r\n",
        "from pycocotools.coco import COCO\r\n",
        "from pycocotools.cocoeval import COCOeval\r\n",
        "\r\n",
        "import warnings\r\n",
        "warnings.filterwarnings(\"ignore\")"
      ],
      "execution_count": null,
      "outputs": [
        {
          "output_type": "stream",
          "text": [
            "/usr/local/lib/python3.7/dist-packages/Cython/Compiler/Main.py:369: FutureWarning: Cython directive 'language_level' not set, using 2 for now (Py2). This will change in a later release! File: /usr/local/lib/python3.7/dist-packages/map_boxes/compute_overlap.pyx\n",
            "  tree = Parsing.p_module(s, pxd, full_module_name)\n"
          ],
          "name": "stderr"
        }
      ]
    },
    {
      "cell_type": "code",
      "metadata": {
        "id": "hiLPH4UtQ1XG",
        "colab": {
          "base_uri": "https://localhost:8080/"
        },
        "outputId": "1d6b84e8-f702-40e7-d38b-d321075a7981"
      },
      "source": [
        "if not os.path.exists('data/vinbigdata/'):\r\n",
        "    os.makedirs('data/vinbigdata/')\r\n",
        "    !kaggle datasets download -d duonganhkiet/2021-vin-mydataset\r\n",
        "    !unzip -q 2021-vin-mydataset.zip -d data/vinbigdata"
      ],
      "execution_count": null,
      "outputs": [
        {
          "output_type": "stream",
          "text": [
            "Downloading 2021-vin-mydataset.zip to /content\n",
            "\r  0% 0.00/2.15M [00:00<?, ?B/s]\n",
            "\r100% 2.15M/2.15M [00:00<00:00, 150MB/s]\n"
          ],
          "name": "stdout"
        }
      ]
    },
    {
      "cell_type": "code",
      "metadata": {
        "id": "2bsf9IUzRKZ1"
      },
      "source": [
        "FOLD = 0\r\n",
        "config = {\r\n",
        "    'fold': FOLD,\r\n",
        "    'image_paths':'data/vinbigdata/train/',\r\n",
        "    'imgSize': 2048,\r\n",
        "    'num_classes': 15,\r\n",
        "    'no_finding_sample': 5000,\r\n",
        "    'seed': 1312,\r\n",
        "    'device': torch.device('cuda') if torch.cuda.is_available() else torch.device('cpu'),\r\n",
        "    'iou_thr':0.5,\r\n",
        "    'infer_iou_thr': 0.99,\r\n",
        "    'skip_box_thr':0.01,\r\n",
        "    'lr' : 1e-4,\r\n",
        "    'batch_size': 4,\r\n",
        "    'iter_size': 8,\r\n",
        "    'save_dir': 'gdrive/MyDrive/2021_VINBIGDATA/NEW_FOLD/FRCNN/FOLD'+str(FOLD),\r\n",
        "    'WEIGHT_PATH': None,\r\n",
        "    'weight_epoch': 0,\r\n",
        "    'n_epochs': 400,\r\n",
        "    'scheduler': False,\r\n",
        "    'valid_scheduler': True,\r\n",
        "    'debug': False,\r\n",
        "    'gt': 'nms512_fold'+str(FOLD)+'_val.json'\r\n",
        "}"
      ],
      "execution_count": null,
      "outputs": []
    },
    {
      "cell_type": "code",
      "metadata": {
        "id": "QRx35k4_WmSU"
      },
      "source": [
        "def seed_everything(seed):\r\n",
        "    random.seed(seed)\r\n",
        "    os.environ['PYTHONHASHSEED'] = str(seed)\r\n",
        "    np.random.seed(seed)\r\n",
        "    torch.manual_seed(seed)\r\n",
        "    torch.cuda.manual_seed(seed)\r\n",
        "    torch.backends.cudnn.deterministic = True\r\n",
        "    torch.backends.cudnn.benchmark = False\r\n",
        "\r\n",
        "seed_everything(config['seed'])"
      ],
      "execution_count": null,
      "outputs": []
    },
    {
      "cell_type": "code",
      "metadata": {
        "colab": {
          "base_uri": "https://localhost:8080/",
          "height": 202
        },
        "id": "fVz0gQ5_Q5MH",
        "outputId": "95d5c645-aaaf-4ff1-b8a5-b16c51d39b8d"
      },
      "source": [
        "device = torch.device('cuda') if torch.cuda.is_available() else torch.device('cpu')\r\n",
        "df = pd.read_csv('data/vinbigdata/train.csv')\r\n",
        "\r\n",
        "df['x_min'] = np.where(df['x_min'].isnull(), 0, df['x_min'])\r\n",
        "df['x_max'] = np.where(df['x_max'].isnull(), 1, df['x_max'])\r\n",
        "df['y_min'] = np.where(df['y_min'].isnull(), 0, df['y_min'])\r\n",
        "df['y_max'] = np.where(df['y_max'].isnull(), 1, df['y_max'])\r\n",
        "\r\n",
        "df['area'] = (df['x_max']-df['x_min'])*(df['y_max']-df['y_min'])\r\n",
        "\r\n",
        "df['class_id'] += 1\r\n",
        "\r\n",
        "if (config['num_classes'] == 15):\r\n",
        "    df = df[df['class_name'] != 'No finding'].append(df[df['class_name'] == 'No finding'].sample(config['no_finding_sample']), ignore_index=True)\r\n",
        "    df.loc[df[\"class_id\"] == 15, [\"class_id\"]] = 0\r\n",
        "\r\n",
        "    \r\n",
        "df[\"class_id\"] = df[\"class_id\"]\r\n",
        "df.head()"
      ],
      "execution_count": null,
      "outputs": [
        {
          "output_type": "execute_result",
          "data": {
            "text/html": [
              "<div>\n",
              "<style scoped>\n",
              "    .dataframe tbody tr th:only-of-type {\n",
              "        vertical-align: middle;\n",
              "    }\n",
              "\n",
              "    .dataframe tbody tr th {\n",
              "        vertical-align: top;\n",
              "    }\n",
              "\n",
              "    .dataframe thead th {\n",
              "        text-align: right;\n",
              "    }\n",
              "</style>\n",
              "<table border=\"1\" class=\"dataframe\">\n",
              "  <thead>\n",
              "    <tr style=\"text-align: right;\">\n",
              "      <th></th>\n",
              "      <th>image_id</th>\n",
              "      <th>class_name</th>\n",
              "      <th>class_id</th>\n",
              "      <th>rad_id</th>\n",
              "      <th>x_min</th>\n",
              "      <th>y_min</th>\n",
              "      <th>x_max</th>\n",
              "      <th>y_max</th>\n",
              "      <th>width</th>\n",
              "      <th>height</th>\n",
              "      <th>fold</th>\n",
              "      <th>area</th>\n",
              "    </tr>\n",
              "  </thead>\n",
              "  <tbody>\n",
              "    <tr>\n",
              "      <th>0</th>\n",
              "      <td>9a5094b2563a1ef3ff50dc5c7ff71345</td>\n",
              "      <td>Cardiomegaly</td>\n",
              "      <td>4</td>\n",
              "      <td>R10</td>\n",
              "      <td>691.0</td>\n",
              "      <td>1375.0</td>\n",
              "      <td>1653.0</td>\n",
              "      <td>1831.0</td>\n",
              "      <td>2080</td>\n",
              "      <td>2336</td>\n",
              "      <td>2</td>\n",
              "      <td>438672.0</td>\n",
              "    </tr>\n",
              "    <tr>\n",
              "      <th>1</th>\n",
              "      <td>051132a778e61a86eb147c7c6f564dfe</td>\n",
              "      <td>Aortic enlargement</td>\n",
              "      <td>1</td>\n",
              "      <td>R10</td>\n",
              "      <td>1264.0</td>\n",
              "      <td>743.0</td>\n",
              "      <td>1611.0</td>\n",
              "      <td>1019.0</td>\n",
              "      <td>2304</td>\n",
              "      <td>2880</td>\n",
              "      <td>0</td>\n",
              "      <td>95772.0</td>\n",
              "    </tr>\n",
              "    <tr>\n",
              "      <th>2</th>\n",
              "      <td>1c32170b4af4ce1a3030eb8167753b06</td>\n",
              "      <td>Pleural thickening</td>\n",
              "      <td>12</td>\n",
              "      <td>R9</td>\n",
              "      <td>627.0</td>\n",
              "      <td>357.0</td>\n",
              "      <td>947.0</td>\n",
              "      <td>433.0</td>\n",
              "      <td>2540</td>\n",
              "      <td>3072</td>\n",
              "      <td>1</td>\n",
              "      <td>24320.0</td>\n",
              "    </tr>\n",
              "    <tr>\n",
              "      <th>3</th>\n",
              "      <td>0c7a38f293d5f5e4846aa4ca6db4daf1</td>\n",
              "      <td>ILD</td>\n",
              "      <td>6</td>\n",
              "      <td>R17</td>\n",
              "      <td>1347.0</td>\n",
              "      <td>245.0</td>\n",
              "      <td>2188.0</td>\n",
              "      <td>2169.0</td>\n",
              "      <td>2285</td>\n",
              "      <td>2555</td>\n",
              "      <td>3</td>\n",
              "      <td>1618084.0</td>\n",
              "    </tr>\n",
              "    <tr>\n",
              "      <th>4</th>\n",
              "      <td>47ed17dcb2cbeec15182ed335a8b5a9e</td>\n",
              "      <td>Nodule/Mass</td>\n",
              "      <td>9</td>\n",
              "      <td>R9</td>\n",
              "      <td>557.0</td>\n",
              "      <td>2352.0</td>\n",
              "      <td>675.0</td>\n",
              "      <td>2484.0</td>\n",
              "      <td>2568</td>\n",
              "      <td>3353</td>\n",
              "      <td>1</td>\n",
              "      <td>15576.0</td>\n",
              "    </tr>\n",
              "  </tbody>\n",
              "</table>\n",
              "</div>"
            ],
            "text/plain": [
              "                           image_id          class_name  ...  fold       area\n",
              "0  9a5094b2563a1ef3ff50dc5c7ff71345        Cardiomegaly  ...     2   438672.0\n",
              "1  051132a778e61a86eb147c7c6f564dfe  Aortic enlargement  ...     0    95772.0\n",
              "2  1c32170b4af4ce1a3030eb8167753b06  Pleural thickening  ...     1    24320.0\n",
              "3  0c7a38f293d5f5e4846aa4ca6db4daf1                 ILD  ...     3  1618084.0\n",
              "4  47ed17dcb2cbeec15182ed335a8b5a9e         Nodule/Mass  ...     1    15576.0\n",
              "\n",
              "[5 rows x 12 columns]"
            ]
          },
          "metadata": {
            "tags": []
          },
          "execution_count": 9
        }
      ]
    },
    {
      "cell_type": "code",
      "metadata": {
        "colab": {
          "base_uri": "https://localhost:8080/"
        },
        "id": "SU61_Xt3RCJv",
        "outputId": "46a50fdb-a332-46f6-e7d0-19f489635eee"
      },
      "source": [
        "image_ids = df['image_id'].unique()\r\n",
        "train_ids = df['image_id'][df['fold'] != config['fold']].unique()\r\n",
        "valid_ids = df['image_id'][df['fold'] == config['fold']].unique()\r\n",
        "print(len(train_ids), len(valid_ids))\r\n",
        "valid_df = df[df['image_id'].isin(valid_ids)]\r\n",
        "train_df = df[df['image_id'].isin(train_ids)]"
      ],
      "execution_count": null,
      "outputs": [
        {
          "output_type": "stream",
          "text": [
            "6918 1722\n"
          ],
          "name": "stdout"
        }
      ]
    },
    {
      "cell_type": "code",
      "metadata": {
        "id": "D51M9MdbRVLV",
        "colab": {
          "base_uri": "https://localhost:8080/"
        },
        "outputId": "2fadbb4b-7c03-4a7c-939e-0317251be13b"
      },
      "source": [
        "if not os.path.exists(config['image_paths']):\r\n",
        "    !gdown --id 1y4wV9T_ITyG8hz5OE3cUhtVqEP14cEx4\r\n",
        "    !kaggle datasets download -d corochann/vinbigdata-chest-xray-original-png\r\n",
        "    os.makedirs(config['image_paths'])\r\n",
        "    with zipfile.ZipFile('vinbigdata-chest-xray-original-png.zip') as z:\r\n",
        "        for filename in tqdm(image_ids):\r\n",
        "            with open(config['image_paths']+filename+'.png', 'wb+') as f:\r\n",
        "                f.write(z.read('train/'+filename+'.png'))"
      ],
      "execution_count": null,
      "outputs": [
        {
          "output_type": "stream",
          "text": [
            "Downloading...\n",
            "From: https://drive.google.com/uc?id=1y4wV9T_ITyG8hz5OE3cUhtVqEP14cEx4\n",
            "To: /content/nms512_fold0_val.json\n",
            "100% 808k/808k [00:00<00:00, 48.5MB/s]\n",
            "Downloading vinbigdata-chest-xray-original-png.zip to /content\n",
            "100% 46.5G/46.5G [15:17<00:00, 70.5MB/s]\n",
            "100% 46.5G/46.5G [15:17<00:00, 54.4MB/s]\n"
          ],
          "name": "stdout"
        },
        {
          "output_type": "stream",
          "text": [
            "100%|██████████| 8640/8640 [08:02<00:00, 17.91it/s]\n"
          ],
          "name": "stderr"
        }
      ]
    },
    {
      "cell_type": "code",
      "metadata": {
        "id": "4-952fZQRd5x"
      },
      "source": [
        "def get_train_transforms():\r\n",
        "    return A.Compose(\r\n",
        "        [\r\n",
        "         A.OneOf([\r\n",
        "            A.MotionBlur(p=.2),\r\n",
        "            A.GaussianBlur(),\r\n",
        "            A.MedianBlur(blur_limit=3, p=0.3),\r\n",
        "            A.Blur(blur_limit=3, p=0.1)\r\n",
        "         ], p=0.3),\r\n",
        "         \r\n",
        "         A.OneOf([\r\n",
        "            A.HorizontalFlip(p=1.0),\r\n",
        "            A.VerticalFlip(p=1.0),\r\n",
        "            A.RandomRotate90(p=1.0),\r\n",
        "            A.Transpose(p=0.5),\r\n",
        "         ], p=0.5),\r\n",
        "\r\n",
        "         A.OneOf([\r\n",
        "            # A.HueSaturationValue(hue_shift_limit=0.2, sat_shift_limit= 0.2, \r\n",
        "            #                      val_shift_limit=0.2, p=0.9),\r\n",
        "            A.RandomBrightnessContrast(brightness_limit=0.1, \r\n",
        "                                       contrast_limit=0.1, \r\n",
        "                                       p=0.3),            \r\n",
        "         ], p=0.5),\r\n",
        "         \r\n",
        "         A.OneOf([ \r\n",
        "            A.Cutout(num_holes=1, max_h_size=4, max_w_size=4, fill_value=0, p=1.0),\r\n",
        "            A.Cutout(num_holes=2, max_h_size=2, max_w_size=2, fill_value=0, p=1.0),\r\n",
        "         ], p = 0.01),\r\n",
        "\r\n",
        "         A.JpegCompression(quality_lower=80, quality_upper=95, p=0.02),\r\n",
        "         A.ShiftScaleRotate(shift_limit=0.2, scale_limit=0.2, rotate_limit=30, p=0.5),\r\n",
        "         A.Resize(height=800, width=800, p=0.01),\r\n",
        "         ToTensorV2(p=1.0),\r\n",
        "        ], \r\n",
        "        p=1.0, \r\n",
        "        bbox_params=A.BboxParams(\r\n",
        "            format='pascal_voc',\r\n",
        "            min_area=0, \r\n",
        "            min_visibility=0,\r\n",
        "            label_fields=['labels']\r\n",
        "        )\r\n",
        "    )\r\n",
        "\r\n",
        "def get_valid_transforms():\r\n",
        "    return A.Compose(\r\n",
        "        [\r\n",
        "         ToTensorV2(p=1.0),\r\n",
        "        ], \r\n",
        "        p=1.0, \r\n",
        "        bbox_params=A.BboxParams(\r\n",
        "            format='pascal_voc',\r\n",
        "            min_area=0, \r\n",
        "            min_visibility=0,\r\n",
        "            label_fields=['labels']\r\n",
        "        )\r\n",
        "    )"
      ],
      "execution_count": null,
      "outputs": []
    },
    {
      "cell_type": "code",
      "metadata": {
        "id": "e78_UEhrR5E1"
      },
      "source": [
        "class DatasetRetriever(Dataset):\r\n",
        "\r\n",
        "    def __init__(self, marking, image_dir, transforms=None, test=False):\r\n",
        "        super().__init__()\r\n",
        "\r\n",
        "        self.image_ids = marking[\"image_id\"].unique()\r\n",
        "        self.image_dir = image_dir\r\n",
        "        self.marking = marking\r\n",
        "        self.transforms = transforms\r\n",
        "        self.test = test\r\n",
        "        \r\n",
        "    def __getitem__(self, index: int):\r\n",
        "        image_id = self.image_ids[index]\r\n",
        "        \r\n",
        "        if (random.random() > 0.5): #50%\r\n",
        "            image, boxes, labels = self.load_image_and_boxes(index)\r\n",
        "        else:\r\n",
        "            if (random.random() > 0.5): #25%\r\n",
        "                image, boxes, labels = self.load_mixup_image_and_boxes(index)\r\n",
        "            else:\r\n",
        "                image, boxes, labels = self.load_resize_image_and_boxes(index)\r\n",
        "\r\n",
        "        target = {}\r\n",
        "        target['boxes'] = boxes\r\n",
        "        target['labels'] = torch.tensor(labels, dtype=torch.int64)\r\n",
        "        target['image_id'] = torch.tensor([index])\r\n",
        "\r\n",
        "        if self.transforms:\r\n",
        "            while True:\r\n",
        "                sample = self.transforms(**{\r\n",
        "                    'image': image,\r\n",
        "                    'bboxes': target['boxes'],\r\n",
        "                    'labels': labels\r\n",
        "                })\r\n",
        "                if len(sample['bboxes']) > 0:\r\n",
        "                    image = sample['image']\r\n",
        "                    target['boxes'] = torch.stack(tuple(map(torch.tensor, zip(*sample['bboxes'])))).permute(1, 0)\r\n",
        "                    break\r\n",
        "\r\n",
        "        return image, target, image_id\r\n",
        "    \r\n",
        "    def __len__(self) -> int:\r\n",
        "        return self.image_ids.shape[0]\r\n",
        "    \r\n",
        "    def load_image_and_boxes(self, index):\r\n",
        "        image_id = self.image_ids[index]\r\n",
        "\r\n",
        "        image = cv2.imread(f'{self.image_dir}/{image_id}.png', cv2.IMREAD_COLOR).copy().astype(np.float32)\r\n",
        "        image = cv2.cvtColor(image, cv2.COLOR_BGR2RGB).astype(np.float32)\r\n",
        "        image /= 255.0\r\n",
        "            \r\n",
        "        records = self.marking[self.marking['image_id'] == image_id]\r\n",
        "        boxes = records[['x_min', 'y_min', 'x_max', 'y_max']].values\r\n",
        "        labels = records['class_id'].values\r\n",
        "\r\n",
        "        return image, boxes, labels\r\n",
        "\r\n",
        "    def load_resize_image_and_boxes(self, index):\r\n",
        "        image_id = self.image_ids[index]\r\n",
        "\r\n",
        "        image = cv2.imread(f'{self.image_dir}/{image_id}.png', cv2.IMREAD_COLOR).copy().astype(np.float32)\r\n",
        "        image = cv2.cvtColor(image, cv2.COLOR_BGR2RGB).astype(np.float32)\r\n",
        "        image /= 255.0\r\n",
        "\r\n",
        "        h,w,_  = image.shape\r\n",
        "        image = cv2.resize(image, (config['imgSize'], config['imgSize'])) \r\n",
        "            \r\n",
        "        records = self.marking[self.marking['image_id'] == image_id]\r\n",
        "        labels = records['class_id'].values\r\n",
        "        boxes = records[['x_min', 'y_min', 'x_max', 'y_max']].values\r\n",
        "\r\n",
        "        if (labels[0] != 0):\r\n",
        "            boxes[:,0]*= (config['imgSize']/w)\r\n",
        "            boxes[:,1]*= (config['imgSize']/h)\r\n",
        "            boxes[:,2]*= (config['imgSize']/w)\r\n",
        "            boxes[:,3]*= (config['imgSize']/h)\r\n",
        "        \r\n",
        "\r\n",
        "        return image, boxes, labels\r\n",
        "\r\n",
        "    def load_mixup_image_and_boxes(self, index):\r\n",
        "        image, boxes, labels = self.load_resize_image_and_boxes(index)\r\n",
        "        r_image, r_boxes, r_labels = self.load_resize_image_and_boxes(random.randint(0, self.image_ids.shape[0] - 1))\r\n",
        "        return (image+r_image)/2, np.vstack((boxes, r_boxes)).astype(np.int32), np.concatenate((labels, r_labels))\r\n",
        "    \r\n",
        "    def load_cutmix_image_and_boxes(self, index, imsize=(config['imgSize'], config['imgSize'])):\r\n",
        "        w,h = imsize\r\n",
        "        xc, yc = [int(random.uniform( h * 0.75, w * 0.25)) for _ in range(2)]  # center x, y\r\n",
        "        indexes = [index] + [random.randint(0, self.image_ids.shape[0] - 1) for _ in range(3)]\r\n",
        "\r\n",
        "        result_image = np.full((h, w, 3), 1, dtype=np.float32)\r\n",
        "        result_boxes = []\r\n",
        "        result_labels = np.array([], dtype=np.int)\r\n",
        "        \r\n",
        "        for i, index in enumerate(indexes):\r\n",
        "            image, boxes, labels = self.load_resize_image_and_boxes(index)\r\n",
        "            if i == 0:\r\n",
        "                x1a, y1a, x2a, y2a = max(xc - w, 0), max(yc - h, 0), xc, yc  # xmin, ymin, xmax, ymax (large image)\r\n",
        "                x1b, y1b, x2b, y2b = w - (x2a - x1a), h - (y2a - y1a), w, h  # xmin, ymin, xmax, ymax (small image)\r\n",
        "            elif i == 1:  # top right\r\n",
        "                x1a, y1a, x2a, y2a = xc, max(yc - h, 0), min(xc + w, w), yc\r\n",
        "                x1b, y1b, x2b, y2b = 0, h - (y2a - y1a), min(w, x2a - x1a), h\r\n",
        "            elif i == 2:  # bottom left\r\n",
        "                x1a, y1a, x2a, y2a = max(xc - w, 0), yc, xc, min(h, yc + h)\r\n",
        "                x1b, y1b, x2b, y2b = w - (x2a - x1a), 0, max(xc, w), min(y2a - y1a, h)\r\n",
        "            elif i == 3:  # bottom right\r\n",
        "                x1a, y1a, x2a, y2a = xc, yc, min(xc + w, w), min(h, yc + h)\r\n",
        "                x1b, y1b, x2b, y2b = 0, 0, min(w, x2a - x1a), min(y2a - y1a, h) \r\n",
        "\r\n",
        "            result_image[y1a:y2a, x1a:x2a] = image[y1b:y2b, x1b:x2b]\r\n",
        "            padw = x1a - x1b\r\n",
        "            padh = y1a - y1b\r\n",
        "            boxes[:, 0] += padw\r\n",
        "            boxes[:, 1] += padh\r\n",
        "            boxes[:, 2] += padw\r\n",
        "            boxes[:, 3] += padh\r\n",
        "\r\n",
        "            result_boxes.append(boxes)\r\n",
        "            result_labels = np.concatenate((result_labels, labels))\r\n",
        "\r\n",
        "        result_boxes = np.concatenate(result_boxes, 0)\r\n",
        "        np.clip(result_boxes[:, 0], 0, w, out=result_boxes[:, 0])\r\n",
        "        np.clip(result_boxes[:, 2], 0, w, out=result_boxes[:, 2])\r\n",
        "        np.clip(result_boxes[:, 3], 0, h, out=result_boxes[:, 3])\r\n",
        "        np.clip(result_boxes[:, 1], 0, h, out=result_boxes[:, 1])\r\n",
        "\r\n",
        "        result_boxes = result_boxes.astype(np.int32)\r\n",
        "        index_to_use = np.where((result_boxes[:,2]-result_boxes[:,0])*(result_boxes[:,3]-result_boxes[:,1]) > 0)\r\n",
        "        result_boxes = result_boxes[index_to_use]\r\n",
        "        result_labels = result_labels[index_to_use]\r\n",
        "        return result_image, result_boxes, result_labels"
      ],
      "execution_count": null,
      "outputs": []
    },
    {
      "cell_type": "code",
      "metadata": {
        "id": "_KDcdhwlSDEy"
      },
      "source": [
        "train_dataset = DatasetRetriever(\r\n",
        "    marking=train_df,\r\n",
        "    image_dir=config['image_paths'],\r\n",
        "    transforms=get_train_transforms(),\r\n",
        "    test = False\r\n",
        ")\r\n",
        "\r\n",
        "validation_dataset = DatasetRetriever(\r\n",
        "    marking=valid_df,\r\n",
        "    image_dir=config['image_paths'],\r\n",
        "    transforms=get_valid_transforms(),\r\n",
        "    test = True\r\n",
        ")"
      ],
      "execution_count": null,
      "outputs": []
    },
    {
      "cell_type": "code",
      "metadata": {
        "id": "aR9tPWNjSZ7c",
        "colab": {
          "base_uri": "https://localhost:8080/",
          "height": 1000
        },
        "outputId": "39661136-c1b7-40e7-ede0-cc79bfd07ef6"
      },
      "source": [
        "mapping = {0: (1,0,0), 1: (0,1,0), 2: (0,0,1), 3: (1,1,0), \r\n",
        "           4: (1,0,1), 5: (0,1,1), 6: (0.5,1,0), 7: (0.5,0,1), \r\n",
        "           8: (0.5,1,1), 9: (0,0.5,1), 10: (1,0.5,0), 11: (1,0.5,1),\r\n",
        "           12: (1,0,0.5), 13: (0,1,0.5), 14: (1,1,0.5)}\r\n",
        "\r\n",
        "for i in range(5):\r\n",
        "    image, target, image_id = train_dataset[i]\r\n",
        "    boxes = target['boxes'].cpu().numpy().astype(np.int64)\r\n",
        "    labels = target['labels'].cpu().numpy()\r\n",
        "\r\n",
        "    numpy_image = image.permute(1, 2, 0).cpu().numpy()\r\n",
        "\r\n",
        "    fig, ax = plt.subplots(1, 1, figsize=(4, 4))\r\n",
        "\r\n",
        "    for box, label in zip(boxes, labels):\r\n",
        "        if (label == 0):\r\n",
        "            continue\r\n",
        "        cv2.rectangle(numpy_image, (box[0], box[1]), (box[2], box[3]), mapping[label-1], 40)\r\n",
        "\r\n",
        "    ax.set_axis_off()\r\n",
        "    ax.imshow(numpy_image)\r\n",
        "    plt.show()"
      ],
      "execution_count": null,
      "outputs": [
        {
          "output_type": "display_data",
          "data": {
            "image/png": "[encoded data removed]",
            "text/plain": [
              "<Figure size 288x288 with 1 Axes>"
            ]
          },
          "metadata": {
            "tags": [],
            "needs_background": "light"
          }
        },
        {
          "output_type": "display_data",
          "data": {
            "image/png": "[encoded data removed]",
            "text/plain": [
              "<Figure size 288x288 with 1 Axes>"
            ]
          },
          "metadata": {
            "tags": [],
            "needs_background": "light"
          }
        },
        {
          "output_type": "display_data",
          "data": {
            "image/png": "[encoded data removed]",
            "text/plain": [
              "<Figure size 288x288 with 1 Axes>"
            ]
          },
          "metadata": {
            "tags": [],
            "needs_background": "light"
          }
        },
        {
          "output_type": "display_data",
          "data": {
            "image/png": "[encoded data removed]",
            "text/plain": [
              "<Figure size 288x288 with 1 Axes>"
            ]
          },
          "metadata": {
            "tags": [],
            "needs_background": "light"
          }
        },
        {
          "output_type": "display_data",
          "data": {
            "image/png": "[encoded data removed]",
            "text/plain": [
              "<Figure size 288x288 with 1 Axes>"
            ]
          },
          "metadata": {
            "tags": [],
            "needs_background": "light"
          }
        }
      ]
    },
    {
      "cell_type": "code",
      "metadata": {
        "id": "rkKkesI7SuOn"
      },
      "source": [
        "class AverageMeter(object):\r\n",
        "    \"\"\"Computes and stores the average and current value\"\"\"\r\n",
        "    def __init__(self):\r\n",
        "        self.reset()\r\n",
        "\r\n",
        "    def reset(self):\r\n",
        "        self.val = 0\r\n",
        "        self.avg = 0\r\n",
        "        self.sum = 0\r\n",
        "        self.count = 0\r\n",
        "\r\n",
        "    def update(self, val, n=1):\r\n",
        "        self.val = val\r\n",
        "        self.sum += val * n\r\n",
        "        self.count += n\r\n",
        "        self.avg = self.sum / self.count"
      ],
      "execution_count": null,
      "outputs": []
    },
    {
      "cell_type": "code",
      "metadata": {
        "id": "c03Ec4eXS5I1"
      },
      "source": [
        "import math\r\n",
        "import torch\r\n",
        "from torch.optim import Optimizer\r\n",
        "\r\n",
        "class Adas(Optimizer):\r\n",
        "    r\"\"\"\r\n",
        "    Introduction:\r\n",
        "        For the mathematical part see https://github.com/YanaiEliyahu/AdasOptimizer,\r\n",
        "        the `Theory` section contains the major innovation,\r\n",
        "        and then `How ADAS works` contains more low level details that are still somewhat related to the theory.\r\n",
        "    Arguments:\r\n",
        "        params (iterable): iterable of parameters to optimize or dicts defining parameter groups\r\n",
        "        lr: float > 0. Initial learning rate that is per feature/input (e.g. dense layer with N inputs and M outputs, will have N learning rates).\r\n",
        "        lr2: float >= 0.  lr's Initial learning rate. (just ~1-2 per layer, additonal one because of bias)\r\n",
        "        lr3: float >= 0. lr2's fixed learning rate. (global)\r\n",
        "        beta_1: 0 < float < 1. Preferably close to 1. Second moments decay factor to update lr and lr2 weights.\r\n",
        "        beta_2: 0 < float < 1. Preferably close to 1. 1/(1 - beta_2) steps back in time that `lr`s will be optimized for, larger dataset might require more nines.\r\n",
        "        beta_3: 0 < float < 1. Preferably close to 1. Same as beta_2, but for `lr2`s.\r\n",
        "        epsilon: float >= 0. Fuzz factor. If `None`, defaults to `K.epsilon()`.\r\n",
        "    \"\"\"\r\n",
        "\r\n",
        "    def __init__(self, params,\r\n",
        "            lr = 0.001, lr2 = .005, lr3 = .0005,\r\n",
        "            beta_1 = 0.999, beta_2 = 0.999, beta_3 = 0.9999,\r\n",
        "            epsilon = 1e-8, **kwargs):\r\n",
        "        if not 0.0 <= lr:\r\n",
        "            raise ValueError(\"Invalid lr: {}\".format(lr))\r\n",
        "        if not 0.0 <= lr2:\r\n",
        "            raise ValueError(\"Invalid lr2: {}\".format(lr))\r\n",
        "        if not 0.0 <= lr3:\r\n",
        "            raise ValueError(\"Invalid lr3: {}\".format(lr))\r\n",
        "        if not 0.0 <= epsilon:\r\n",
        "            raise ValueError(\"Invalid epsilon value: {}\".format(eps))\r\n",
        "        if not 0.0 <= beta_1 < 1.0:\r\n",
        "            raise ValueError(\"Invalid beta_1 parameter: {}\".format(betas[0]))\r\n",
        "        if not 0.0 <= beta_2 < 1.0:\r\n",
        "            raise ValueError(\"Invalid beta_2 parameter: {}\".format(betas[1]))\r\n",
        "        if not 0.0 <= beta_3 < 1.0:\r\n",
        "            raise ValueError(\"Invalid beta_3 parameter: {}\".format(betas[2]))\r\n",
        "        defaults = dict(lr=lr, lr2=lr2, lr3=lr3, beta_1=beta_1, beta_2=beta_2, beta_3=beta_3, epsilon=epsilon)\r\n",
        "        self._varn = None\r\n",
        "        self._is_create_slots = None\r\n",
        "        self._curr_var = None\r\n",
        "        self._lr = lr\r\n",
        "        self._lr2 = lr2\r\n",
        "        self._lr3 = lr3\r\n",
        "        self._beta_1 = beta_1\r\n",
        "        self._beta_2 = beta_2\r\n",
        "        self._beta_3 = beta_3\r\n",
        "        self._epsilon = epsilon\r\n",
        "        super(Adas, self).__init__(params, defaults)\r\n",
        "\r\n",
        "    def __setstate__(self, state):\r\n",
        "        super(Adas, self).__setstate__(state)\r\n",
        "\r\n",
        "    @torch.no_grad()\r\n",
        "    def _add(self,x,y):\r\n",
        "        x.add_(y)\r\n",
        "        return x\r\n",
        "\r\n",
        "    @torch.no_grad()\r\n",
        "    # TODO: fix variables' names being too convoluted in _derivatives_normalizer and _get_updates_universal_impl\r\n",
        "    def _derivatives_normalizer(self,derivative,beta):\r\n",
        "        steps = self._make_variable(0,(),derivative.dtype)\r\n",
        "        self._add(steps,1)\r\n",
        "        factor = (1. - (self._beta_1 ** steps)).sqrt()\r\n",
        "        m = self._make_variable(0,derivative.shape,derivative.dtype)\r\n",
        "        moments = self._make_variable(0,derivative.shape,derivative.dtype)\r\n",
        "        m.mul_(self._beta_1).add_((1 - self._beta_1) * derivative * derivative)\r\n",
        "        np_t = derivative * factor / (m.sqrt() + self._epsilon)\r\n",
        "        #the third returned value should be called when the moments is finally unused, so it's updated\r\n",
        "        return (moments,np_t,lambda: moments.mul_(beta).add_((1 - beta) * np_t))\r\n",
        "\r\n",
        "    def _make_variable(self,value,shape,dtype):\r\n",
        "        self._varn += 1\r\n",
        "        name = 'unnamed_variable' + str(self._varn)\r\n",
        "        if self._is_create_slots:\r\n",
        "            self.state[self._curr_var][name] = torch.full(size=shape,fill_value=value,dtype=dtype,device=self._curr_var.device)\r\n",
        "        return self.state[self._curr_var][name]\r\n",
        "\r\n",
        "    @torch.no_grad()\r\n",
        "    def _get_updates_universal_impl(self, grad, param):\r\n",
        "        lr = self._make_variable(value = self._lr,shape=param.shape[1:], dtype=param.dtype)\r\n",
        "        moment, deriv, f = self._derivatives_normalizer(grad,self._beta_3)\r\n",
        "        param.add_( - torch.unsqueeze(lr,0) * deriv)\r\n",
        "        lr_deriv = torch.sum(moment * grad,0)\r\n",
        "        f()\r\n",
        "        master_lr = self._make_variable(self._lr2,(),dtype=torch.float32)\r\n",
        "        m2,d2, f = self._derivatives_normalizer(lr_deriv,self._beta_2)\r\n",
        "        self._add(lr,master_lr * lr * d2)\r\n",
        "        master_lr_deriv2 = torch.sum(m2 * lr_deriv)\r\n",
        "        f()\r\n",
        "        m3,d3,f = self._derivatives_normalizer(master_lr_deriv2,0.)\r\n",
        "        self._add(master_lr,self._lr3 * master_lr * d3)\r\n",
        "        f()\r\n",
        "\r\n",
        "    @torch.no_grad()\r\n",
        "    def _get_updates_universal(self, param, grad, is_create_slots):\r\n",
        "        self._curr_var = param\r\n",
        "        self._is_create_slots = is_create_slots\r\n",
        "        self._varn = 0\r\n",
        "        return self._get_updates_universal_impl(grad,self._curr_var.data)\r\n",
        "\r\n",
        "    @torch.no_grad()\r\n",
        "    def step(self, closure=None):\r\n",
        "        \"\"\"Performs a single optimization step.\r\n",
        "        Arguments:\r\n",
        "            closure (callable, optional): A closure that reevaluates the model\r\n",
        "                and returns the loss.\r\n",
        "        \"\"\"\r\n",
        "        loss = None\r\n",
        "        if closure is not None:\r\n",
        "            with torch.enable_grad():\r\n",
        "                loss = closure()\r\n",
        "\r\n",
        "        for group in self.param_groups:\r\n",
        "            for p in group['params']:\r\n",
        "                if p.grad is None:\r\n",
        "                    continue\r\n",
        "                grad = p.grad.data\r\n",
        "                if grad.is_sparse:\r\n",
        "                    raise RuntimeError('Adas does not support sparse gradients')\r\n",
        "                self._get_updates_universal(p,grad,len(self.state[p]) == 0)\r\n",
        "        return loss"
      ],
      "execution_count": null,
      "outputs": []
    },
    {
      "cell_type": "code",
      "metadata": {
        "id": "lO7TMr08tBbP"
      },
      "source": [
        "class mAPScore:\r\n",
        "    def __init__(self, gt_json, pred_json):\r\n",
        "        self.gt_json = gt_json\r\n",
        "        self.pred_json = pred_json\r\n",
        "        self.coco_gt = COCO(gt_json)\r\n",
        "        self.get_image_ids()\r\n",
        "\r\n",
        "    def get_image_ids(self):\r\n",
        "        self.image_ids = []\r\n",
        "        with open(self.pred_json, 'r') as f:\r\n",
        "            data = json.load(f)\r\n",
        "            for item in data:\r\n",
        "                image_id = item['image_id']\r\n",
        "                self.image_ids.append(image_id)\r\n",
        "\r\n",
        "    def evaluate(self):\r\n",
        "        coco_pred = self.coco_gt.loadRes(self.pred_json)\r\n",
        "\r\n",
        "        coco_eval = COCOeval(self.coco_gt, coco_pred, 'bbox')\r\n",
        "        coco_eval.params.imgIds = self.image_ids\r\n",
        "\r\n",
        "        coco_eval.params.iouThrs = np.array([0.4])\r\n",
        "\r\n",
        "        coco_eval.evaluate()\r\n",
        "        coco_eval.accumulate()\r\n",
        "        coco_eval.summarize()\r\n",
        "        stats = coco_eval.stats\r\n",
        "        return stats"
      ],
      "execution_count": null,
      "outputs": []
    },
    {
      "cell_type": "code",
      "metadata": {
        "id": "PdEmHTi6OJok"
      },
      "source": [
        "def to_format(image_id, boxes, scores, labels):\r\n",
        "    result = [0]*len(labels)\r\n",
        "    boxes = boxes.tolist()\r\n",
        "    labels = labels.tolist()\r\n",
        "    scores = scores.tolist()\r\n",
        "    for i in range(len(labels)):\r\n",
        "        result[i] = {\r\n",
        "            'image_id': image_id,\r\n",
        "            'category_id': labels[i],\r\n",
        "            'score': scores[i],\r\n",
        "            'bbox': [boxes[i][0], boxes[i][1], boxes[i][2]-boxes[i][0], boxes[i][3]-boxes[i][1]]\r\n",
        "        }\r\n",
        "    return result\r\n",
        "\r\n",
        "image_name_to_id = {}\r\n",
        "with open(config['gt']) as json_file:\r\n",
        "    data = json.load(json_file)['images']\r\n",
        "    for i in data:\r\n",
        "        image_name_to_id[i['file_name']] = i['id']\r\n",
        "\r\n",
        "def mAP(df, gt, iou = config['iou_thr']):\r\n",
        "\r\n",
        "    df = np.array([\r\n",
        "                   df['ImageID'],\r\n",
        "                   np.array(df['LabelName']).astype(np.int32),\r\n",
        "                   df['Conf'],\r\n",
        "                   df['XMin'],\r\n",
        "                   df['YMin'],\r\n",
        "                   df['XMax'],\r\n",
        "                   df['YMax']\r\n",
        "                   ]).T\r\n",
        "    \r\n",
        "    gt = np.array([\r\n",
        "                   gt['ImageID'],\r\n",
        "                   np.array(gt['LabelName']).astype(np.int32),\r\n",
        "                   gt['XMin'],\r\n",
        "                   gt['YMin'],\r\n",
        "                   gt['XMax'],\r\n",
        "                   gt['YMax']\r\n",
        "                   ]).T\r\n",
        "    \r\n",
        "    return mean_average_precision_for_boxes(gt,\r\n",
        "                                            df,\r\n",
        "                                            iou_threshold = iou, verbose = True)"
      ],
      "execution_count": null,
      "outputs": []
    },
    {
      "cell_type": "code",
      "metadata": {
        "id": "jkXmnpWES9rd"
      },
      "source": [
        "class Fitter:\r\n",
        "    def __init__(self,\r\n",
        "                 model,\r\n",
        "                 optimizer,\r\n",
        "                 lr_scheduler,\r\n",
        "                 valid_scheduler,\r\n",
        "                 debug = 100):\r\n",
        "        \r\n",
        "        self.epoch = config['weight_epoch']\r\n",
        "\r\n",
        "        self.device = torch.device('cuda') if torch.cuda.is_available() else torch.device('cpu')\r\n",
        "        self.model = model\r\n",
        "        self.model.to(self.device)\r\n",
        "\r\n",
        "        self.optimizer = optimizer\r\n",
        "        self.lr_scheduler = lr_scheduler\r\n",
        "        self.valid_scheduler = valid_scheduler\r\n",
        "\r\n",
        "        self.debug = debug\r\n",
        "\r\n",
        "        if not os.path.exists(config['save_dir']):\r\n",
        "            os.makedirs(config['save_dir'])\r\n",
        "\r\n",
        "    def fit(self, train_loader, valid_loader, n_epochs, debug = False):\r\n",
        "        for e in range(config['weight_epoch'], n_epochs):\r\n",
        "            print('EPOCH:',e,'LR:',self.optimizer.param_groups[0]['lr'])\r\n",
        "            t = time.time()\r\n",
        "            summary_loss = self.train_one_epoch(train_loader, debug)\r\n",
        "\r\n",
        "            self.model.eval()\r\n",
        "            torch.save(self.model.state_dict(), config['save_dir']+f\"/model_state_epoch_{str(self.epoch).zfill(3)}.pth\")\r\n",
        "\r\n",
        "            t = time.time()\r\n",
        "            mAP04 = self.validation(valid_loader, debug)[0]\r\n",
        "\r\n",
        "            if (config['valid_scheduler']):\r\n",
        "                self.valid_scheduler.step(metrics=mAP04)\r\n",
        "\r\n",
        "            self.epoch += 1\r\n",
        "\r\n",
        "    def train_one_epoch(self, train_loader, debug):\r\n",
        "        self.model.train()\r\n",
        "        summary_loss = AverageMeter()\r\n",
        "        self.optimizer.zero_grad()\r\n",
        "        \r\n",
        "        step = 0\r\n",
        "        loss_mini_batch = 0\r\n",
        "\r\n",
        "        train_stt = tqdm(train_loader)\r\n",
        "        for step, (images, targets, image_ids) in enumerate(train_stt):\r\n",
        "            if (step%config['iter_size'] != 0):\r\n",
        "                train_stt.set_description(f\"Loss: {summary_loss.avg:.5f}, Loss batch: {(loss_mini_batch/(step%config['iter_size'])):.5f}\")\r\n",
        "            else:\r\n",
        "                train_stt.set_description(f\"Loss: {summary_loss.avg:.5f}, Loss batch: 0.00000\")\r\n",
        "            \r\n",
        "            images = list(image.to(device) for image in images)\r\n",
        "            targets = [{k: v.to(device) for k, v in t.items()} for t in targets]\r\n",
        "\r\n",
        "            loss_dict = self.model(images, targets)\r\n",
        "            losses = sum(loss for loss in loss_dict.values()) + loss_dict['loss_rpn_box_reg'] + loss_dict['loss_box_reg']\r\n",
        "            loss_mini_batch += losses.item()\r\n",
        "\r\n",
        "            losses.backward()\r\n",
        "\r\n",
        "            if (step+1) % config['iter_size'] == 0:\r\n",
        "                self.optimizer.step()\r\n",
        "                self.optimizer.zero_grad()\r\n",
        "                loss_mini_batch = 0\r\n",
        "                if (config['scheduler']):\r\n",
        "                    self.lr_scheduler.step()\r\n",
        "\r\n",
        "            summary_loss.update(losses.item(), len(images))\r\n",
        "\r\n",
        "            step += 1\r\n",
        "            if (debug):\r\n",
        "                if (step > self.debug):\r\n",
        "                    break\r\n",
        "\r\n",
        "    def validation(self, valid_loader, debug):\r\n",
        "        self.model.eval()\r\n",
        "        valid_stt = tqdm(valid_loader)\r\n",
        "        json_data = []\r\n",
        "        df = {'ImageID': [], 'LabelName': [], 'Conf':[], 'XMin': [], 'XMax': [], 'YMin': [], 'YMax': []}\r\n",
        "        gt = {'ImageID': [], 'LabelName': [], 'XMin': [], 'XMax': [], 'YMin': [], 'YMax': []}\r\n",
        "\r\n",
        "        with torch.no_grad():\r\n",
        "            for step, (images, targets, image_ids) in enumerate(valid_stt):\r\n",
        "                valid_stt.set_description(f\"Num boxes: {len(df['ImageID'])}\")\r\n",
        "\r\n",
        "                images = list(image.to(device) for image in images)\r\n",
        "                batch_size = len(images)\r\n",
        "                pred = self.model(images)\r\n",
        "\r\n",
        "                for i in range(batch_size):\r\n",
        "                    _, h,w = images[i].cpu().detach().numpy().shape\r\n",
        "\r\n",
        "                    boxes  = pred[i]['boxes'].cpu().detach().numpy()\r\n",
        "                    labels =  pred[i]['labels'].cpu().detach().numpy()\r\n",
        "                    scores =  pred[i]['scores'].cpu().detach().numpy()\r\n",
        "\r\n",
        "                    boxes[:, 0] = (boxes[:, 0] / w)\r\n",
        "                    boxes[:, 1] = (boxes[:, 1] / h)\r\n",
        "                    boxes[:, 2] = (boxes[:, 2] / w)\r\n",
        "                    boxes[:, 3] = (boxes[:, 3] / h)\r\n",
        "\r\n",
        "                    target_boxes = targets[i]['boxes'].cpu().detach().numpy()\r\n",
        "                    target_labels = targets[i]['labels'].cpu().detach().numpy()\r\n",
        "\r\n",
        "                    target_boxes[:, 0] = (target_boxes[:, 0] / w)\r\n",
        "                    target_boxes[:, 1] = (target_boxes[:, 1] / h)\r\n",
        "                    target_boxes[:, 2] = (target_boxes[:, 2] / w)\r\n",
        "                    target_boxes[:, 3] = (target_boxes[:, 3] / h)\r\n",
        "\r\n",
        "                    \r\n",
        "                    boxes, scores, labels = weighted_boxes_fusion([boxes], [scores], [labels],\r\n",
        "                                                                weights=None,\r\n",
        "                                                                iou_thr=config['infer_iou_thr'],\r\n",
        "                                                                skip_box_thr=config['skip_box_thr'])\r\n",
        "                    \r\n",
        "                    \r\n",
        "                    labels = labels.astype(np.int32)\r\n",
        "                    target_labels = target_labels.astype(np.int32)\r\n",
        "                    \r\n",
        "\r\n",
        "                    df['ImageID'] += [image_ids[i]]*len(boxes)\r\n",
        "                    df['LabelName'] += labels.tolist()\r\n",
        "                    df['Conf'] += scores.tolist()\r\n",
        "                    df['XMin'] += boxes[:,0].tolist()\r\n",
        "                    df['YMin'] += boxes[:,1].tolist()\r\n",
        "                    df['XMax'] += boxes[:,2].tolist()\r\n",
        "                    df['YMax'] += boxes[:,3].tolist()\r\n",
        "\r\n",
        "                    gt['ImageID'] += [image_ids[i]]*len(target_boxes)\r\n",
        "                    gt['LabelName'] += target_labels.tolist()\r\n",
        "                    gt['XMin'] += target_boxes[:,0].tolist()\r\n",
        "                    gt['YMin'] += target_boxes[:,1].tolist()\r\n",
        "                    gt['XMax'] += target_boxes[:,2].tolist()\r\n",
        "                    gt['YMax'] += target_boxes[:,3].tolist()\r\n",
        "\r\n",
        "                    #json_data += to_format(image_name_to_id[image_ids[i]+'.png'], boxes*512, scores, labels-1)\r\n",
        "\r\n",
        "                step += 1\r\n",
        "                if (debug):\r\n",
        "                    if (step > self.debug):\r\n",
        "                        break\r\n",
        "\r\n",
        "            mAP04 = mAP(df, gt, 0.4)\r\n",
        "\r\n",
        "            if (len(json_data) > 0):\r\n",
        "                with open('eval.json', 'w') as f:\r\n",
        "                    json.dump(json_data, f)\r\n",
        "\r\n",
        "                #mAPScore(config['gt'], 'eval.json').evaluate()\r\n",
        "            \r\n",
        "        return mAP04"
      ],
      "execution_count": null,
      "outputs": []
    },
    {
      "cell_type": "code",
      "metadata": {
        "id": "2fKYwhH3GOf9",
        "colab": {
          "base_uri": "https://localhost:8080/",
          "height": 84,
          "referenced_widgets": [
            "98123419168149b383702e1377d2c4db",
            "5b1f3813b9bd4d028275fb5ae048c10c",
            "f114f9fdc7e2408e900a54237c8a60a6",
            "9454bf127dba4003a933e79bf6a726a6",
            "c5ddb33e92004c50a19223e5dd66460e",
            "0fe4421547ad427d9fe4752fb6ccffd7",
            "60293e4f5c5247cd99c2f2e3e04361ab",
            "ee0c5e1238594e8bb3579d74818f24ee"
          ]
        },
        "outputId": "83552327-e2ae-4dc8-ed46-079df13dae8c"
      },
      "source": [
        "def load_net(pretrained=False, progress=True,\r\n",
        "             num_classes=config['num_classes'], pretrained_backbone=True,\r\n",
        "             trainable_backbone_layers=5,  **kwargs):\r\n",
        "    assert trainable_backbone_layers <= 5 and trainable_backbone_layers >= 0\r\n",
        "    # dont freeze any layers if pretrained model or backbone is not used\r\n",
        "    if not (pretrained or pretrained_backbone):\r\n",
        "        trainable_backbone_layers = 5\r\n",
        "    if pretrained:\r\n",
        "        # no need to download the backbone if pretrained is set\r\n",
        "        pretrained_backbone = False\r\n",
        "    backbone = resnet_fpn_backbone('resnet152', pretrained_backbone, trainable_layers=trainable_backbone_layers)\r\n",
        "    model = FasterRCNN(backbone, num_classes, **kwargs)\r\n",
        "    model.to(config['device'])\r\n",
        "\r\n",
        "    return model\r\n",
        "\r\n",
        "net = load_net()\r\n",
        "if (config['WEIGHT_PATH']):\r\n",
        "    net.load_state_dict(torch.load(config['WEIGHT_PATH'], map_location=config['device']))"
      ],
      "execution_count": null,
      "outputs": [
        {
          "output_type": "stream",
          "text": [
            "Downloading: \"https://download.pytorch.org/models/resnet152-b121ed2d.pth\" to /root/.cache/torch/hub/checkpoints/resnet152-b121ed2d.pth\n"
          ],
          "name": "stderr"
        },
        {
          "output_type": "display_data",
          "data": {
            "application/vnd.jupyter.widget-view+json": {
              "model_id": "98123419168149b383702e1377d2c4db",
              "version_minor": 0,
              "version_major": 2
            },
            "text/plain": [
              "HBox(children=(FloatProgress(value=0.0, max=241530880.0), HTML(value='')))"
            ]
          },
          "metadata": {
            "tags": []
          }
        },
        {
          "output_type": "stream",
          "text": [
            "\n"
          ],
          "name": "stdout"
        }
      ]
    },
    {
      "cell_type": "code",
      "metadata": {
        "id": "fyPkTCz8Wzgy"
      },
      "source": [
        "def collate_fn(batch):\r\n",
        "    return tuple(zip(*batch))\r\n",
        "\r\n",
        "def run_training(debug = False):\r\n",
        "    \r\n",
        "    train_data_loader = torch.utils.data.DataLoader(\r\n",
        "        train_dataset,\r\n",
        "        batch_size=config['batch_size'],\r\n",
        "        sampler=RandomSampler(train_dataset),\r\n",
        "        pin_memory=True,\r\n",
        "        drop_last=True,\r\n",
        "        num_workers=multiprocessing.cpu_count(),\r\n",
        "        collate_fn=collate_fn,\r\n",
        "    )\r\n",
        "    \r\n",
        "    valid_data_loader = torch.utils.data.DataLoader(\r\n",
        "        validation_dataset,\r\n",
        "        batch_size=config['batch_size'],\r\n",
        "        num_workers=multiprocessing.cpu_count(),\r\n",
        "        shuffle=False,\r\n",
        "        sampler=SequentialSampler(validation_dataset),\r\n",
        "        pin_memory=True,\r\n",
        "        collate_fn=collate_fn,\r\n",
        "    )\r\n",
        "\r\n",
        "    optimizer = Adas([p for p in net.parameters() if p.requires_grad], lr=config['lr'])\r\n",
        "    lr_scheduler = torch.optim.lr_scheduler.CosineAnnealingWarmRestarts(optimizer,\r\n",
        "                                                                T_0=100,\r\n",
        "                                                                T_mult=1,\r\n",
        "                                                                eta_min=0.0001,\r\n",
        "                                                                last_epoch=-1,\r\n",
        "                                                                verbose = False)\r\n",
        "    \r\n",
        "    valid_scheduler = torch.optim.lr_scheduler.ReduceLROnPlateau(optimizer, mode='max', factor=0.1, patience=5, threshold=0.0001, threshold_mode='rel', cooldown=0, min_lr=0, eps=1e-08, verbose=True)\r\n",
        "\r\n",
        "    fitter = Fitter(model = net, optimizer = optimizer, lr_scheduler = lr_scheduler, valid_scheduler = valid_scheduler)\r\n",
        "    fitter.fit(train_data_loader, valid_data_loader, n_epochs = config['n_epochs'], debug = debug)"
      ],
      "execution_count": null,
      "outputs": []
    },
    {
      "cell_type": "code",
      "metadata": {
        "id": "d1YYjHXAW_1k",
        "colab": {
          "base_uri": "https://localhost:8080/"
        },
        "outputId": "423465be-3529-403b-e377-2dba2a763d53"
      },
      "source": [
        "run_training(config['debug'])"
      ],
      "execution_count": null,
      "outputs": [
        {
          "output_type": "stream",
          "text": [
            "\r  0%|          | 0/1729 [00:00<?, ?it/s]"
          ],
          "name": "stderr"
        },
        {
          "output_type": "stream",
          "text": [
            "EPOCH: 0 LR: 0.0001\n"
          ],
          "name": "stdout"
        },
        {
          "output_type": "stream",
          "text": [
            "Loss: 1.53365, Loss batch: 0.00000: 100%|██████████| 1729/1729 [50:25<00:00,  1.75s/it]\n",
            "Num boxes: 26909: 100%|██████████| 431/431 [07:44<00:00,  1.08s/it]\n"
          ],
          "name": "stderr"
        },
        {
          "output_type": "stream",
          "text": [
            "Number of files in annotations: 1722\n",
            "Number of files in predictions: 1655\n",
            "Unique classes: 15\n",
            "Detections length: 1655\n",
            "Annotations length: 1722\n",
            "0                              | 0.000000 |    1239\n",
            "1                              | 0.000000 |    1832\n",
            "10                             | 0.000000 |     523\n",
            "11                             | 0.000000 |     603\n",
            "12                             | 0.000000 |    1180\n",
            "13                             | 0.000000 |      43\n",
            "14                             | 0.000000 |    1168\n",
            "2                              | 0.000000 |      76\n",
            "3                              | 0.000000 |     237\n",
            "4                              | 0.000001 |    1345\n"
          ],
          "name": "stdout"
        },
        {
          "output_type": "stream",
          "text": [
            "\r  0%|          | 0/1729 [00:00<?, ?it/s]"
          ],
          "name": "stderr"
        },
        {
          "output_type": "stream",
          "text": [
            "5                              | 0.000000 |     120\n",
            "6                              | 0.000000 |     244\n",
            "7                              | 0.000000 |     314\n",
            "8                              | 0.000000 |     627\n",
            "9                              | 0.000000 |     627\n",
            "mAP: 0.000000\n",
            "EPOCH: 1 LR: 0.0001\n"
          ],
          "name": "stdout"
        },
        {
          "output_type": "stream",
          "text": [
            "Loss: 0.89167, Loss batch: 0.00000: 100%|██████████| 1729/1729 [50:54<00:00,  1.77s/it]\n",
            "Num boxes: 80630: 100%|██████████| 431/431 [07:38<00:00,  1.06s/it]\n"
          ],
          "name": "stderr"
        },
        {
          "output_type": "stream",
          "text": [
            "Number of files in annotations: 1722\n",
            "Number of files in predictions: 1722\n",
            "Unique classes: 15\n",
            "Detections length: 1722\n",
            "Annotations length: 1722\n",
            "0                              | 0.000000 |    1212\n",
            "1                              | 0.000000 |    1793\n",
            "10                             | 0.000000 |     521\n",
            "11                             | 0.000000 |     640\n",
            "12                             | 0.000000 |    1180\n",
            "13                             | 0.000000 |      59\n",
            "14                             | 0.000000 |    1177\n",
            "2                              | 0.000000 |      85\n",
            "3                              | 0.000000 |     215\n"
          ],
          "name": "stdout"
        },
        {
          "output_type": "stream",
          "text": [
            "\r  0%|          | 0/1729 [00:00<?, ?it/s]"
          ],
          "name": "stderr"
        },
        {
          "output_type": "stream",
          "text": [
            "4                              | 0.000012 |    1336\n",
            "5                              | 0.000000 |     137\n",
            "6                              | 0.000000 |     256\n",
            "7                              | 0.000000 |     346\n",
            "8                              | 0.000000 |     652\n",
            "9                              | 0.000000 |     539\n",
            "mAP: 0.000001\n",
            "EPOCH: 2 LR: 0.0001\n"
          ],
          "name": "stdout"
        },
        {
          "output_type": "stream",
          "text": [
            "Loss: 0.85110, Loss batch: 0.00000: 100%|██████████| 1729/1729 [51:58<00:00,  1.80s/it]\n",
            "Num boxes: 79398: 100%|██████████| 431/431 [07:57<00:00,  1.11s/it]\n"
          ],
          "name": "stderr"
        },
        {
          "output_type": "stream",
          "text": [
            "Number of files in annotations: 1722\n",
            "Number of files in predictions: 1722\n",
            "Unique classes: 15\n",
            "Detections length: 1722\n",
            "Annotations length: 1722\n",
            "0                              | 0.000000 |    1244\n",
            "1                              | 0.000000 |    1848\n",
            "10                             | 0.000000 |     529\n",
            "11                             | 0.000020 |     609\n",
            "12                             | 0.000000 |    1175\n",
            "13                             | 0.000000 |      48\n",
            "14                             | 0.000000 |    1213\n",
            "2                              | 0.000000 |      85\n",
            "3                              | 0.000000 |     244\n"
          ],
          "name": "stdout"
        },
        {
          "output_type": "stream",
          "text": [
            "\r  0%|          | 0/1729 [00:00<?, ?it/s]"
          ],
          "name": "stderr"
        },
        {
          "output_type": "stream",
          "text": [
            "4                              | 0.000021 |    1353\n",
            "5                              | 0.000000 |     133\n",
            "6                              | 0.000000 |     251\n",
            "7                              | 0.000000 |     340\n",
            "8                              | 0.000000 |     643\n",
            "9                              | 0.000000 |     560\n",
            "mAP: 0.000003\n",
            "EPOCH: 3 LR: 0.0001\n"
          ],
          "name": "stdout"
        },
        {
          "output_type": "stream",
          "text": [
            "Loss: 0.80349, Loss batch: 0.00000: 100%|██████████| 1729/1729 [52:19<00:00,  1.82s/it]\n",
            "Num boxes: 43717: 100%|██████████| 431/431 [07:44<00:00,  1.08s/it]\n"
          ],
          "name": "stderr"
        },
        {
          "output_type": "stream",
          "text": [
            "Number of files in annotations: 1722\n",
            "Number of files in predictions: 1721\n",
            "Unique classes: 15\n",
            "Detections length: 1721\n",
            "Annotations length: 1722\n",
            "0                              | 0.000000 |    1189\n",
            "1                              | 0.000000 |    1801\n",
            "10                             | 0.000000 |     560\n",
            "11                             | 0.003363 |     624\n",
            "12                             | 0.000486 |    1191\n",
            "13                             | 0.000000 |      47\n",
            "14                             | 0.000000 |    1186\n",
            "2                              | 0.000000 |      86\n",
            "3                              | 0.000000 |     233\n",
            "4                              | 0.000101 |    1376\n",
            "5                              | 0.000000 |     121\n",
            "6                              | 0.000000 |     265\n",
            "7                              | 0.000000 |     341\n",
            "8                              | 0.000000 |     615\n",
            "9                              | 0.000000 |     525\n",
            "mAP: 0.000263\n"
          ],
          "name": "stdout"
        },
        {
          "output_type": "stream",
          "text": [
            "\r  0%|          | 0/1729 [00:00<?, ?it/s]"
          ],
          "name": "stderr"
        },
        {
          "output_type": "stream",
          "text": [
            "EPOCH: 4 LR: 0.0001\n"
          ],
          "name": "stdout"
        },
        {
          "output_type": "stream",
          "text": [
            "Loss: 0.80344, Loss batch: 0.00000: 100%|██████████| 1729/1729 [51:36<00:00,  1.79s/it]\n",
            "Num boxes: 24564: 100%|██████████| 431/431 [07:56<00:00,  1.10s/it]\n"
          ],
          "name": "stderr"
        },
        {
          "output_type": "stream",
          "text": [
            "Number of files in annotations: 1722\n",
            "Number of files in predictions: 1722\n",
            "Unique classes: 15\n",
            "Detections length: 1722\n",
            "Annotations length: 1722\n",
            "0                              | 0.000000 |    1241\n",
            "1                              | 0.000000 |    1788\n",
            "10                             | 0.000982 |     509\n",
            "11                             | 0.007466 |     612\n",
            "12                             | 0.001036 |    1227\n",
            "13                             | 0.000000 |      47\n",
            "14                             | 0.000032 |    1233\n",
            "2                              | 0.000000 |      82\n",
            "3                              | 0.001443 |     231\n",
            "4                              | 0.000000 |    1336\n",
            "5                              | 0.000000 |     128\n",
            "6                              | 0.000000 |     249\n",
            "7                              | 0.000000 |     343\n",
            "8                              | 0.000077 |     646\n"
          ],
          "name": "stdout"
        },
        {
          "output_type": "stream",
          "text": [
            "\r  0%|          | 0/1729 [00:00<?, ?it/s]"
          ],
          "name": "stderr"
        },
        {
          "output_type": "stream",
          "text": [
            "9                              | 0.009411 |     540\n",
            "mAP: 0.001363\n",
            "EPOCH: 5 LR: 0.0001\n"
          ],
          "name": "stdout"
        },
        {
          "output_type": "stream",
          "text": [
            "Loss: 0.81494, Loss batch: 0.00000: 100%|██████████| 1729/1729 [52:20<00:00,  1.82s/it]\n",
            "Num boxes: 130822: 100%|██████████| 431/431 [08:01<00:00,  1.12s/it]\n"
          ],
          "name": "stderr"
        },
        {
          "output_type": "stream",
          "text": [
            "Number of files in annotations: 1722\n",
            "Number of files in predictions: 1722\n",
            "Unique classes: 15\n",
            "Detections length: 1722\n",
            "Annotations length: 1722\n",
            "0                              | 0.000000 |    1240\n",
            "1                              | 0.000000 |    1805\n",
            "10                             | 0.000434 |     536\n",
            "11                             | 0.013687 |     605\n",
            "12                             | 0.000540 |    1210\n",
            "13                             | 0.000000 |      46\n",
            "14                             | 0.000268 |    1191\n",
            "2                              | 0.000000 |      87\n",
            "3                              | 0.000576 |     242\n",
            "4                              | 0.000011 |    1349\n",
            "5                              | 0.000000 |     122\n",
            "6                              | 0.001005 |     245\n",
            "7                              | 0.000328 |     323\n",
            "8                              | 0.001246 |     626\n"
          ],
          "name": "stdout"
        },
        {
          "output_type": "stream",
          "text": [
            "\r  0%|          | 0/1729 [00:00<?, ?it/s]"
          ],
          "name": "stderr"
        },
        {
          "output_type": "stream",
          "text": [
            "9                              | 0.004432 |     556\n",
            "mAP: 0.001502\n",
            "EPOCH: 6 LR: 0.0001\n"
          ],
          "name": "stdout"
        },
        {
          "output_type": "stream",
          "text": [
            "Loss: 0.81543, Loss batch: 0.00000: 100%|██████████| 1729/1729 [51:28<00:00,  1.79s/it]\n",
            "Num boxes: 29284: 100%|██████████| 431/431 [07:42<00:00,  1.07s/it]\n"
          ],
          "name": "stderr"
        },
        {
          "output_type": "stream",
          "text": [
            "Number of files in annotations: 1722\n",
            "Number of files in predictions: 1716\n",
            "Unique classes: 15\n",
            "Detections length: 1716\n",
            "Annotations length: 1722\n",
            "0                              | 0.000000 |    1232\n",
            "1                              | 0.000000 |    1808\n",
            "10                             | 0.000709 |     564\n",
            "11                             | 0.053487 |     645\n",
            "12                             | 0.001410 |    1186\n",
            "13                             | 0.000000 |      54\n",
            "14                             | 0.000520 |    1148\n",
            "2                              | 0.000000 |      76\n",
            "3                              | 0.007131 |     238\n"
          ],
          "name": "stdout"
        },
        {
          "output_type": "stream",
          "text": [
            "\r  0%|          | 0/1729 [00:00<?, ?it/s]"
          ],
          "name": "stderr"
        },
        {
          "output_type": "stream",
          "text": [
            "4                              | 0.000174 |    1368\n",
            "5                              | 0.000000 |     127\n",
            "6                              | 0.001966 |     265\n",
            "7                              | 0.002193 |     344\n",
            "8                              | 0.009273 |     667\n",
            "9                              | 0.013431 |     516\n",
            "mAP: 0.006020\n",
            "EPOCH: 7 LR: 0.0001\n"
          ],
          "name": "stdout"
        },
        {
          "output_type": "stream",
          "text": [
            "Loss: 0.83276, Loss batch: 0.68406:  56%|█████▌    | 971/1729 [28:43<22:03,  1.75s/it]"
          ],
          "name": "stderr"
        }
      ]
    }
  ]
}