{
 "cells": [
  {
   "cell_type": "code",
   "execution_count": null,
   "id": "decimal-facility",
   "metadata": {},
   "outputs": [],
   "source": [
    "import pandas as pd\n",
    "import numpy as np\n",
    "from commons import *\n",
    "\n",
    "%matplotlib inline\n",
    "from matplotlib import pyplot as plt"
   ]
  },
  {
   "cell_type": "code",
   "execution_count": null,
   "metadata": {},
   "outputs": [],
   "source": [
    "CSV_TRAIN       = './train.csv'\n",
    "DATA_DIR        = '../inputs/512/train/'\n",
    "RESIZE          = 512\n",
    "IGNORE_CLASSES  = [14]"
   ]
  },
  {
   "cell_type": "code",
   "execution_count": null,
   "id": "cheap-dodge",
   "metadata": {},
   "outputs": [],
   "source": [
    "df_train = pd.read_csv(CSV_TRAIN)"
   ]
  },
  {
   "cell_type": "code",
   "execution_count": null,
   "metadata": {},
   "outputs": [],
   "source": [
    "df_train.head()"
   ]
  },
  {
   "cell_type": "code",
   "execution_count": null,
   "metadata": {},
   "outputs": [],
   "source": [
    "dataset = YoloDataset(df_train.copy())"
   ]
  },
  {
   "cell_type": "code",
   "execution_count": null,
   "metadata": {},
   "outputs": [],
   "source": [
    "dataset.write_one_annotation(\n",
    "                image_id='9a5094b2563a1ef3ff50dc5c7ff71345',\n",
    "                save_dir='.cache'\n",
    "            )"
   ]
  },
  {
   "cell_type": "code",
   "execution_count": null,
   "metadata": {},
   "outputs": [],
   "source": [
    "dataset.write_all_annotations(\n",
    "                save_dir='./train',\n",
    "            )"
   ]
  },
  {
   "cell_type": "code",
   "execution_count": null,
   "metadata": {},
   "outputs": [],
   "source": [
    "bboxes = get_bboxes_xyxy_resized(\n",
    "    size=512, img_id=\"0dc7b1615100b4f5d3ae294bae0d5d43\", database=df_train\n",
    ")\n",
    "plt_bboxes(os.path.join(DATA_DIR, \"0dc7b1615100b4f5d3ae294bae0d5d43.png\"), bboxes)"
   ]
  }
 ],
 "metadata": {
  "kernelspec": {
   "name": "python3",
   "display_name": "Python 3.8.5 64-bit ('pytorch': conda)",
   "metadata": {
    "interpreter": {
     "hash": "1725e4b86ff19338a53d4ef169514e253a1b0f8de876b4a2efd8908323f84c9f"
    }
   }
  },
  "language_info": {
   "codemirror_mode": {
    "name": "ipython",
    "version": 3
   },
   "file_extension": ".py",
   "mimetype": "text/x-python",
   "name": "python",
   "nbconvert_exporter": "python",
   "pygments_lexer": "ipython3",
   "version": "3.8.5-final"
  }
 },
 "nbformat": 4,
 "nbformat_minor": 5
}